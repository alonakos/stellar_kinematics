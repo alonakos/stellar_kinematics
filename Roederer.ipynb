{
 "cells": [
  {
   "cell_type": "code",
   "execution_count": null,
   "metadata": {},
   "outputs": [],
   "source": []
  },
  {
   "cell_type": "code",
   "execution_count": 1,
   "metadata": {
    "scrolled": true
   },
   "outputs": [],
   "source": [
    "import modules\n",
    "import math\n",
    "import numpy as np\n",
    "import astropy.units as u\n",
    "import matplotlib.pyplot as plt\n",
    "import pandas as pd\n",
    "import plotly.express as px\n",
    "from astropy.coordinates.sky_coordinate import SkyCoord\n",
    "from astropy.units import Quantity\n",
    "from astroquery.gaia import Gaia\n",
    "from astropy.table import Table\n",
    "\n",
    "import plotly.graph_objects as go\n",
    "from plotly.subplots import make_subplots\n",
    "\n",
    "plt.rcParams['figure.figsize']=(16.,9.)"
   ]
  },
  {
   "cell_type": "code",
   "execution_count": 2,
   "metadata": {},
   "outputs": [
    {
     "name": "stdout",
     "output_type": "stream",
     "text": [
      "INFO: Login to gaia TAP server [astroquery.gaia.core]\n"
     ]
    },
    {
     "name": "stdin",
     "output_type": "stream",
     "text": [
      "User:  asahoo01\n",
      "Password:  ········\n"
     ]
    },
    {
     "name": "stdout",
     "output_type": "stream",
     "text": [
      "OK\n",
      "INFO: Login to gaia data server [astroquery.gaia.core]\n",
      "OK\n"
     ]
    }
   ],
   "source": [
    "Gaia.login()"
   ]
  },
  {
   "cell_type": "code",
   "execution_count": 3,
   "metadata": {},
   "outputs": [],
   "source": [
    "# load the data\n",
    "Roederer2014_stars = pd.read_csv('star_data/Roederer2014.txt', header=None, sep='\\s+')[2:]\n",
    "\n",
    "# NOTE: ERROR IN DATA FOR FIRST ENTRY HENCE REMOVED:22166-016\n",
    "# 014.5993458  -14.7852417  R  22166-016    12.75   0.025   0.63   1.92  4900    1.75   1.50  -3.09  -210.0  1  1  39  233  244    115     0.08  Simbad  014.59935  -14.78524\n",
    "\n",
    "# reset indexing\n",
    "Roederer2014_stars.reset_index(drop=True, inplace=True)"
   ]
  },
  {
   "cell_type": "code",
   "execution_count": 4,
   "metadata": {},
   "outputs": [],
   "source": [
    "ras_roederer = Roederer2014_stars[0]\n",
    "decs_roederer = Roederer2014_stars[1]\n",
    "names_roederer = Roederer2014_stars[4]\n",
    "rv_roederer = Roederer2014_stars[13]"
   ]
  },
  {
   "cell_type": "code",
   "execution_count": 5,
   "metadata": {},
   "outputs": [
    {
     "data": {
      "text/plain": [
       "0      22169-008\n",
       "1      22169-035\n",
       "2      22171-031\n",
       "3      22171-037\n",
       "4      22172-029\n",
       "         ...    \n",
       "307    0938+0114\n",
       "308    1012-1540\n",
       "309    1124-2335\n",
       "310    1320-1339\n",
       "311        99423\n",
       "Name: 4, Length: 312, dtype: object"
      ]
     },
     "execution_count": 5,
     "metadata": {},
     "output_type": "execute_result"
    }
   ],
   "source": [
    "names_roederer"
   ]
  },
  {
   "cell_type": "code",
   "execution_count": null,
   "metadata": {},
   "outputs": [],
   "source": []
  },
  {
   "cell_type": "code",
   "execution_count": 6,
   "metadata": {},
   "outputs": [
    {
     "data": {
      "text/plain": [
       "'-12.0847472'"
      ]
     },
     "execution_count": 6,
     "metadata": {},
     "output_type": "execute_result"
    }
   ],
   "source": [
    "decs_roederer[1]"
   ]
  },
  {
   "cell_type": "code",
   "execution_count": 7,
   "metadata": {},
   "outputs": [],
   "source": [
    "Mg_H = Roederer2014_stars[12] \n",
    "Fe_H = Roederer2014_stars"
   ]
  },
  {
   "cell_type": "code",
   "execution_count": 8,
   "metadata": {},
   "outputs": [
    {
     "data": {
      "text/plain": [
       "312"
      ]
     },
     "execution_count": 8,
     "metadata": {},
     "output_type": "execute_result"
    }
   ],
   "source": [
    "len(ras_roederer)"
   ]
  },
  {
   "cell_type": "code",
   "execution_count": 9,
   "metadata": {},
   "outputs": [
    {
     "data": {
      "text/plain": [
       "0      -2.59\n",
       "1      -3.12\n",
       "2      -2.42\n",
       "3      -3.35\n",
       "4      -2.70\n",
       "       ...  \n",
       "307    -2.92\n",
       "308    -3.76\n",
       "309    -3.26\n",
       "310    -2.93\n",
       "311    -1.42\n",
       "Name: 12, Length: 312, dtype: object"
      ]
     },
     "execution_count": 9,
     "metadata": {},
     "output_type": "execute_result"
    }
   ],
   "source": [
    "Mg_H\n",
    "\n"
   ]
  },
  {
   "cell_type": "code",
   "execution_count": 37,
   "metadata": {
    "scrolled": true
   },
   "outputs": [
    {
     "name": "stdout",
     "output_type": "stream",
     "text": [
      "0\n",
      "1\n",
      "2\n",
      "3\n",
      "4\n",
      "5\n",
      "6\n",
      "7\n",
      "8\n",
      "9\n",
      "10\n"
     ]
    },
    {
     "name": "stderr",
     "output_type": "stream",
     "text": [
      "/Users/anuragsah00/anaconda3/lib/python3.10/site-packages/astroquery/utils/tap/taputils.py:269: UserWarning: By default, results in \"votable\", \"ecsv\" and \"fits\" format are returned in compressed format therefore your file star_data/neighbouring_stars/22182-047.vot will be renamed to star_data/neighbouring_stars/22182-047.vot.gz\n",
      "  warnings.warn('By default, results in \"votable\", \"ecsv\" and \"fits\" format are returned in '\n"
     ]
    },
    {
     "name": "stdout",
     "output_type": "stream",
     "text": [
      "11\n"
     ]
    },
    {
     "name": "stderr",
     "output_type": "stream",
     "text": [
      "/Users/anuragsah00/anaconda3/lib/python3.10/site-packages/astroquery/utils/tap/taputils.py:269: UserWarning: By default, results in \"votable\", \"ecsv\" and \"fits\" format are returned in compressed format therefore your file star_data/neighbouring_stars/22183-031.vot will be renamed to star_data/neighbouring_stars/22183-031.vot.gz\n",
      "  warnings.warn('By default, results in \"votable\", \"ecsv\" and \"fits\" format are returned in '\n"
     ]
    },
    {
     "name": "stdout",
     "output_type": "stream",
     "text": [
      "12\n"
     ]
    },
    {
     "name": "stderr",
     "output_type": "stream",
     "text": [
      "/Users/anuragsah00/anaconda3/lib/python3.10/site-packages/astroquery/utils/tap/taputils.py:269: UserWarning: By default, results in \"votable\", \"ecsv\" and \"fits\" format are returned in compressed format therefore your file star_data/neighbouring_stars/22185-007.vot will be renamed to star_data/neighbouring_stars/22185-007.vot.gz\n",
      "  warnings.warn('By default, results in \"votable\", \"ecsv\" and \"fits\" format are returned in '\n"
     ]
    },
    {
     "name": "stdout",
     "output_type": "stream",
     "text": [
      "13\n"
     ]
    },
    {
     "name": "stderr",
     "output_type": "stream",
     "text": [
      "/Users/anuragsah00/anaconda3/lib/python3.10/site-packages/astroquery/utils/tap/taputils.py:269: UserWarning: By default, results in \"votable\", \"ecsv\" and \"fits\" format are returned in compressed format therefore your file star_data/neighbouring_stars/22186-002.vot will be renamed to star_data/neighbouring_stars/22186-002.vot.gz\n",
      "  warnings.warn('By default, results in \"votable\", \"ecsv\" and \"fits\" format are returned in '\n"
     ]
    },
    {
     "name": "stdout",
     "output_type": "stream",
     "text": [
      "14\n"
     ]
    },
    {
     "name": "stderr",
     "output_type": "stream",
     "text": [
      "/Users/anuragsah00/anaconda3/lib/python3.10/site-packages/astroquery/utils/tap/taputils.py:269: UserWarning: By default, results in \"votable\", \"ecsv\" and \"fits\" format are returned in compressed format therefore your file star_data/neighbouring_stars/22186-017.vot will be renamed to star_data/neighbouring_stars/22186-017.vot.gz\n",
      "  warnings.warn('By default, results in \"votable\", \"ecsv\" and \"fits\" format are returned in '\n"
     ]
    },
    {
     "name": "stdout",
     "output_type": "stream",
     "text": [
      "15\n"
     ]
    },
    {
     "name": "stderr",
     "output_type": "stream",
     "text": [
      "/Users/anuragsah00/anaconda3/lib/python3.10/site-packages/astroquery/utils/tap/taputils.py:269: UserWarning: By default, results in \"votable\", \"ecsv\" and \"fits\" format are returned in compressed format therefore your file star_data/neighbouring_stars/22186-023.vot will be renamed to star_data/neighbouring_stars/22186-023.vot.gz\n",
      "  warnings.warn('By default, results in \"votable\", \"ecsv\" and \"fits\" format are returned in '\n"
     ]
    },
    {
     "name": "stdout",
     "output_type": "stream",
     "text": [
      "16\n"
     ]
    },
    {
     "name": "stderr",
     "output_type": "stream",
     "text": [
      "/Users/anuragsah00/anaconda3/lib/python3.10/site-packages/astroquery/utils/tap/taputils.py:269: UserWarning: By default, results in \"votable\", \"ecsv\" and \"fits\" format are returned in compressed format therefore your file star_data/neighbouring_stars/22189-009.vot will be renamed to star_data/neighbouring_stars/22189-009.vot.gz\n",
      "  warnings.warn('By default, results in \"votable\", \"ecsv\" and \"fits\" format are returned in '\n"
     ]
    },
    {
     "name": "stdout",
     "output_type": "stream",
     "text": [
      "17\n"
     ]
    },
    {
     "name": "stderr",
     "output_type": "stream",
     "text": [
      "/Users/anuragsah00/anaconda3/lib/python3.10/site-packages/astroquery/utils/tap/taputils.py:269: UserWarning: By default, results in \"votable\", \"ecsv\" and \"fits\" format are returned in compressed format therefore your file star_data/neighbouring_stars/22191-029.vot will be renamed to star_data/neighbouring_stars/22191-029.vot.gz\n",
      "  warnings.warn('By default, results in \"votable\", \"ecsv\" and \"fits\" format are returned in '\n"
     ]
    },
    {
     "name": "stdout",
     "output_type": "stream",
     "text": [
      "18\n"
     ]
    },
    {
     "name": "stderr",
     "output_type": "stream",
     "text": [
      "/Users/anuragsah00/anaconda3/lib/python3.10/site-packages/astroquery/utils/tap/taputils.py:269: UserWarning: By default, results in \"votable\", \"ecsv\" and \"fits\" format are returned in compressed format therefore your file star_data/neighbouring_stars/22871-104.vot will be renamed to star_data/neighbouring_stars/22871-104.vot.gz\n",
      "  warnings.warn('By default, results in \"votable\", \"ecsv\" and \"fits\" format are returned in '\n"
     ]
    },
    {
     "name": "stdout",
     "output_type": "stream",
     "text": [
      "19\n"
     ]
    },
    {
     "name": "stderr",
     "output_type": "stream",
     "text": [
      "/Users/anuragsah00/anaconda3/lib/python3.10/site-packages/astroquery/utils/tap/taputils.py:269: UserWarning: By default, results in \"votable\", \"ecsv\" and \"fits\" format are returned in compressed format therefore your file star_data/neighbouring_stars/22872-102.vot will be renamed to star_data/neighbouring_stars/22872-102.vot.gz\n",
      "  warnings.warn('By default, results in \"votable\", \"ecsv\" and \"fits\" format are returned in '\n"
     ]
    },
    {
     "name": "stdout",
     "output_type": "stream",
     "text": [
      "20\n"
     ]
    },
    {
     "name": "stderr",
     "output_type": "stream",
     "text": [
      "/Users/anuragsah00/anaconda3/lib/python3.10/site-packages/astroquery/utils/tap/taputils.py:269: UserWarning: By default, results in \"votable\", \"ecsv\" and \"fits\" format are returned in compressed format therefore your file star_data/neighbouring_stars/22873-072.vot will be renamed to star_data/neighbouring_stars/22873-072.vot.gz\n",
      "  warnings.warn('By default, results in \"votable\", \"ecsv\" and \"fits\" format are returned in '\n"
     ]
    },
    {
     "name": "stdout",
     "output_type": "stream",
     "text": [
      "21\n"
     ]
    },
    {
     "name": "stderr",
     "output_type": "stream",
     "text": [
      "/Users/anuragsah00/anaconda3/lib/python3.10/site-packages/astroquery/utils/tap/taputils.py:269: UserWarning: By default, results in \"votable\", \"ecsv\" and \"fits\" format are returned in compressed format therefore your file star_data/neighbouring_stars/22873-128.vot will be renamed to star_data/neighbouring_stars/22873-128.vot.gz\n",
      "  warnings.warn('By default, results in \"votable\", \"ecsv\" and \"fits\" format are returned in '\n"
     ]
    },
    {
     "name": "stdout",
     "output_type": "stream",
     "text": [
      "22\n"
     ]
    },
    {
     "name": "stderr",
     "output_type": "stream",
     "text": [
      "/Users/anuragsah00/anaconda3/lib/python3.10/site-packages/astroquery/utils/tap/taputils.py:269: UserWarning: By default, results in \"votable\", \"ecsv\" and \"fits\" format are returned in compressed format therefore your file star_data/neighbouring_stars/22874-123.vot will be renamed to star_data/neighbouring_stars/22874-123.vot.gz\n",
      "  warnings.warn('By default, results in \"votable\", \"ecsv\" and \"fits\" format are returned in '\n"
     ]
    },
    {
     "name": "stdout",
     "output_type": "stream",
     "text": [
      "23\n"
     ]
    },
    {
     "name": "stderr",
     "output_type": "stream",
     "text": [
      "/Users/anuragsah00/anaconda3/lib/python3.10/site-packages/astroquery/utils/tap/taputils.py:269: UserWarning: By default, results in \"votable\", \"ecsv\" and \"fits\" format are returned in compressed format therefore your file star_data/neighbouring_stars/22875-029.vot will be renamed to star_data/neighbouring_stars/22875-029.vot.gz\n",
      "  warnings.warn('By default, results in \"votable\", \"ecsv\" and \"fits\" format are returned in '\n"
     ]
    },
    {
     "name": "stdout",
     "output_type": "stream",
     "text": [
      "24\n"
     ]
    },
    {
     "name": "stderr",
     "output_type": "stream",
     "text": [
      "/Users/anuragsah00/anaconda3/lib/python3.10/site-packages/astroquery/utils/tap/taputils.py:269: UserWarning: By default, results in \"votable\", \"ecsv\" and \"fits\" format are returned in compressed format therefore your file star_data/neighbouring_stars/22876-040.vot will be renamed to star_data/neighbouring_stars/22876-040.vot.gz\n",
      "  warnings.warn('By default, results in \"votable\", \"ecsv\" and \"fits\" format are returned in '\n"
     ]
    },
    {
     "name": "stdout",
     "output_type": "stream",
     "text": [
      "25\n"
     ]
    },
    {
     "name": "stderr",
     "output_type": "stream",
     "text": [
      "/Users/anuragsah00/anaconda3/lib/python3.10/site-packages/astroquery/utils/tap/taputils.py:269: UserWarning: By default, results in \"votable\", \"ecsv\" and \"fits\" format are returned in compressed format therefore your file star_data/neighbouring_stars/22877-001.vot will be renamed to star_data/neighbouring_stars/22877-001.vot.gz\n",
      "  warnings.warn('By default, results in \"votable\", \"ecsv\" and \"fits\" format are returned in '\n"
     ]
    },
    {
     "name": "stdout",
     "output_type": "stream",
     "text": [
      "26\n"
     ]
    },
    {
     "name": "stderr",
     "output_type": "stream",
     "text": [
      "/Users/anuragsah00/anaconda3/lib/python3.10/site-packages/astroquery/utils/tap/taputils.py:269: UserWarning: By default, results in \"votable\", \"ecsv\" and \"fits\" format are returned in compressed format therefore your file star_data/neighbouring_stars/22877-011.vot will be renamed to star_data/neighbouring_stars/22877-011.vot.gz\n",
      "  warnings.warn('By default, results in \"votable\", \"ecsv\" and \"fits\" format are returned in '\n"
     ]
    },
    {
     "name": "stdout",
     "output_type": "stream",
     "text": [
      "27\n"
     ]
    },
    {
     "name": "stderr",
     "output_type": "stream",
     "text": [
      "/Users/anuragsah00/anaconda3/lib/python3.10/site-packages/astroquery/utils/tap/taputils.py:269: UserWarning: By default, results in \"votable\", \"ecsv\" and \"fits\" format are returned in compressed format therefore your file star_data/neighbouring_stars/22877-015.vot will be renamed to star_data/neighbouring_stars/22877-015.vot.gz\n",
      "  warnings.warn('By default, results in \"votable\", \"ecsv\" and \"fits\" format are returned in '\n"
     ]
    },
    {
     "name": "stdout",
     "output_type": "stream",
     "text": [
      "28\n"
     ]
    },
    {
     "name": "stderr",
     "output_type": "stream",
     "text": [
      "/Users/anuragsah00/anaconda3/lib/python3.10/site-packages/astroquery/utils/tap/taputils.py:269: UserWarning: By default, results in \"votable\", \"ecsv\" and \"fits\" format are returned in compressed format therefore your file star_data/neighbouring_stars/22877-051.vot will be renamed to star_data/neighbouring_stars/22877-051.vot.gz\n",
      "  warnings.warn('By default, results in \"votable\", \"ecsv\" and \"fits\" format are returned in '\n"
     ]
    },
    {
     "name": "stdout",
     "output_type": "stream",
     "text": [
      "29\n"
     ]
    },
    {
     "name": "stderr",
     "output_type": "stream",
     "text": [
      "/Users/anuragsah00/anaconda3/lib/python3.10/site-packages/astroquery/utils/tap/taputils.py:269: UserWarning: By default, results in \"votable\", \"ecsv\" and \"fits\" format are returned in compressed format therefore your file star_data/neighbouring_stars/22878-002.vot will be renamed to star_data/neighbouring_stars/22878-002.vot.gz\n",
      "  warnings.warn('By default, results in \"votable\", \"ecsv\" and \"fits\" format are returned in '\n"
     ]
    },
    {
     "name": "stdout",
     "output_type": "stream",
     "text": [
      "30\n"
     ]
    },
    {
     "name": "stderr",
     "output_type": "stream",
     "text": [
      "/Users/anuragsah00/anaconda3/lib/python3.10/site-packages/astroquery/utils/tap/taputils.py:269: UserWarning: By default, results in \"votable\", \"ecsv\" and \"fits\" format are returned in compressed format therefore your file star_data/neighbouring_stars/22878-027.vot will be renamed to star_data/neighbouring_stars/22878-027.vot.gz\n",
      "  warnings.warn('By default, results in \"votable\", \"ecsv\" and \"fits\" format are returned in '\n"
     ]
    },
    {
     "name": "stdout",
     "output_type": "stream",
     "text": [
      "31\n"
     ]
    },
    {
     "name": "stderr",
     "output_type": "stream",
     "text": [
      "/Users/anuragsah00/anaconda3/lib/python3.10/site-packages/astroquery/utils/tap/taputils.py:269: UserWarning: By default, results in \"votable\", \"ecsv\" and \"fits\" format are returned in compressed format therefore your file star_data/neighbouring_stars/22878-101.vot will be renamed to star_data/neighbouring_stars/22878-101.vot.gz\n",
      "  warnings.warn('By default, results in \"votable\", \"ecsv\" and \"fits\" format are returned in '\n"
     ]
    },
    {
     "name": "stdout",
     "output_type": "stream",
     "text": [
      "32\n"
     ]
    },
    {
     "name": "stderr",
     "output_type": "stream",
     "text": [
      "/Users/anuragsah00/anaconda3/lib/python3.10/site-packages/astroquery/utils/tap/taputils.py:269: UserWarning: By default, results in \"votable\", \"ecsv\" and \"fits\" format are returned in compressed format therefore your file star_data/neighbouring_stars/22879-012.vot will be renamed to star_data/neighbouring_stars/22879-012.vot.gz\n",
      "  warnings.warn('By default, results in \"votable\", \"ecsv\" and \"fits\" format are returned in '\n"
     ]
    },
    {
     "name": "stdout",
     "output_type": "stream",
     "text": [
      "33\n"
     ]
    },
    {
     "name": "stderr",
     "output_type": "stream",
     "text": [
      "/Users/anuragsah00/anaconda3/lib/python3.10/site-packages/astroquery/utils/tap/taputils.py:269: UserWarning: By default, results in \"votable\", \"ecsv\" and \"fits\" format are returned in compressed format therefore your file star_data/neighbouring_stars/22879-029.vot will be renamed to star_data/neighbouring_stars/22879-029.vot.gz\n",
      "  warnings.warn('By default, results in \"votable\", \"ecsv\" and \"fits\" format are returned in '\n"
     ]
    },
    {
     "name": "stdout",
     "output_type": "stream",
     "text": [
      "34\n"
     ]
    },
    {
     "name": "stderr",
     "output_type": "stream",
     "text": [
      "/Users/anuragsah00/anaconda3/lib/python3.10/site-packages/astroquery/utils/tap/taputils.py:269: UserWarning: By default, results in \"votable\", \"ecsv\" and \"fits\" format are returned in compressed format therefore your file star_data/neighbouring_stars/22879-051.vot will be renamed to star_data/neighbouring_stars/22879-051.vot.gz\n",
      "  warnings.warn('By default, results in \"votable\", \"ecsv\" and \"fits\" format are returned in '\n"
     ]
    },
    {
     "name": "stdout",
     "output_type": "stream",
     "text": [
      "35\n"
     ]
    },
    {
     "name": "stderr",
     "output_type": "stream",
     "text": [
      "/Users/anuragsah00/anaconda3/lib/python3.10/site-packages/astroquery/utils/tap/taputils.py:269: UserWarning: By default, results in \"votable\", \"ecsv\" and \"fits\" format are returned in compressed format therefore your file star_data/neighbouring_stars/22879-094.vot will be renamed to star_data/neighbouring_stars/22879-094.vot.gz\n",
      "  warnings.warn('By default, results in \"votable\", \"ecsv\" and \"fits\" format are returned in '\n"
     ]
    },
    {
     "name": "stdout",
     "output_type": "stream",
     "text": [
      "36\n"
     ]
    },
    {
     "name": "stderr",
     "output_type": "stream",
     "text": [
      "/Users/anuragsah00/anaconda3/lib/python3.10/site-packages/astroquery/utils/tap/taputils.py:269: UserWarning: By default, results in \"votable\", \"ecsv\" and \"fits\" format are returned in compressed format therefore your file star_data/neighbouring_stars/22879-097.vot will be renamed to star_data/neighbouring_stars/22879-097.vot.gz\n",
      "  warnings.warn('By default, results in \"votable\", \"ecsv\" and \"fits\" format are returned in '\n"
     ]
    },
    {
     "name": "stdout",
     "output_type": "stream",
     "text": [
      "37\n"
     ]
    },
    {
     "name": "stderr",
     "output_type": "stream",
     "text": [
      "/Users/anuragsah00/anaconda3/lib/python3.10/site-packages/astroquery/utils/tap/taputils.py:269: UserWarning: By default, results in \"votable\", \"ecsv\" and \"fits\" format are returned in compressed format therefore your file star_data/neighbouring_stars/22879-103.vot will be renamed to star_data/neighbouring_stars/22879-103.vot.gz\n",
      "  warnings.warn('By default, results in \"votable\", \"ecsv\" and \"fits\" format are returned in '\n"
     ]
    },
    {
     "name": "stdout",
     "output_type": "stream",
     "text": [
      "38\n"
     ]
    },
    {
     "name": "stderr",
     "output_type": "stream",
     "text": [
      "/Users/anuragsah00/anaconda3/lib/python3.10/site-packages/astroquery/utils/tap/taputils.py:269: UserWarning: By default, results in \"votable\", \"ecsv\" and \"fits\" format are returned in compressed format therefore your file star_data/neighbouring_stars/22880-067.vot will be renamed to star_data/neighbouring_stars/22880-067.vot.gz\n",
      "  warnings.warn('By default, results in \"votable\", \"ecsv\" and \"fits\" format are returned in '\n"
     ]
    },
    {
     "name": "stdout",
     "output_type": "stream",
     "text": [
      "39\n"
     ]
    },
    {
     "name": "stderr",
     "output_type": "stream",
     "text": [
      "/Users/anuragsah00/anaconda3/lib/python3.10/site-packages/astroquery/utils/tap/taputils.py:269: UserWarning: By default, results in \"votable\", \"ecsv\" and \"fits\" format are returned in compressed format therefore your file star_data/neighbouring_stars/22880-086.vot will be renamed to star_data/neighbouring_stars/22880-086.vot.gz\n",
      "  warnings.warn('By default, results in \"votable\", \"ecsv\" and \"fits\" format are returned in '\n"
     ]
    },
    {
     "name": "stdout",
     "output_type": "stream",
     "text": [
      "40\n"
     ]
    },
    {
     "name": "stderr",
     "output_type": "stream",
     "text": [
      "/Users/anuragsah00/anaconda3/lib/python3.10/site-packages/astroquery/utils/tap/taputils.py:269: UserWarning: By default, results in \"votable\", \"ecsv\" and \"fits\" format are returned in compressed format therefore your file star_data/neighbouring_stars/22881-032.vot will be renamed to star_data/neighbouring_stars/22881-032.vot.gz\n",
      "  warnings.warn('By default, results in \"votable\", \"ecsv\" and \"fits\" format are returned in '\n"
     ]
    },
    {
     "name": "stdout",
     "output_type": "stream",
     "text": [
      "41\n"
     ]
    },
    {
     "name": "stderr",
     "output_type": "stream",
     "text": [
      "/Users/anuragsah00/anaconda3/lib/python3.10/site-packages/astroquery/utils/tap/taputils.py:269: UserWarning: By default, results in \"votable\", \"ecsv\" and \"fits\" format are returned in compressed format therefore your file star_data/neighbouring_stars/22881-036.vot will be renamed to star_data/neighbouring_stars/22881-036.vot.gz\n",
      "  warnings.warn('By default, results in \"votable\", \"ecsv\" and \"fits\" format are returned in '\n"
     ]
    },
    {
     "name": "stdout",
     "output_type": "stream",
     "text": [
      "42\n"
     ]
    },
    {
     "name": "stderr",
     "output_type": "stream",
     "text": [
      "/Users/anuragsah00/anaconda3/lib/python3.10/site-packages/astroquery/utils/tap/taputils.py:269: UserWarning: By default, results in \"votable\", \"ecsv\" and \"fits\" format are returned in compressed format therefore your file star_data/neighbouring_stars/22881-039.vot will be renamed to star_data/neighbouring_stars/22881-039.vot.gz\n",
      "  warnings.warn('By default, results in \"votable\", \"ecsv\" and \"fits\" format are returned in '\n"
     ]
    },
    {
     "name": "stdout",
     "output_type": "stream",
     "text": [
      "43\n"
     ]
    },
    {
     "name": "stderr",
     "output_type": "stream",
     "text": [
      "/Users/anuragsah00/anaconda3/lib/python3.10/site-packages/astroquery/utils/tap/taputils.py:269: UserWarning: By default, results in \"votable\", \"ecsv\" and \"fits\" format are returned in compressed format therefore your file star_data/neighbouring_stars/22881-070.vot will be renamed to star_data/neighbouring_stars/22881-070.vot.gz\n",
      "  warnings.warn('By default, results in \"votable\", \"ecsv\" and \"fits\" format are returned in '\n"
     ]
    },
    {
     "name": "stdout",
     "output_type": "stream",
     "text": [
      "44\n"
     ]
    },
    {
     "name": "stderr",
     "output_type": "stream",
     "text": [
      "/Users/anuragsah00/anaconda3/lib/python3.10/site-packages/astroquery/utils/tap/taputils.py:269: UserWarning: By default, results in \"votable\", \"ecsv\" and \"fits\" format are returned in compressed format therefore your file star_data/neighbouring_stars/22882-001.vot will be renamed to star_data/neighbouring_stars/22882-001.vot.gz\n",
      "  warnings.warn('By default, results in \"votable\", \"ecsv\" and \"fits\" format are returned in '\n"
     ]
    },
    {
     "name": "stdout",
     "output_type": "stream",
     "text": [
      "45\n"
     ]
    },
    {
     "name": "stderr",
     "output_type": "stream",
     "text": [
      "/Users/anuragsah00/anaconda3/lib/python3.10/site-packages/astroquery/utils/tap/taputils.py:269: UserWarning: By default, results in \"votable\", \"ecsv\" and \"fits\" format are returned in compressed format therefore your file star_data/neighbouring_stars/22882-006.vot will be renamed to star_data/neighbouring_stars/22882-006.vot.gz\n",
      "  warnings.warn('By default, results in \"votable\", \"ecsv\" and \"fits\" format are returned in '\n"
     ]
    },
    {
     "name": "stdout",
     "output_type": "stream",
     "text": [
      "46\n"
     ]
    },
    {
     "name": "stderr",
     "output_type": "stream",
     "text": [
      "/Users/anuragsah00/anaconda3/lib/python3.10/site-packages/astroquery/utils/tap/taputils.py:269: UserWarning: By default, results in \"votable\", \"ecsv\" and \"fits\" format are returned in compressed format therefore your file star_data/neighbouring_stars/22882-012.vot will be renamed to star_data/neighbouring_stars/22882-012.vot.gz\n",
      "  warnings.warn('By default, results in \"votable\", \"ecsv\" and \"fits\" format are returned in '\n"
     ]
    },
    {
     "name": "stdout",
     "output_type": "stream",
     "text": [
      "47\n"
     ]
    },
    {
     "name": "stderr",
     "output_type": "stream",
     "text": [
      "/Users/anuragsah00/anaconda3/lib/python3.10/site-packages/astroquery/utils/tap/taputils.py:269: UserWarning: By default, results in \"votable\", \"ecsv\" and \"fits\" format are returned in compressed format therefore your file star_data/neighbouring_stars/22882-030.vot will be renamed to star_data/neighbouring_stars/22882-030.vot.gz\n",
      "  warnings.warn('By default, results in \"votable\", \"ecsv\" and \"fits\" format are returned in '\n"
     ]
    },
    {
     "name": "stdout",
     "output_type": "stream",
     "text": [
      "48\n"
     ]
    },
    {
     "name": "stderr",
     "output_type": "stream",
     "text": [
      "/Users/anuragsah00/anaconda3/lib/python3.10/site-packages/astroquery/utils/tap/taputils.py:269: UserWarning: By default, results in \"votable\", \"ecsv\" and \"fits\" format are returned in compressed format therefore your file star_data/neighbouring_stars/22883-037.vot will be renamed to star_data/neighbouring_stars/22883-037.vot.gz\n",
      "  warnings.warn('By default, results in \"votable\", \"ecsv\" and \"fits\" format are returned in '\n"
     ]
    },
    {
     "name": "stdout",
     "output_type": "stream",
     "text": [
      "49\n"
     ]
    },
    {
     "name": "stderr",
     "output_type": "stream",
     "text": [
      "/Users/anuragsah00/anaconda3/lib/python3.10/site-packages/astroquery/utils/tap/taputils.py:269: UserWarning: By default, results in \"votable\", \"ecsv\" and \"fits\" format are returned in compressed format therefore your file star_data/neighbouring_stars/22884-020.vot will be renamed to star_data/neighbouring_stars/22884-020.vot.gz\n",
      "  warnings.warn('By default, results in \"votable\", \"ecsv\" and \"fits\" format are returned in '\n"
     ]
    },
    {
     "name": "stdout",
     "output_type": "stream",
     "text": [
      "50\n"
     ]
    },
    {
     "name": "stderr",
     "output_type": "stream",
     "text": [
      "/Users/anuragsah00/anaconda3/lib/python3.10/site-packages/astroquery/utils/tap/taputils.py:269: UserWarning: By default, results in \"votable\", \"ecsv\" and \"fits\" format are returned in compressed format therefore your file star_data/neighbouring_stars/22884-108.vot will be renamed to star_data/neighbouring_stars/22884-108.vot.gz\n",
      "  warnings.warn('By default, results in \"votable\", \"ecsv\" and \"fits\" format are returned in '\n"
     ]
    },
    {
     "name": "stdout",
     "output_type": "stream",
     "text": [
      "51\n"
     ]
    },
    {
     "name": "stderr",
     "output_type": "stream",
     "text": [
      "/Users/anuragsah00/anaconda3/lib/python3.10/site-packages/astroquery/utils/tap/taputils.py:269: UserWarning: By default, results in \"votable\", \"ecsv\" and \"fits\" format are returned in compressed format therefore your file star_data/neighbouring_stars/22885-040.vot will be renamed to star_data/neighbouring_stars/22885-040.vot.gz\n",
      "  warnings.warn('By default, results in \"votable\", \"ecsv\" and \"fits\" format are returned in '\n"
     ]
    },
    {
     "name": "stdout",
     "output_type": "stream",
     "text": [
      "52\n"
     ]
    },
    {
     "name": "stderr",
     "output_type": "stream",
     "text": [
      "/Users/anuragsah00/anaconda3/lib/python3.10/site-packages/astroquery/utils/tap/taputils.py:269: UserWarning: By default, results in \"votable\", \"ecsv\" and \"fits\" format are returned in compressed format therefore your file star_data/neighbouring_stars/22885-096.vot will be renamed to star_data/neighbouring_stars/22885-096.vot.gz\n",
      "  warnings.warn('By default, results in \"votable\", \"ecsv\" and \"fits\" format are returned in '\n"
     ]
    },
    {
     "name": "stdout",
     "output_type": "stream",
     "text": [
      "53\n"
     ]
    },
    {
     "name": "stderr",
     "output_type": "stream",
     "text": [
      "/Users/anuragsah00/anaconda3/lib/python3.10/site-packages/astroquery/utils/tap/taputils.py:269: UserWarning: By default, results in \"votable\", \"ecsv\" and \"fits\" format are returned in compressed format therefore your file star_data/neighbouring_stars/22885-203.vot will be renamed to star_data/neighbouring_stars/22885-203.vot.gz\n",
      "  warnings.warn('By default, results in \"votable\", \"ecsv\" and \"fits\" format are returned in '\n"
     ]
    },
    {
     "name": "stdout",
     "output_type": "stream",
     "text": [
      "54\n"
     ]
    },
    {
     "name": "stderr",
     "output_type": "stream",
     "text": [
      "/Users/anuragsah00/anaconda3/lib/python3.10/site-packages/astroquery/utils/tap/taputils.py:269: UserWarning: By default, results in \"votable\", \"ecsv\" and \"fits\" format are returned in compressed format therefore your file star_data/neighbouring_stars/22886-003.vot will be renamed to star_data/neighbouring_stars/22886-003.vot.gz\n",
      "  warnings.warn('By default, results in \"votable\", \"ecsv\" and \"fits\" format are returned in '\n"
     ]
    },
    {
     "name": "stdout",
     "output_type": "stream",
     "text": [
      "55\n"
     ]
    },
    {
     "name": "stderr",
     "output_type": "stream",
     "text": [
      "/Users/anuragsah00/anaconda3/lib/python3.10/site-packages/astroquery/utils/tap/taputils.py:269: UserWarning: By default, results in \"votable\", \"ecsv\" and \"fits\" format are returned in compressed format therefore your file star_data/neighbouring_stars/22886-012.vot will be renamed to star_data/neighbouring_stars/22886-012.vot.gz\n",
      "  warnings.warn('By default, results in \"votable\", \"ecsv\" and \"fits\" format are returned in '\n"
     ]
    },
    {
     "name": "stdout",
     "output_type": "stream",
     "text": [
      "56\n"
     ]
    },
    {
     "name": "stderr",
     "output_type": "stream",
     "text": [
      "/Users/anuragsah00/anaconda3/lib/python3.10/site-packages/astroquery/utils/tap/taputils.py:269: UserWarning: By default, results in \"votable\", \"ecsv\" and \"fits\" format are returned in compressed format therefore your file star_data/neighbouring_stars/22886-013.vot will be renamed to star_data/neighbouring_stars/22886-013.vot.gz\n",
      "  warnings.warn('By default, results in \"votable\", \"ecsv\" and \"fits\" format are returned in '\n"
     ]
    },
    {
     "name": "stdout",
     "output_type": "stream",
     "text": [
      "57\n"
     ]
    },
    {
     "name": "stderr",
     "output_type": "stream",
     "text": [
      "/Users/anuragsah00/anaconda3/lib/python3.10/site-packages/astroquery/utils/tap/taputils.py:269: UserWarning: By default, results in \"votable\", \"ecsv\" and \"fits\" format are returned in compressed format therefore your file star_data/neighbouring_stars/22886-044.vot will be renamed to star_data/neighbouring_stars/22886-044.vot.gz\n",
      "  warnings.warn('By default, results in \"votable\", \"ecsv\" and \"fits\" format are returned in '\n"
     ]
    },
    {
     "name": "stdout",
     "output_type": "stream",
     "text": [
      "58\n"
     ]
    },
    {
     "name": "stderr",
     "output_type": "stream",
     "text": [
      "/Users/anuragsah00/anaconda3/lib/python3.10/site-packages/astroquery/utils/tap/taputils.py:269: UserWarning: By default, results in \"votable\", \"ecsv\" and \"fits\" format are returned in compressed format therefore your file star_data/neighbouring_stars/22888-002.vot will be renamed to star_data/neighbouring_stars/22888-002.vot.gz\n",
      "  warnings.warn('By default, results in \"votable\", \"ecsv\" and \"fits\" format are returned in '\n"
     ]
    },
    {
     "name": "stdout",
     "output_type": "stream",
     "text": [
      "59\n"
     ]
    },
    {
     "name": "stderr",
     "output_type": "stream",
     "text": [
      "/Users/anuragsah00/anaconda3/lib/python3.10/site-packages/astroquery/utils/tap/taputils.py:269: UserWarning: By default, results in \"votable\", \"ecsv\" and \"fits\" format are returned in compressed format therefore your file star_data/neighbouring_stars/22888-014.vot will be renamed to star_data/neighbouring_stars/22888-014.vot.gz\n",
      "  warnings.warn('By default, results in \"votable\", \"ecsv\" and \"fits\" format are returned in '\n"
     ]
    },
    {
     "name": "stdout",
     "output_type": "stream",
     "text": [
      "60\n"
     ]
    },
    {
     "name": "stderr",
     "output_type": "stream",
     "text": [
      "/Users/anuragsah00/anaconda3/lib/python3.10/site-packages/astroquery/utils/tap/taputils.py:269: UserWarning: By default, results in \"votable\", \"ecsv\" and \"fits\" format are returned in compressed format therefore your file star_data/neighbouring_stars/22888-031.vot will be renamed to star_data/neighbouring_stars/22888-031.vot.gz\n",
      "  warnings.warn('By default, results in \"votable\", \"ecsv\" and \"fits\" format are returned in '\n"
     ]
    },
    {
     "name": "stdout",
     "output_type": "stream",
     "text": [
      "61\n"
     ]
    },
    {
     "name": "stderr",
     "output_type": "stream",
     "text": [
      "/Users/anuragsah00/anaconda3/lib/python3.10/site-packages/astroquery/utils/tap/taputils.py:269: UserWarning: By default, results in \"votable\", \"ecsv\" and \"fits\" format are returned in compressed format therefore your file star_data/neighbouring_stars/22888-047.vot will be renamed to star_data/neighbouring_stars/22888-047.vot.gz\n",
      "  warnings.warn('By default, results in \"votable\", \"ecsv\" and \"fits\" format are returned in '\n"
     ]
    },
    {
     "name": "stdout",
     "output_type": "stream",
     "text": [
      "62\n"
     ]
    },
    {
     "name": "stderr",
     "output_type": "stream",
     "text": [
      "/Users/anuragsah00/anaconda3/lib/python3.10/site-packages/astroquery/utils/tap/taputils.py:269: UserWarning: By default, results in \"votable\", \"ecsv\" and \"fits\" format are returned in compressed format therefore your file star_data/neighbouring_stars/22889-050.vot will be renamed to star_data/neighbouring_stars/22889-050.vot.gz\n",
      "  warnings.warn('By default, results in \"votable\", \"ecsv\" and \"fits\" format are returned in '\n"
     ]
    },
    {
     "name": "stdout",
     "output_type": "stream",
     "text": [
      "63\n"
     ]
    },
    {
     "name": "stderr",
     "output_type": "stream",
     "text": [
      "/Users/anuragsah00/anaconda3/lib/python3.10/site-packages/astroquery/utils/tap/taputils.py:269: UserWarning: By default, results in \"votable\", \"ecsv\" and \"fits\" format are returned in compressed format therefore your file star_data/neighbouring_stars/22890-011.vot will be renamed to star_data/neighbouring_stars/22890-011.vot.gz\n",
      "  warnings.warn('By default, results in \"votable\", \"ecsv\" and \"fits\" format are returned in '\n"
     ]
    },
    {
     "name": "stdout",
     "output_type": "stream",
     "text": [
      "64\n"
     ]
    },
    {
     "name": "stderr",
     "output_type": "stream",
     "text": [
      "/Users/anuragsah00/anaconda3/lib/python3.10/site-packages/astroquery/utils/tap/taputils.py:269: UserWarning: By default, results in \"votable\", \"ecsv\" and \"fits\" format are returned in compressed format therefore your file star_data/neighbouring_stars/22890-024.vot will be renamed to star_data/neighbouring_stars/22890-024.vot.gz\n",
      "  warnings.warn('By default, results in \"votable\", \"ecsv\" and \"fits\" format are returned in '\n"
     ]
    },
    {
     "name": "stdout",
     "output_type": "stream",
     "text": [
      "65\n"
     ]
    },
    {
     "name": "stderr",
     "output_type": "stream",
     "text": [
      "/Users/anuragsah00/anaconda3/lib/python3.10/site-packages/astroquery/utils/tap/taputils.py:269: UserWarning: By default, results in \"votable\", \"ecsv\" and \"fits\" format are returned in compressed format therefore your file star_data/neighbouring_stars/22890-064.vot will be renamed to star_data/neighbouring_stars/22890-064.vot.gz\n",
      "  warnings.warn('By default, results in \"votable\", \"ecsv\" and \"fits\" format are returned in '\n"
     ]
    },
    {
     "name": "stdout",
     "output_type": "stream",
     "text": [
      "66\n"
     ]
    },
    {
     "name": "stderr",
     "output_type": "stream",
     "text": [
      "/Users/anuragsah00/anaconda3/lib/python3.10/site-packages/astroquery/utils/tap/taputils.py:269: UserWarning: By default, results in \"votable\", \"ecsv\" and \"fits\" format are returned in compressed format therefore your file star_data/neighbouring_stars/22891-184.vot will be renamed to star_data/neighbouring_stars/22891-184.vot.gz\n",
      "  warnings.warn('By default, results in \"votable\", \"ecsv\" and \"fits\" format are returned in '\n"
     ]
    },
    {
     "name": "stdout",
     "output_type": "stream",
     "text": [
      "67\n"
     ]
    },
    {
     "name": "stderr",
     "output_type": "stream",
     "text": [
      "/Users/anuragsah00/anaconda3/lib/python3.10/site-packages/astroquery/utils/tap/taputils.py:269: UserWarning: By default, results in \"votable\", \"ecsv\" and \"fits\" format are returned in compressed format therefore your file star_data/neighbouring_stars/22891-200.vot will be renamed to star_data/neighbouring_stars/22891-200.vot.gz\n",
      "  warnings.warn('By default, results in \"votable\", \"ecsv\" and \"fits\" format are returned in '\n"
     ]
    },
    {
     "name": "stdout",
     "output_type": "stream",
     "text": [
      "68\n"
     ]
    },
    {
     "name": "stderr",
     "output_type": "stream",
     "text": [
      "/Users/anuragsah00/anaconda3/lib/python3.10/site-packages/astroquery/utils/tap/taputils.py:269: UserWarning: By default, results in \"votable\", \"ecsv\" and \"fits\" format are returned in compressed format therefore your file star_data/neighbouring_stars/22891-209.vot will be renamed to star_data/neighbouring_stars/22891-209.vot.gz\n",
      "  warnings.warn('By default, results in \"votable\", \"ecsv\" and \"fits\" format are returned in '\n"
     ]
    },
    {
     "name": "stdout",
     "output_type": "stream",
     "text": [
      "69\n"
     ]
    },
    {
     "name": "stderr",
     "output_type": "stream",
     "text": [
      "/Users/anuragsah00/anaconda3/lib/python3.10/site-packages/astroquery/utils/tap/taputils.py:269: UserWarning: By default, results in \"votable\", \"ecsv\" and \"fits\" format are returned in compressed format therefore your file star_data/neighbouring_stars/22891-221.vot will be renamed to star_data/neighbouring_stars/22891-221.vot.gz\n",
      "  warnings.warn('By default, results in \"votable\", \"ecsv\" and \"fits\" format are returned in '\n"
     ]
    },
    {
     "name": "stdout",
     "output_type": "stream",
     "text": [
      "70\n"
     ]
    },
    {
     "name": "stderr",
     "output_type": "stream",
     "text": [
      "/Users/anuragsah00/anaconda3/lib/python3.10/site-packages/astroquery/utils/tap/taputils.py:269: UserWarning: By default, results in \"votable\", \"ecsv\" and \"fits\" format are returned in compressed format therefore your file star_data/neighbouring_stars/22892-025.vot will be renamed to star_data/neighbouring_stars/22892-025.vot.gz\n",
      "  warnings.warn('By default, results in \"votable\", \"ecsv\" and \"fits\" format are returned in '\n"
     ]
    },
    {
     "name": "stdout",
     "output_type": "stream",
     "text": [
      "71\n"
     ]
    },
    {
     "name": "stderr",
     "output_type": "stream",
     "text": [
      "/Users/anuragsah00/anaconda3/lib/python3.10/site-packages/astroquery/utils/tap/taputils.py:269: UserWarning: By default, results in \"votable\", \"ecsv\" and \"fits\" format are returned in compressed format therefore your file star_data/neighbouring_stars/22892-052.vot will be renamed to star_data/neighbouring_stars/22892-052.vot.gz\n",
      "  warnings.warn('By default, results in \"votable\", \"ecsv\" and \"fits\" format are returned in '\n"
     ]
    },
    {
     "name": "stdout",
     "output_type": "stream",
     "text": [
      "72\n"
     ]
    },
    {
     "name": "stderr",
     "output_type": "stream",
     "text": [
      "/Users/anuragsah00/anaconda3/lib/python3.10/site-packages/astroquery/utils/tap/taputils.py:269: UserWarning: By default, results in \"votable\", \"ecsv\" and \"fits\" format are returned in compressed format therefore your file star_data/neighbouring_stars/22893-005.vot will be renamed to star_data/neighbouring_stars/22893-005.vot.gz\n",
      "  warnings.warn('By default, results in \"votable\", \"ecsv\" and \"fits\" format are returned in '\n"
     ]
    },
    {
     "name": "stdout",
     "output_type": "stream",
     "text": [
      "73\n"
     ]
    },
    {
     "name": "stderr",
     "output_type": "stream",
     "text": [
      "/Users/anuragsah00/anaconda3/lib/python3.10/site-packages/astroquery/utils/tap/taputils.py:269: UserWarning: By default, results in \"votable\", \"ecsv\" and \"fits\" format are returned in compressed format therefore your file star_data/neighbouring_stars/22893-010.vot will be renamed to star_data/neighbouring_stars/22893-010.vot.gz\n",
      "  warnings.warn('By default, results in \"votable\", \"ecsv\" and \"fits\" format are returned in '\n"
     ]
    },
    {
     "name": "stdout",
     "output_type": "stream",
     "text": [
      "74\n"
     ]
    },
    {
     "name": "stderr",
     "output_type": "stream",
     "text": [
      "/Users/anuragsah00/anaconda3/lib/python3.10/site-packages/astroquery/utils/tap/taputils.py:269: UserWarning: By default, results in \"votable\", \"ecsv\" and \"fits\" format are returned in compressed format therefore your file star_data/neighbouring_stars/22893-011.vot will be renamed to star_data/neighbouring_stars/22893-011.vot.gz\n",
      "  warnings.warn('By default, results in \"votable\", \"ecsv\" and \"fits\" format are returned in '\n"
     ]
    },
    {
     "name": "stdout",
     "output_type": "stream",
     "text": [
      "75\n"
     ]
    },
    {
     "name": "stderr",
     "output_type": "stream",
     "text": [
      "/Users/anuragsah00/anaconda3/lib/python3.10/site-packages/astroquery/utils/tap/taputils.py:269: UserWarning: By default, results in \"votable\", \"ecsv\" and \"fits\" format are returned in compressed format therefore your file star_data/neighbouring_stars/22894-004.vot will be renamed to star_data/neighbouring_stars/22894-004.vot.gz\n",
      "  warnings.warn('By default, results in \"votable\", \"ecsv\" and \"fits\" format are returned in '\n"
     ]
    },
    {
     "name": "stdout",
     "output_type": "stream",
     "text": [
      "76\n"
     ]
    },
    {
     "name": "stderr",
     "output_type": "stream",
     "text": [
      "/Users/anuragsah00/anaconda3/lib/python3.10/site-packages/astroquery/utils/tap/taputils.py:269: UserWarning: By default, results in \"votable\", \"ecsv\" and \"fits\" format are returned in compressed format therefore your file star_data/neighbouring_stars/22894-019.vot will be renamed to star_data/neighbouring_stars/22894-019.vot.gz\n",
      "  warnings.warn('By default, results in \"votable\", \"ecsv\" and \"fits\" format are returned in '\n"
     ]
    },
    {
     "name": "stdout",
     "output_type": "stream",
     "text": [
      "77\n"
     ]
    },
    {
     "name": "stderr",
     "output_type": "stream",
     "text": [
      "/Users/anuragsah00/anaconda3/lib/python3.10/site-packages/astroquery/utils/tap/taputils.py:269: UserWarning: By default, results in \"votable\", \"ecsv\" and \"fits\" format are returned in compressed format therefore your file star_data/neighbouring_stars/22894-023.vot will be renamed to star_data/neighbouring_stars/22894-023.vot.gz\n",
      "  warnings.warn('By default, results in \"votable\", \"ecsv\" and \"fits\" format are returned in '\n"
     ]
    },
    {
     "name": "stdout",
     "output_type": "stream",
     "text": [
      "78\n"
     ]
    },
    {
     "name": "stderr",
     "output_type": "stream",
     "text": [
      "/Users/anuragsah00/anaconda3/lib/python3.10/site-packages/astroquery/utils/tap/taputils.py:269: UserWarning: By default, results in \"votable\", \"ecsv\" and \"fits\" format are returned in compressed format therefore your file star_data/neighbouring_stars/22894-049.vot will be renamed to star_data/neighbouring_stars/22894-049.vot.gz\n",
      "  warnings.warn('By default, results in \"votable\", \"ecsv\" and \"fits\" format are returned in '\n"
     ]
    },
    {
     "name": "stdout",
     "output_type": "stream",
     "text": [
      "79\n"
     ]
    },
    {
     "name": "stderr",
     "output_type": "stream",
     "text": [
      "/Users/anuragsah00/anaconda3/lib/python3.10/site-packages/astroquery/utils/tap/taputils.py:269: UserWarning: By default, results in \"votable\", \"ecsv\" and \"fits\" format are returned in compressed format therefore your file star_data/neighbouring_stars/22896-015.vot will be renamed to star_data/neighbouring_stars/22896-015.vot.gz\n",
      "  warnings.warn('By default, results in \"votable\", \"ecsv\" and \"fits\" format are returned in '\n"
     ]
    },
    {
     "name": "stdout",
     "output_type": "stream",
     "text": [
      "80\n"
     ]
    },
    {
     "name": "stderr",
     "output_type": "stream",
     "text": [
      "/Users/anuragsah00/anaconda3/lib/python3.10/site-packages/astroquery/utils/tap/taputils.py:269: UserWarning: By default, results in \"votable\", \"ecsv\" and \"fits\" format are returned in compressed format therefore your file star_data/neighbouring_stars/22896-055.vot will be renamed to star_data/neighbouring_stars/22896-055.vot.gz\n",
      "  warnings.warn('By default, results in \"votable\", \"ecsv\" and \"fits\" format are returned in '\n"
     ]
    },
    {
     "name": "stdout",
     "output_type": "stream",
     "text": [
      "81\n"
     ]
    },
    {
     "name": "stderr",
     "output_type": "stream",
     "text": [
      "/Users/anuragsah00/anaconda3/lib/python3.10/site-packages/astroquery/utils/tap/taputils.py:269: UserWarning: By default, results in \"votable\", \"ecsv\" and \"fits\" format are returned in compressed format therefore your file star_data/neighbouring_stars/22896-110.vot will be renamed to star_data/neighbouring_stars/22896-110.vot.gz\n",
      "  warnings.warn('By default, results in \"votable\", \"ecsv\" and \"fits\" format are returned in '\n"
     ]
    },
    {
     "name": "stdout",
     "output_type": "stream",
     "text": [
      "82\n"
     ]
    },
    {
     "name": "stderr",
     "output_type": "stream",
     "text": [
      "/Users/anuragsah00/anaconda3/lib/python3.10/site-packages/astroquery/utils/tap/taputils.py:269: UserWarning: By default, results in \"votable\", \"ecsv\" and \"fits\" format are returned in compressed format therefore your file star_data/neighbouring_stars/22896-115.vot will be renamed to star_data/neighbouring_stars/22896-115.vot.gz\n",
      "  warnings.warn('By default, results in \"votable\", \"ecsv\" and \"fits\" format are returned in '\n"
     ]
    },
    {
     "name": "stdout",
     "output_type": "stream",
     "text": [
      "83\n"
     ]
    },
    {
     "name": "stderr",
     "output_type": "stream",
     "text": [
      "/Users/anuragsah00/anaconda3/lib/python3.10/site-packages/astroquery/utils/tap/taputils.py:269: UserWarning: By default, results in \"votable\", \"ecsv\" and \"fits\" format are returned in compressed format therefore your file star_data/neighbouring_stars/22896-136.vot will be renamed to star_data/neighbouring_stars/22896-136.vot.gz\n",
      "  warnings.warn('By default, results in \"votable\", \"ecsv\" and \"fits\" format are returned in '\n"
     ]
    },
    {
     "name": "stdout",
     "output_type": "stream",
     "text": [
      "84\n"
     ]
    },
    {
     "name": "stderr",
     "output_type": "stream",
     "text": [
      "/Users/anuragsah00/anaconda3/lib/python3.10/site-packages/astroquery/utils/tap/taputils.py:269: UserWarning: By default, results in \"votable\", \"ecsv\" and \"fits\" format are returned in compressed format therefore your file star_data/neighbouring_stars/22897-008.vot will be renamed to star_data/neighbouring_stars/22897-008.vot.gz\n",
      "  warnings.warn('By default, results in \"votable\", \"ecsv\" and \"fits\" format are returned in '\n"
     ]
    },
    {
     "name": "stdout",
     "output_type": "stream",
     "text": [
      "85\n"
     ]
    },
    {
     "name": "stderr",
     "output_type": "stream",
     "text": [
      "/Users/anuragsah00/anaconda3/lib/python3.10/site-packages/astroquery/utils/tap/taputils.py:269: UserWarning: By default, results in \"votable\", \"ecsv\" and \"fits\" format are returned in compressed format therefore your file star_data/neighbouring_stars/22898-043.vot will be renamed to star_data/neighbouring_stars/22898-043.vot.gz\n",
      "  warnings.warn('By default, results in \"votable\", \"ecsv\" and \"fits\" format are returned in '\n"
     ]
    },
    {
     "name": "stdout",
     "output_type": "stream",
     "text": [
      "86\n"
     ]
    },
    {
     "name": "stderr",
     "output_type": "stream",
     "text": [
      "/Users/anuragsah00/anaconda3/lib/python3.10/site-packages/astroquery/utils/tap/taputils.py:269: UserWarning: By default, results in \"votable\", \"ecsv\" and \"fits\" format are returned in compressed format therefore your file star_data/neighbouring_stars/22898-047.vot will be renamed to star_data/neighbouring_stars/22898-047.vot.gz\n",
      "  warnings.warn('By default, results in \"votable\", \"ecsv\" and \"fits\" format are returned in '\n"
     ]
    },
    {
     "name": "stdout",
     "output_type": "stream",
     "text": [
      "87\n"
     ]
    },
    {
     "name": "stderr",
     "output_type": "stream",
     "text": [
      "/Users/anuragsah00/anaconda3/lib/python3.10/site-packages/astroquery/utils/tap/taputils.py:269: UserWarning: By default, results in \"votable\", \"ecsv\" and \"fits\" format are returned in compressed format therefore your file star_data/neighbouring_stars/22937-072.vot will be renamed to star_data/neighbouring_stars/22937-072.vot.gz\n",
      "  warnings.warn('By default, results in \"votable\", \"ecsv\" and \"fits\" format are returned in '\n"
     ]
    },
    {
     "name": "stdout",
     "output_type": "stream",
     "text": [
      "88\n"
     ]
    },
    {
     "name": "stderr",
     "output_type": "stream",
     "text": [
      "/Users/anuragsah00/anaconda3/lib/python3.10/site-packages/astroquery/utils/tap/taputils.py:269: UserWarning: By default, results in \"votable\", \"ecsv\" and \"fits\" format are returned in compressed format therefore your file star_data/neighbouring_stars/22940-070.vot will be renamed to star_data/neighbouring_stars/22940-070.vot.gz\n",
      "  warnings.warn('By default, results in \"votable\", \"ecsv\" and \"fits\" format are returned in '\n"
     ]
    },
    {
     "name": "stdout",
     "output_type": "stream",
     "text": [
      "89\n"
     ]
    },
    {
     "name": "stderr",
     "output_type": "stream",
     "text": [
      "/Users/anuragsah00/anaconda3/lib/python3.10/site-packages/astroquery/utils/tap/taputils.py:269: UserWarning: By default, results in \"votable\", \"ecsv\" and \"fits\" format are returned in compressed format therefore your file star_data/neighbouring_stars/22940-077.vot will be renamed to star_data/neighbouring_stars/22940-077.vot.gz\n",
      "  warnings.warn('By default, results in \"votable\", \"ecsv\" and \"fits\" format are returned in '\n"
     ]
    },
    {
     "name": "stdout",
     "output_type": "stream",
     "text": [
      "90\n"
     ]
    },
    {
     "name": "stderr",
     "output_type": "stream",
     "text": [
      "/Users/anuragsah00/anaconda3/lib/python3.10/site-packages/astroquery/utils/tap/taputils.py:269: UserWarning: By default, results in \"votable\", \"ecsv\" and \"fits\" format are returned in compressed format therefore your file star_data/neighbouring_stars/22940-121.vot will be renamed to star_data/neighbouring_stars/22940-121.vot.gz\n",
      "  warnings.warn('By default, results in \"votable\", \"ecsv\" and \"fits\" format are returned in '\n"
     ]
    },
    {
     "name": "stdout",
     "output_type": "stream",
     "text": [
      "91\n"
     ]
    },
    {
     "name": "stderr",
     "output_type": "stream",
     "text": [
      "/Users/anuragsah00/anaconda3/lib/python3.10/site-packages/astroquery/utils/tap/taputils.py:269: UserWarning: By default, results in \"votable\", \"ecsv\" and \"fits\" format are returned in compressed format therefore your file star_data/neighbouring_stars/22941-017.vot will be renamed to star_data/neighbouring_stars/22941-017.vot.gz\n",
      "  warnings.warn('By default, results in \"votable\", \"ecsv\" and \"fits\" format are returned in '\n"
     ]
    },
    {
     "name": "stdout",
     "output_type": "stream",
     "text": [
      "92\n"
     ]
    },
    {
     "name": "stderr",
     "output_type": "stream",
     "text": [
      "/Users/anuragsah00/anaconda3/lib/python3.10/site-packages/astroquery/utils/tap/taputils.py:269: UserWarning: By default, results in \"votable\", \"ecsv\" and \"fits\" format are returned in compressed format therefore your file star_data/neighbouring_stars/22941-027.vot will be renamed to star_data/neighbouring_stars/22941-027.vot.gz\n",
      "  warnings.warn('By default, results in \"votable\", \"ecsv\" and \"fits\" format are returned in '\n"
     ]
    },
    {
     "name": "stdout",
     "output_type": "stream",
     "text": [
      "93\n"
     ]
    },
    {
     "name": "stderr",
     "output_type": "stream",
     "text": [
      "/Users/anuragsah00/anaconda3/lib/python3.10/site-packages/astroquery/utils/tap/taputils.py:269: UserWarning: By default, results in \"votable\", \"ecsv\" and \"fits\" format are returned in compressed format therefore your file star_data/neighbouring_stars/22942-002.vot will be renamed to star_data/neighbouring_stars/22942-002.vot.gz\n",
      "  warnings.warn('By default, results in \"votable\", \"ecsv\" and \"fits\" format are returned in '\n"
     ]
    },
    {
     "name": "stdout",
     "output_type": "stream",
     "text": [
      "94\n"
     ]
    },
    {
     "name": "stderr",
     "output_type": "stream",
     "text": [
      "/Users/anuragsah00/anaconda3/lib/python3.10/site-packages/astroquery/utils/tap/taputils.py:269: UserWarning: By default, results in \"votable\", \"ecsv\" and \"fits\" format are returned in compressed format therefore your file star_data/neighbouring_stars/22942-011.vot will be renamed to star_data/neighbouring_stars/22942-011.vot.gz\n",
      "  warnings.warn('By default, results in \"votable\", \"ecsv\" and \"fits\" format are returned in '\n"
     ]
    },
    {
     "name": "stdout",
     "output_type": "stream",
     "text": [
      "95\n"
     ]
    },
    {
     "name": "stderr",
     "output_type": "stream",
     "text": [
      "/Users/anuragsah00/anaconda3/lib/python3.10/site-packages/astroquery/utils/tap/taputils.py:269: UserWarning: By default, results in \"votable\", \"ecsv\" and \"fits\" format are returned in compressed format therefore your file star_data/neighbouring_stars/22942-035.vot will be renamed to star_data/neighbouring_stars/22942-035.vot.gz\n",
      "  warnings.warn('By default, results in \"votable\", \"ecsv\" and \"fits\" format are returned in '\n"
     ]
    },
    {
     "name": "stdout",
     "output_type": "stream",
     "text": [
      "96\n"
     ]
    },
    {
     "name": "stderr",
     "output_type": "stream",
     "text": [
      "/Users/anuragsah00/anaconda3/lib/python3.10/site-packages/astroquery/utils/tap/taputils.py:269: UserWarning: By default, results in \"votable\", \"ecsv\" and \"fits\" format are returned in compressed format therefore your file star_data/neighbouring_stars/22943-059.vot will be renamed to star_data/neighbouring_stars/22943-059.vot.gz\n",
      "  warnings.warn('By default, results in \"votable\", \"ecsv\" and \"fits\" format are returned in '\n"
     ]
    },
    {
     "name": "stdout",
     "output_type": "stream",
     "text": [
      "97\n"
     ]
    },
    {
     "name": "stderr",
     "output_type": "stream",
     "text": [
      "/Users/anuragsah00/anaconda3/lib/python3.10/site-packages/astroquery/utils/tap/taputils.py:269: UserWarning: By default, results in \"votable\", \"ecsv\" and \"fits\" format are returned in compressed format therefore your file star_data/neighbouring_stars/22943-095.vot will be renamed to star_data/neighbouring_stars/22943-095.vot.gz\n",
      "  warnings.warn('By default, results in \"votable\", \"ecsv\" and \"fits\" format are returned in '\n"
     ]
    },
    {
     "name": "stdout",
     "output_type": "stream",
     "text": [
      "98\n"
     ]
    },
    {
     "name": "stderr",
     "output_type": "stream",
     "text": [
      "/Users/anuragsah00/anaconda3/lib/python3.10/site-packages/astroquery/utils/tap/taputils.py:269: UserWarning: By default, results in \"votable\", \"ecsv\" and \"fits\" format are returned in compressed format therefore your file star_data/neighbouring_stars/22943-132.vot will be renamed to star_data/neighbouring_stars/22943-132.vot.gz\n",
      "  warnings.warn('By default, results in \"votable\", \"ecsv\" and \"fits\" format are returned in '\n"
     ]
    },
    {
     "name": "stdout",
     "output_type": "stream",
     "text": [
      "99\n"
     ]
    },
    {
     "name": "stderr",
     "output_type": "stream",
     "text": [
      "/Users/anuragsah00/anaconda3/lib/python3.10/site-packages/astroquery/utils/tap/taputils.py:269: UserWarning: By default, results in \"votable\", \"ecsv\" and \"fits\" format are returned in compressed format therefore your file star_data/neighbouring_stars/22943-137.vot will be renamed to star_data/neighbouring_stars/22943-137.vot.gz\n",
      "  warnings.warn('By default, results in \"votable\", \"ecsv\" and \"fits\" format are returned in '\n"
     ]
    },
    {
     "name": "stdout",
     "output_type": "stream",
     "text": [
      "100\n"
     ]
    },
    {
     "name": "stderr",
     "output_type": "stream",
     "text": [
      "/Users/anuragsah00/anaconda3/lib/python3.10/site-packages/astroquery/utils/tap/taputils.py:269: UserWarning: By default, results in \"votable\", \"ecsv\" and \"fits\" format are returned in compressed format therefore your file star_data/neighbouring_stars/22943-201.vot will be renamed to star_data/neighbouring_stars/22943-201.vot.gz\n",
      "  warnings.warn('By default, results in \"votable\", \"ecsv\" and \"fits\" format are returned in '\n"
     ]
    },
    {
     "name": "stdout",
     "output_type": "stream",
     "text": [
      "101\n"
     ]
    },
    {
     "name": "stderr",
     "output_type": "stream",
     "text": [
      "/Users/anuragsah00/anaconda3/lib/python3.10/site-packages/astroquery/utils/tap/taputils.py:269: UserWarning: By default, results in \"votable\", \"ecsv\" and \"fits\" format are returned in compressed format therefore your file star_data/neighbouring_stars/22944-014.vot will be renamed to star_data/neighbouring_stars/22944-014.vot.gz\n",
      "  warnings.warn('By default, results in \"votable\", \"ecsv\" and \"fits\" format are returned in '\n"
     ]
    },
    {
     "name": "stdout",
     "output_type": "stream",
     "text": [
      "102\n"
     ]
    },
    {
     "name": "stderr",
     "output_type": "stream",
     "text": [
      "/Users/anuragsah00/anaconda3/lib/python3.10/site-packages/astroquery/utils/tap/taputils.py:269: UserWarning: By default, results in \"votable\", \"ecsv\" and \"fits\" format are returned in compressed format therefore your file star_data/neighbouring_stars/22944-032.vot will be renamed to star_data/neighbouring_stars/22944-032.vot.gz\n",
      "  warnings.warn('By default, results in \"votable\", \"ecsv\" and \"fits\" format are returned in '\n"
     ]
    },
    {
     "name": "stdout",
     "output_type": "stream",
     "text": [
      "103\n"
     ]
    },
    {
     "name": "stderr",
     "output_type": "stream",
     "text": [
      "/Users/anuragsah00/anaconda3/lib/python3.10/site-packages/astroquery/utils/tap/taputils.py:269: UserWarning: By default, results in \"votable\", \"ecsv\" and \"fits\" format are returned in compressed format therefore your file star_data/neighbouring_stars/22944-061.vot will be renamed to star_data/neighbouring_stars/22944-061.vot.gz\n",
      "  warnings.warn('By default, results in \"votable\", \"ecsv\" and \"fits\" format are returned in '\n"
     ]
    },
    {
     "name": "stdout",
     "output_type": "stream",
     "text": [
      "104\n"
     ]
    },
    {
     "name": "stderr",
     "output_type": "stream",
     "text": [
      "/Users/anuragsah00/anaconda3/lib/python3.10/site-packages/astroquery/utils/tap/taputils.py:269: UserWarning: By default, results in \"votable\", \"ecsv\" and \"fits\" format are returned in compressed format therefore your file star_data/neighbouring_stars/22945-017.vot will be renamed to star_data/neighbouring_stars/22945-017.vot.gz\n",
      "  warnings.warn('By default, results in \"votable\", \"ecsv\" and \"fits\" format are returned in '\n"
     ]
    },
    {
     "name": "stdout",
     "output_type": "stream",
     "text": [
      "105\n"
     ]
    },
    {
     "name": "stderr",
     "output_type": "stream",
     "text": [
      "/Users/anuragsah00/anaconda3/lib/python3.10/site-packages/astroquery/utils/tap/taputils.py:269: UserWarning: By default, results in \"votable\", \"ecsv\" and \"fits\" format are returned in compressed format therefore your file star_data/neighbouring_stars/22945-024.vot will be renamed to star_data/neighbouring_stars/22945-024.vot.gz\n",
      "  warnings.warn('By default, results in \"votable\", \"ecsv\" and \"fits\" format are returned in '\n"
     ]
    },
    {
     "name": "stdout",
     "output_type": "stream",
     "text": [
      "106\n"
     ]
    },
    {
     "name": "stderr",
     "output_type": "stream",
     "text": [
      "/Users/anuragsah00/anaconda3/lib/python3.10/site-packages/astroquery/utils/tap/taputils.py:269: UserWarning: By default, results in \"votable\", \"ecsv\" and \"fits\" format are returned in compressed format therefore your file star_data/neighbouring_stars/22945-028.vot will be renamed to star_data/neighbouring_stars/22945-028.vot.gz\n",
      "  warnings.warn('By default, results in \"votable\", \"ecsv\" and \"fits\" format are returned in '\n"
     ]
    },
    {
     "name": "stdout",
     "output_type": "stream",
     "text": [
      "107\n"
     ]
    },
    {
     "name": "stderr",
     "output_type": "stream",
     "text": [
      "/Users/anuragsah00/anaconda3/lib/python3.10/site-packages/astroquery/utils/tap/taputils.py:269: UserWarning: By default, results in \"votable\", \"ecsv\" and \"fits\" format are returned in compressed format therefore your file star_data/neighbouring_stars/22945-031.vot will be renamed to star_data/neighbouring_stars/22945-031.vot.gz\n",
      "  warnings.warn('By default, results in \"votable\", \"ecsv\" and \"fits\" format are returned in '\n"
     ]
    },
    {
     "name": "stdout",
     "output_type": "stream",
     "text": [
      "108\n"
     ]
    },
    {
     "name": "stderr",
     "output_type": "stream",
     "text": [
      "/Users/anuragsah00/anaconda3/lib/python3.10/site-packages/astroquery/utils/tap/taputils.py:269: UserWarning: By default, results in \"votable\", \"ecsv\" and \"fits\" format are returned in compressed format therefore your file star_data/neighbouring_stars/22945-056.vot will be renamed to star_data/neighbouring_stars/22945-056.vot.gz\n",
      "  warnings.warn('By default, results in \"votable\", \"ecsv\" and \"fits\" format are returned in '\n"
     ]
    },
    {
     "name": "stdout",
     "output_type": "stream",
     "text": [
      "109\n"
     ]
    },
    {
     "name": "stderr",
     "output_type": "stream",
     "text": [
      "/Users/anuragsah00/anaconda3/lib/python3.10/site-packages/astroquery/utils/tap/taputils.py:269: UserWarning: By default, results in \"votable\", \"ecsv\" and \"fits\" format are returned in compressed format therefore your file star_data/neighbouring_stars/22945-058.vot will be renamed to star_data/neighbouring_stars/22945-058.vot.gz\n",
      "  warnings.warn('By default, results in \"votable\", \"ecsv\" and \"fits\" format are returned in '\n"
     ]
    },
    {
     "name": "stdout",
     "output_type": "stream",
     "text": [
      "110\n"
     ]
    },
    {
     "name": "stderr",
     "output_type": "stream",
     "text": [
      "/Users/anuragsah00/anaconda3/lib/python3.10/site-packages/astroquery/utils/tap/taputils.py:269: UserWarning: By default, results in \"votable\", \"ecsv\" and \"fits\" format are returned in compressed format therefore your file star_data/neighbouring_stars/22945-063.vot will be renamed to star_data/neighbouring_stars/22945-063.vot.gz\n",
      "  warnings.warn('By default, results in \"votable\", \"ecsv\" and \"fits\" format are returned in '\n"
     ]
    },
    {
     "name": "stdout",
     "output_type": "stream",
     "text": [
      "111\n"
     ]
    },
    {
     "name": "stderr",
     "output_type": "stream",
     "text": [
      "/Users/anuragsah00/anaconda3/lib/python3.10/site-packages/astroquery/utils/tap/taputils.py:269: UserWarning: By default, results in \"votable\", \"ecsv\" and \"fits\" format are returned in compressed format therefore your file star_data/neighbouring_stars/22947-187.vot will be renamed to star_data/neighbouring_stars/22947-187.vot.gz\n",
      "  warnings.warn('By default, results in \"votable\", \"ecsv\" and \"fits\" format are returned in '\n"
     ]
    },
    {
     "name": "stdout",
     "output_type": "stream",
     "text": [
      "112\n"
     ]
    },
    {
     "name": "stderr",
     "output_type": "stream",
     "text": [
      "/Users/anuragsah00/anaconda3/lib/python3.10/site-packages/astroquery/utils/tap/taputils.py:269: UserWarning: By default, results in \"votable\", \"ecsv\" and \"fits\" format are returned in compressed format therefore your file star_data/neighbouring_stars/22948-066.vot will be renamed to star_data/neighbouring_stars/22948-066.vot.gz\n",
      "  warnings.warn('By default, results in \"votable\", \"ecsv\" and \"fits\" format are returned in '\n"
     ]
    },
    {
     "name": "stdout",
     "output_type": "stream",
     "text": [
      "113\n"
     ]
    },
    {
     "name": "stderr",
     "output_type": "stream",
     "text": [
      "/Users/anuragsah00/anaconda3/lib/python3.10/site-packages/astroquery/utils/tap/taputils.py:269: UserWarning: By default, results in \"votable\", \"ecsv\" and \"fits\" format are returned in compressed format therefore your file star_data/neighbouring_stars/22948-093.vot will be renamed to star_data/neighbouring_stars/22948-093.vot.gz\n",
      "  warnings.warn('By default, results in \"votable\", \"ecsv\" and \"fits\" format are returned in '\n"
     ]
    },
    {
     "name": "stdout",
     "output_type": "stream",
     "text": [
      "114\n"
     ]
    },
    {
     "name": "stderr",
     "output_type": "stream",
     "text": [
      "/Users/anuragsah00/anaconda3/lib/python3.10/site-packages/astroquery/utils/tap/taputils.py:269: UserWarning: By default, results in \"votable\", \"ecsv\" and \"fits\" format are returned in compressed format therefore your file star_data/neighbouring_stars/22949-030.vot will be renamed to star_data/neighbouring_stars/22949-030.vot.gz\n",
      "  warnings.warn('By default, results in \"votable\", \"ecsv\" and \"fits\" format are returned in '\n"
     ]
    },
    {
     "name": "stdout",
     "output_type": "stream",
     "text": [
      "115\n"
     ]
    },
    {
     "name": "stderr",
     "output_type": "stream",
     "text": [
      "/Users/anuragsah00/anaconda3/lib/python3.10/site-packages/astroquery/utils/tap/taputils.py:269: UserWarning: By default, results in \"votable\", \"ecsv\" and \"fits\" format are returned in compressed format therefore your file star_data/neighbouring_stars/22949-037.vot will be renamed to star_data/neighbouring_stars/22949-037.vot.gz\n",
      "  warnings.warn('By default, results in \"votable\", \"ecsv\" and \"fits\" format are returned in '\n"
     ]
    },
    {
     "name": "stdout",
     "output_type": "stream",
     "text": [
      "116\n"
     ]
    },
    {
     "name": "stderr",
     "output_type": "stream",
     "text": [
      "/Users/anuragsah00/anaconda3/lib/python3.10/site-packages/astroquery/utils/tap/taputils.py:269: UserWarning: By default, results in \"votable\", \"ecsv\" and \"fits\" format are returned in compressed format therefore your file star_data/neighbouring_stars/22949-048.vot will be renamed to star_data/neighbouring_stars/22949-048.vot.gz\n",
      "  warnings.warn('By default, results in \"votable\", \"ecsv\" and \"fits\" format are returned in '\n"
     ]
    },
    {
     "name": "stdout",
     "output_type": "stream",
     "text": [
      "117\n"
     ]
    },
    {
     "name": "stderr",
     "output_type": "stream",
     "text": [
      "/Users/anuragsah00/anaconda3/lib/python3.10/site-packages/astroquery/utils/tap/taputils.py:269: UserWarning: By default, results in \"votable\", \"ecsv\" and \"fits\" format are returned in compressed format therefore your file star_data/neighbouring_stars/22950-046.vot will be renamed to star_data/neighbouring_stars/22950-046.vot.gz\n",
      "  warnings.warn('By default, results in \"votable\", \"ecsv\" and \"fits\" format are returned in '\n"
     ]
    },
    {
     "name": "stdout",
     "output_type": "stream",
     "text": [
      "118\n"
     ]
    },
    {
     "name": "stderr",
     "output_type": "stream",
     "text": [
      "/Users/anuragsah00/anaconda3/lib/python3.10/site-packages/astroquery/utils/tap/taputils.py:269: UserWarning: By default, results in \"votable\", \"ecsv\" and \"fits\" format are returned in compressed format therefore your file star_data/neighbouring_stars/22951-005.vot will be renamed to star_data/neighbouring_stars/22951-005.vot.gz\n",
      "  warnings.warn('By default, results in \"votable\", \"ecsv\" and \"fits\" format are returned in '\n"
     ]
    },
    {
     "name": "stdout",
     "output_type": "stream",
     "text": [
      "119\n"
     ]
    },
    {
     "name": "stderr",
     "output_type": "stream",
     "text": [
      "/Users/anuragsah00/anaconda3/lib/python3.10/site-packages/astroquery/utils/tap/taputils.py:269: UserWarning: By default, results in \"votable\", \"ecsv\" and \"fits\" format are returned in compressed format therefore your file star_data/neighbouring_stars/22951-059.vot will be renamed to star_data/neighbouring_stars/22951-059.vot.gz\n",
      "  warnings.warn('By default, results in \"votable\", \"ecsv\" and \"fits\" format are returned in '\n"
     ]
    },
    {
     "name": "stdout",
     "output_type": "stream",
     "text": [
      "120\n"
     ]
    },
    {
     "name": "stderr",
     "output_type": "stream",
     "text": [
      "/Users/anuragsah00/anaconda3/lib/python3.10/site-packages/astroquery/utils/tap/taputils.py:269: UserWarning: By default, results in \"votable\", \"ecsv\" and \"fits\" format are returned in compressed format therefore your file star_data/neighbouring_stars/22951-077.vot will be renamed to star_data/neighbouring_stars/22951-077.vot.gz\n",
      "  warnings.warn('By default, results in \"votable\", \"ecsv\" and \"fits\" format are returned in '\n"
     ]
    },
    {
     "name": "stdout",
     "output_type": "stream",
     "text": [
      "121\n"
     ]
    },
    {
     "name": "stderr",
     "output_type": "stream",
     "text": [
      "/Users/anuragsah00/anaconda3/lib/python3.10/site-packages/astroquery/utils/tap/taputils.py:269: UserWarning: By default, results in \"votable\", \"ecsv\" and \"fits\" format are returned in compressed format therefore your file star_data/neighbouring_stars/22952-015.vot will be renamed to star_data/neighbouring_stars/22952-015.vot.gz\n",
      "  warnings.warn('By default, results in \"votable\", \"ecsv\" and \"fits\" format are returned in '\n"
     ]
    },
    {
     "name": "stdout",
     "output_type": "stream",
     "text": [
      "122\n"
     ]
    },
    {
     "name": "stderr",
     "output_type": "stream",
     "text": [
      "/Users/anuragsah00/anaconda3/lib/python3.10/site-packages/astroquery/utils/tap/taputils.py:269: UserWarning: By default, results in \"votable\", \"ecsv\" and \"fits\" format are returned in compressed format therefore your file star_data/neighbouring_stars/22953-003.vot will be renamed to star_data/neighbouring_stars/22953-003.vot.gz\n",
      "  warnings.warn('By default, results in \"votable\", \"ecsv\" and \"fits\" format are returned in '\n"
     ]
    },
    {
     "name": "stdout",
     "output_type": "stream",
     "text": [
      "123\n"
     ]
    },
    {
     "name": "stderr",
     "output_type": "stream",
     "text": [
      "/Users/anuragsah00/anaconda3/lib/python3.10/site-packages/astroquery/utils/tap/taputils.py:269: UserWarning: By default, results in \"votable\", \"ecsv\" and \"fits\" format are returned in compressed format therefore your file star_data/neighbouring_stars/22953-037.vot will be renamed to star_data/neighbouring_stars/22953-037.vot.gz\n",
      "  warnings.warn('By default, results in \"votable\", \"ecsv\" and \"fits\" format are returned in '\n"
     ]
    },
    {
     "name": "stdout",
     "output_type": "stream",
     "text": [
      "124\n"
     ]
    },
    {
     "name": "stderr",
     "output_type": "stream",
     "text": [
      "/Users/anuragsah00/anaconda3/lib/python3.10/site-packages/astroquery/utils/tap/taputils.py:269: UserWarning: By default, results in \"votable\", \"ecsv\" and \"fits\" format are returned in compressed format therefore your file star_data/neighbouring_stars/22954-004.vot will be renamed to star_data/neighbouring_stars/22954-004.vot.gz\n",
      "  warnings.warn('By default, results in \"votable\", \"ecsv\" and \"fits\" format are returned in '\n"
     ]
    },
    {
     "name": "stdout",
     "output_type": "stream",
     "text": [
      "125\n"
     ]
    },
    {
     "name": "stderr",
     "output_type": "stream",
     "text": [
      "/Users/anuragsah00/anaconda3/lib/python3.10/site-packages/astroquery/utils/tap/taputils.py:269: UserWarning: By default, results in \"votable\", \"ecsv\" and \"fits\" format are returned in compressed format therefore your file star_data/neighbouring_stars/22954-015.vot will be renamed to star_data/neighbouring_stars/22954-015.vot.gz\n",
      "  warnings.warn('By default, results in \"votable\", \"ecsv\" and \"fits\" format are returned in '\n"
     ]
    },
    {
     "name": "stdout",
     "output_type": "stream",
     "text": [
      "126\n"
     ]
    },
    {
     "name": "stderr",
     "output_type": "stream",
     "text": [
      "/Users/anuragsah00/anaconda3/lib/python3.10/site-packages/astroquery/utils/tap/taputils.py:269: UserWarning: By default, results in \"votable\", \"ecsv\" and \"fits\" format are returned in compressed format therefore your file star_data/neighbouring_stars/22955-110.vot will be renamed to star_data/neighbouring_stars/22955-110.vot.gz\n",
      "  warnings.warn('By default, results in \"votable\", \"ecsv\" and \"fits\" format are returned in '\n"
     ]
    },
    {
     "name": "stdout",
     "output_type": "stream",
     "text": [
      "127\n"
     ]
    },
    {
     "name": "stderr",
     "output_type": "stream",
     "text": [
      "/Users/anuragsah00/anaconda3/lib/python3.10/site-packages/astroquery/utils/tap/taputils.py:269: UserWarning: By default, results in \"votable\", \"ecsv\" and \"fits\" format are returned in compressed format therefore your file star_data/neighbouring_stars/22955-174.vot will be renamed to star_data/neighbouring_stars/22955-174.vot.gz\n",
      "  warnings.warn('By default, results in \"votable\", \"ecsv\" and \"fits\" format are returned in '\n"
     ]
    },
    {
     "name": "stdout",
     "output_type": "stream",
     "text": [
      "128\n"
     ]
    },
    {
     "name": "stderr",
     "output_type": "stream",
     "text": [
      "/Users/anuragsah00/anaconda3/lib/python3.10/site-packages/astroquery/utils/tap/taputils.py:269: UserWarning: By default, results in \"votable\", \"ecsv\" and \"fits\" format are returned in compressed format therefore your file star_data/neighbouring_stars/22956-015.vot will be renamed to star_data/neighbouring_stars/22956-015.vot.gz\n",
      "  warnings.warn('By default, results in \"votable\", \"ecsv\" and \"fits\" format are returned in '\n"
     ]
    },
    {
     "name": "stdout",
     "output_type": "stream",
     "text": [
      "129\n"
     ]
    },
    {
     "name": "stderr",
     "output_type": "stream",
     "text": [
      "/Users/anuragsah00/anaconda3/lib/python3.10/site-packages/astroquery/utils/tap/taputils.py:269: UserWarning: By default, results in \"votable\", \"ecsv\" and \"fits\" format are returned in compressed format therefore your file star_data/neighbouring_stars/22956-021.vot will be renamed to star_data/neighbouring_stars/22956-021.vot.gz\n",
      "  warnings.warn('By default, results in \"votable\", \"ecsv\" and \"fits\" format are returned in '\n"
     ]
    },
    {
     "name": "stdout",
     "output_type": "stream",
     "text": [
      "130\n"
     ]
    },
    {
     "name": "stderr",
     "output_type": "stream",
     "text": [
      "/Users/anuragsah00/anaconda3/lib/python3.10/site-packages/astroquery/utils/tap/taputils.py:269: UserWarning: By default, results in \"votable\", \"ecsv\" and \"fits\" format are returned in compressed format therefore your file star_data/neighbouring_stars/22956-050.vot will be renamed to star_data/neighbouring_stars/22956-050.vot.gz\n",
      "  warnings.warn('By default, results in \"votable\", \"ecsv\" and \"fits\" format are returned in '\n"
     ]
    },
    {
     "name": "stdout",
     "output_type": "stream",
     "text": [
      "131\n"
     ]
    },
    {
     "name": "stderr",
     "output_type": "stream",
     "text": [
      "/Users/anuragsah00/anaconda3/lib/python3.10/site-packages/astroquery/utils/tap/taputils.py:269: UserWarning: By default, results in \"votable\", \"ecsv\" and \"fits\" format are returned in compressed format therefore your file star_data/neighbouring_stars/22956-062.vot will be renamed to star_data/neighbouring_stars/22956-062.vot.gz\n",
      "  warnings.warn('By default, results in \"votable\", \"ecsv\" and \"fits\" format are returned in '\n"
     ]
    },
    {
     "name": "stdout",
     "output_type": "stream",
     "text": [
      "132\n"
     ]
    },
    {
     "name": "stderr",
     "output_type": "stream",
     "text": [
      "/Users/anuragsah00/anaconda3/lib/python3.10/site-packages/astroquery/utils/tap/taputils.py:269: UserWarning: By default, results in \"votable\", \"ecsv\" and \"fits\" format are returned in compressed format therefore your file star_data/neighbouring_stars/22956-081.vot will be renamed to star_data/neighbouring_stars/22956-081.vot.gz\n",
      "  warnings.warn('By default, results in \"votable\", \"ecsv\" and \"fits\" format are returned in '\n"
     ]
    },
    {
     "name": "stdout",
     "output_type": "stream",
     "text": [
      "133\n"
     ]
    },
    {
     "name": "stderr",
     "output_type": "stream",
     "text": [
      "/Users/anuragsah00/anaconda3/lib/python3.10/site-packages/astroquery/utils/tap/taputils.py:269: UserWarning: By default, results in \"votable\", \"ecsv\" and \"fits\" format are returned in compressed format therefore your file star_data/neighbouring_stars/22956-102.vot will be renamed to star_data/neighbouring_stars/22956-102.vot.gz\n",
      "  warnings.warn('By default, results in \"votable\", \"ecsv\" and \"fits\" format are returned in '\n"
     ]
    },
    {
     "name": "stdout",
     "output_type": "stream",
     "text": [
      "134\n"
     ]
    },
    {
     "name": "stderr",
     "output_type": "stream",
     "text": [
      "/Users/anuragsah00/anaconda3/lib/python3.10/site-packages/astroquery/utils/tap/taputils.py:269: UserWarning: By default, results in \"votable\", \"ecsv\" and \"fits\" format are returned in compressed format therefore your file star_data/neighbouring_stars/22956-106.vot will be renamed to star_data/neighbouring_stars/22956-106.vot.gz\n",
      "  warnings.warn('By default, results in \"votable\", \"ecsv\" and \"fits\" format are returned in '\n"
     ]
    },
    {
     "name": "stdout",
     "output_type": "stream",
     "text": [
      "135\n"
     ]
    },
    {
     "name": "stderr",
     "output_type": "stream",
     "text": [
      "/Users/anuragsah00/anaconda3/lib/python3.10/site-packages/astroquery/utils/tap/taputils.py:269: UserWarning: By default, results in \"votable\", \"ecsv\" and \"fits\" format are returned in compressed format therefore your file star_data/neighbouring_stars/22956-110.vot will be renamed to star_data/neighbouring_stars/22956-110.vot.gz\n",
      "  warnings.warn('By default, results in \"votable\", \"ecsv\" and \"fits\" format are returned in '\n"
     ]
    },
    {
     "name": "stdout",
     "output_type": "stream",
     "text": [
      "136\n"
     ]
    },
    {
     "name": "stderr",
     "output_type": "stream",
     "text": [
      "/Users/anuragsah00/anaconda3/lib/python3.10/site-packages/astroquery/utils/tap/taputils.py:269: UserWarning: By default, results in \"votable\", \"ecsv\" and \"fits\" format are returned in compressed format therefore your file star_data/neighbouring_stars/22956-114.vot will be renamed to star_data/neighbouring_stars/22956-114.vot.gz\n",
      "  warnings.warn('By default, results in \"votable\", \"ecsv\" and \"fits\" format are returned in '\n"
     ]
    },
    {
     "name": "stdout",
     "output_type": "stream",
     "text": [
      "137\n"
     ]
    },
    {
     "name": "stderr",
     "output_type": "stream",
     "text": [
      "/Users/anuragsah00/anaconda3/lib/python3.10/site-packages/astroquery/utils/tap/taputils.py:269: UserWarning: By default, results in \"votable\", \"ecsv\" and \"fits\" format are returned in compressed format therefore your file star_data/neighbouring_stars/22957-013.vot will be renamed to star_data/neighbouring_stars/22957-013.vot.gz\n",
      "  warnings.warn('By default, results in \"votable\", \"ecsv\" and \"fits\" format are returned in '\n"
     ]
    },
    {
     "name": "stdout",
     "output_type": "stream",
     "text": [
      "138\n"
     ]
    },
    {
     "name": "stderr",
     "output_type": "stream",
     "text": [
      "/Users/anuragsah00/anaconda3/lib/python3.10/site-packages/astroquery/utils/tap/taputils.py:269: UserWarning: By default, results in \"votable\", \"ecsv\" and \"fits\" format are returned in compressed format therefore your file star_data/neighbouring_stars/22957-019.vot will be renamed to star_data/neighbouring_stars/22957-019.vot.gz\n",
      "  warnings.warn('By default, results in \"votable\", \"ecsv\" and \"fits\" format are returned in '\n"
     ]
    },
    {
     "name": "stdout",
     "output_type": "stream",
     "text": [
      "139\n"
     ]
    },
    {
     "name": "stderr",
     "output_type": "stream",
     "text": [
      "/Users/anuragsah00/anaconda3/lib/python3.10/site-packages/astroquery/utils/tap/taputils.py:269: UserWarning: By default, results in \"votable\", \"ecsv\" and \"fits\" format are returned in compressed format therefore your file star_data/neighbouring_stars/22957-022.vot will be renamed to star_data/neighbouring_stars/22957-022.vot.gz\n",
      "  warnings.warn('By default, results in \"votable\", \"ecsv\" and \"fits\" format are returned in '\n"
     ]
    },
    {
     "name": "stdout",
     "output_type": "stream",
     "text": [
      "140\n"
     ]
    },
    {
     "name": "stderr",
     "output_type": "stream",
     "text": [
      "/Users/anuragsah00/anaconda3/lib/python3.10/site-packages/astroquery/utils/tap/taputils.py:269: UserWarning: By default, results in \"votable\", \"ecsv\" and \"fits\" format are returned in compressed format therefore your file star_data/neighbouring_stars/22957-024.vot will be renamed to star_data/neighbouring_stars/22957-024.vot.gz\n",
      "  warnings.warn('By default, results in \"votable\", \"ecsv\" and \"fits\" format are returned in '\n"
     ]
    },
    {
     "name": "stdout",
     "output_type": "stream",
     "text": [
      "141\n"
     ]
    },
    {
     "name": "stderr",
     "output_type": "stream",
     "text": [
      "/Users/anuragsah00/anaconda3/lib/python3.10/site-packages/astroquery/utils/tap/taputils.py:269: UserWarning: By default, results in \"votable\", \"ecsv\" and \"fits\" format are returned in compressed format therefore your file star_data/neighbouring_stars/22957-026.vot will be renamed to star_data/neighbouring_stars/22957-026.vot.gz\n",
      "  warnings.warn('By default, results in \"votable\", \"ecsv\" and \"fits\" format are returned in '\n"
     ]
    },
    {
     "name": "stdout",
     "output_type": "stream",
     "text": [
      "142\n"
     ]
    },
    {
     "name": "stderr",
     "output_type": "stream",
     "text": [
      "/Users/anuragsah00/anaconda3/lib/python3.10/site-packages/astroquery/utils/tap/taputils.py:269: UserWarning: By default, results in \"votable\", \"ecsv\" and \"fits\" format are returned in compressed format therefore your file star_data/neighbouring_stars/22957-027.vot will be renamed to star_data/neighbouring_stars/22957-027.vot.gz\n",
      "  warnings.warn('By default, results in \"votable\", \"ecsv\" and \"fits\" format are returned in '\n"
     ]
    },
    {
     "name": "stdout",
     "output_type": "stream",
     "text": [
      "143\n"
     ]
    },
    {
     "name": "stderr",
     "output_type": "stream",
     "text": [
      "/Users/anuragsah00/anaconda3/lib/python3.10/site-packages/astroquery/utils/tap/taputils.py:269: UserWarning: By default, results in \"votable\", \"ecsv\" and \"fits\" format are returned in compressed format therefore your file star_data/neighbouring_stars/22957-036.vot will be renamed to star_data/neighbouring_stars/22957-036.vot.gz\n",
      "  warnings.warn('By default, results in \"votable\", \"ecsv\" and \"fits\" format are returned in '\n"
     ]
    },
    {
     "name": "stdout",
     "output_type": "stream",
     "text": [
      "144\n"
     ]
    },
    {
     "name": "stderr",
     "output_type": "stream",
     "text": [
      "/Users/anuragsah00/anaconda3/lib/python3.10/site-packages/astroquery/utils/tap/taputils.py:269: UserWarning: By default, results in \"votable\", \"ecsv\" and \"fits\" format are returned in compressed format therefore your file star_data/neighbouring_stars/22958-037.vot will be renamed to star_data/neighbouring_stars/22958-037.vot.gz\n",
      "  warnings.warn('By default, results in \"votable\", \"ecsv\" and \"fits\" format are returned in '\n"
     ]
    },
    {
     "name": "stdout",
     "output_type": "stream",
     "text": [
      "145\n"
     ]
    },
    {
     "name": "stderr",
     "output_type": "stream",
     "text": [
      "/Users/anuragsah00/anaconda3/lib/python3.10/site-packages/astroquery/utils/tap/taputils.py:269: UserWarning: By default, results in \"votable\", \"ecsv\" and \"fits\" format are returned in compressed format therefore your file star_data/neighbouring_stars/22958-041.vot will be renamed to star_data/neighbouring_stars/22958-041.vot.gz\n",
      "  warnings.warn('By default, results in \"votable\", \"ecsv\" and \"fits\" format are returned in '\n"
     ]
    },
    {
     "name": "stdout",
     "output_type": "stream",
     "text": [
      "146\n"
     ]
    },
    {
     "name": "stderr",
     "output_type": "stream",
     "text": [
      "/Users/anuragsah00/anaconda3/lib/python3.10/site-packages/astroquery/utils/tap/taputils.py:269: UserWarning: By default, results in \"votable\", \"ecsv\" and \"fits\" format are returned in compressed format therefore your file star_data/neighbouring_stars/22958-042.vot will be renamed to star_data/neighbouring_stars/22958-042.vot.gz\n",
      "  warnings.warn('By default, results in \"votable\", \"ecsv\" and \"fits\" format are returned in '\n"
     ]
    },
    {
     "name": "stdout",
     "output_type": "stream",
     "text": [
      "147\n"
     ]
    },
    {
     "name": "stderr",
     "output_type": "stream",
     "text": [
      "/Users/anuragsah00/anaconda3/lib/python3.10/site-packages/astroquery/utils/tap/taputils.py:269: UserWarning: By default, results in \"votable\", \"ecsv\" and \"fits\" format are returned in compressed format therefore your file star_data/neighbouring_stars/22958-052.vot will be renamed to star_data/neighbouring_stars/22958-052.vot.gz\n",
      "  warnings.warn('By default, results in \"votable\", \"ecsv\" and \"fits\" format are returned in '\n"
     ]
    },
    {
     "name": "stdout",
     "output_type": "stream",
     "text": [
      "148\n"
     ]
    },
    {
     "name": "stderr",
     "output_type": "stream",
     "text": [
      "/Users/anuragsah00/anaconda3/lib/python3.10/site-packages/astroquery/utils/tap/taputils.py:269: UserWarning: By default, results in \"votable\", \"ecsv\" and \"fits\" format are returned in compressed format therefore your file star_data/neighbouring_stars/22958-065.vot will be renamed to star_data/neighbouring_stars/22958-065.vot.gz\n",
      "  warnings.warn('By default, results in \"votable\", \"ecsv\" and \"fits\" format are returned in '\n"
     ]
    },
    {
     "name": "stdout",
     "output_type": "stream",
     "text": [
      "149\n"
     ]
    },
    {
     "name": "stderr",
     "output_type": "stream",
     "text": [
      "/Users/anuragsah00/anaconda3/lib/python3.10/site-packages/astroquery/utils/tap/taputils.py:269: UserWarning: By default, results in \"votable\", \"ecsv\" and \"fits\" format are returned in compressed format therefore your file star_data/neighbouring_stars/22958-074.vot will be renamed to star_data/neighbouring_stars/22958-074.vot.gz\n",
      "  warnings.warn('By default, results in \"votable\", \"ecsv\" and \"fits\" format are returned in '\n"
     ]
    },
    {
     "name": "stdout",
     "output_type": "stream",
     "text": [
      "150\n"
     ]
    },
    {
     "name": "stderr",
     "output_type": "stream",
     "text": [
      "/Users/anuragsah00/anaconda3/lib/python3.10/site-packages/astroquery/utils/tap/taputils.py:269: UserWarning: By default, results in \"votable\", \"ecsv\" and \"fits\" format are returned in compressed format therefore your file star_data/neighbouring_stars/22958-083.vot will be renamed to star_data/neighbouring_stars/22958-083.vot.gz\n",
      "  warnings.warn('By default, results in \"votable\", \"ecsv\" and \"fits\" format are returned in '\n"
     ]
    },
    {
     "name": "stdout",
     "output_type": "stream",
     "text": [
      "151\n"
     ]
    },
    {
     "name": "stderr",
     "output_type": "stream",
     "text": [
      "/Users/anuragsah00/anaconda3/lib/python3.10/site-packages/astroquery/utils/tap/taputils.py:269: UserWarning: By default, results in \"votable\", \"ecsv\" and \"fits\" format are returned in compressed format therefore your file star_data/neighbouring_stars/22959-074.vot will be renamed to star_data/neighbouring_stars/22959-074.vot.gz\n",
      "  warnings.warn('By default, results in \"votable\", \"ecsv\" and \"fits\" format are returned in '\n"
     ]
    },
    {
     "name": "stdout",
     "output_type": "stream",
     "text": [
      "152\n"
     ]
    },
    {
     "name": "stderr",
     "output_type": "stream",
     "text": [
      "/Users/anuragsah00/anaconda3/lib/python3.10/site-packages/astroquery/utils/tap/taputils.py:269: UserWarning: By default, results in \"votable\", \"ecsv\" and \"fits\" format are returned in compressed format therefore your file star_data/neighbouring_stars/22959-139.vot will be renamed to star_data/neighbouring_stars/22959-139.vot.gz\n",
      "  warnings.warn('By default, results in \"votable\", \"ecsv\" and \"fits\" format are returned in '\n"
     ]
    },
    {
     "name": "stdout",
     "output_type": "stream",
     "text": [
      "153\n"
     ]
    },
    {
     "name": "stderr",
     "output_type": "stream",
     "text": [
      "/Users/anuragsah00/anaconda3/lib/python3.10/site-packages/astroquery/utils/tap/taputils.py:269: UserWarning: By default, results in \"votable\", \"ecsv\" and \"fits\" format are returned in compressed format therefore your file star_data/neighbouring_stars/22960-010.vot will be renamed to star_data/neighbouring_stars/22960-010.vot.gz\n",
      "  warnings.warn('By default, results in \"votable\", \"ecsv\" and \"fits\" format are returned in '\n"
     ]
    },
    {
     "name": "stdout",
     "output_type": "stream",
     "text": [
      "154\n"
     ]
    },
    {
     "name": "stderr",
     "output_type": "stream",
     "text": [
      "/Users/anuragsah00/anaconda3/lib/python3.10/site-packages/astroquery/utils/tap/taputils.py:269: UserWarning: By default, results in \"votable\", \"ecsv\" and \"fits\" format are returned in compressed format therefore your file star_data/neighbouring_stars/22960-029.vot will be renamed to star_data/neighbouring_stars/22960-029.vot.gz\n",
      "  warnings.warn('By default, results in \"votable\", \"ecsv\" and \"fits\" format are returned in '\n"
     ]
    },
    {
     "name": "stdout",
     "output_type": "stream",
     "text": [
      "155\n"
     ]
    },
    {
     "name": "stderr",
     "output_type": "stream",
     "text": [
      "/Users/anuragsah00/anaconda3/lib/python3.10/site-packages/astroquery/utils/tap/taputils.py:269: UserWarning: By default, results in \"votable\", \"ecsv\" and \"fits\" format are returned in compressed format therefore your file star_data/neighbouring_stars/22960-048.vot will be renamed to star_data/neighbouring_stars/22960-048.vot.gz\n",
      "  warnings.warn('By default, results in \"votable\", \"ecsv\" and \"fits\" format are returned in '\n"
     ]
    },
    {
     "name": "stdout",
     "output_type": "stream",
     "text": [
      "156\n"
     ]
    },
    {
     "name": "stderr",
     "output_type": "stream",
     "text": [
      "/Users/anuragsah00/anaconda3/lib/python3.10/site-packages/astroquery/utils/tap/taputils.py:269: UserWarning: By default, results in \"votable\", \"ecsv\" and \"fits\" format are returned in compressed format therefore your file star_data/neighbouring_stars/22960-053.vot will be renamed to star_data/neighbouring_stars/22960-053.vot.gz\n",
      "  warnings.warn('By default, results in \"votable\", \"ecsv\" and \"fits\" format are returned in '\n"
     ]
    },
    {
     "name": "stdout",
     "output_type": "stream",
     "text": [
      "157\n"
     ]
    },
    {
     "name": "stderr",
     "output_type": "stream",
     "text": [
      "/Users/anuragsah00/anaconda3/lib/python3.10/site-packages/astroquery/utils/tap/taputils.py:269: UserWarning: By default, results in \"votable\", \"ecsv\" and \"fits\" format are returned in compressed format therefore your file star_data/neighbouring_stars/22960-064.vot will be renamed to star_data/neighbouring_stars/22960-064.vot.gz\n",
      "  warnings.warn('By default, results in \"votable\", \"ecsv\" and \"fits\" format are returned in '\n"
     ]
    },
    {
     "name": "stdout",
     "output_type": "stream",
     "text": [
      "158\n"
     ]
    },
    {
     "name": "stderr",
     "output_type": "stream",
     "text": [
      "/Users/anuragsah00/anaconda3/lib/python3.10/site-packages/astroquery/utils/tap/taputils.py:269: UserWarning: By default, results in \"votable\", \"ecsv\" and \"fits\" format are returned in compressed format therefore your file star_data/neighbouring_stars/22963-004.vot will be renamed to star_data/neighbouring_stars/22963-004.vot.gz\n",
      "  warnings.warn('By default, results in \"votable\", \"ecsv\" and \"fits\" format are returned in '\n"
     ]
    },
    {
     "name": "stdout",
     "output_type": "stream",
     "text": [
      "159\n"
     ]
    },
    {
     "name": "stderr",
     "output_type": "stream",
     "text": [
      "/Users/anuragsah00/anaconda3/lib/python3.10/site-packages/astroquery/utils/tap/taputils.py:269: UserWarning: By default, results in \"votable\", \"ecsv\" and \"fits\" format are returned in compressed format therefore your file star_data/neighbouring_stars/22964-115.vot will be renamed to star_data/neighbouring_stars/22964-115.vot.gz\n",
      "  warnings.warn('By default, results in \"votable\", \"ecsv\" and \"fits\" format are returned in '\n"
     ]
    },
    {
     "name": "stdout",
     "output_type": "stream",
     "text": [
      "160\n"
     ]
    },
    {
     "name": "stderr",
     "output_type": "stream",
     "text": [
      "/Users/anuragsah00/anaconda3/lib/python3.10/site-packages/astroquery/utils/tap/taputils.py:269: UserWarning: By default, results in \"votable\", \"ecsv\" and \"fits\" format are returned in compressed format therefore your file star_data/neighbouring_stars/22964-176.vot will be renamed to star_data/neighbouring_stars/22964-176.vot.gz\n",
      "  warnings.warn('By default, results in \"votable\", \"ecsv\" and \"fits\" format are returned in '\n"
     ]
    },
    {
     "name": "stdout",
     "output_type": "stream",
     "text": [
      "161\n"
     ]
    },
    {
     "name": "stderr",
     "output_type": "stream",
     "text": [
      "/Users/anuragsah00/anaconda3/lib/python3.10/site-packages/astroquery/utils/tap/taputils.py:269: UserWarning: By default, results in \"votable\", \"ecsv\" and \"fits\" format are returned in compressed format therefore your file star_data/neighbouring_stars/22964-183.vot will be renamed to star_data/neighbouring_stars/22964-183.vot.gz\n",
      "  warnings.warn('By default, results in \"votable\", \"ecsv\" and \"fits\" format are returned in '\n"
     ]
    },
    {
     "name": "stdout",
     "output_type": "stream",
     "text": [
      "162\n"
     ]
    },
    {
     "name": "stderr",
     "output_type": "stream",
     "text": [
      "/Users/anuragsah00/anaconda3/lib/python3.10/site-packages/astroquery/utils/tap/taputils.py:269: UserWarning: By default, results in \"votable\", \"ecsv\" and \"fits\" format are returned in compressed format therefore your file star_data/neighbouring_stars/22964-214.vot will be renamed to star_data/neighbouring_stars/22964-214.vot.gz\n",
      "  warnings.warn('By default, results in \"votable\", \"ecsv\" and \"fits\" format are returned in '\n"
     ]
    },
    {
     "name": "stdout",
     "output_type": "stream",
     "text": [
      "163\n"
     ]
    },
    {
     "name": "stderr",
     "output_type": "stream",
     "text": [
      "/Users/anuragsah00/anaconda3/lib/python3.10/site-packages/astroquery/utils/tap/taputils.py:269: UserWarning: By default, results in \"votable\", \"ecsv\" and \"fits\" format are returned in compressed format therefore your file star_data/neighbouring_stars/22965-016.vot will be renamed to star_data/neighbouring_stars/22965-016.vot.gz\n",
      "  warnings.warn('By default, results in \"votable\", \"ecsv\" and \"fits\" format are returned in '\n"
     ]
    },
    {
     "name": "stdout",
     "output_type": "stream",
     "text": [
      "164\n"
     ]
    },
    {
     "name": "stderr",
     "output_type": "stream",
     "text": [
      "/Users/anuragsah00/anaconda3/lib/python3.10/site-packages/astroquery/utils/tap/taputils.py:269: UserWarning: By default, results in \"votable\", \"ecsv\" and \"fits\" format are returned in compressed format therefore your file star_data/neighbouring_stars/22965-054.vot will be renamed to star_data/neighbouring_stars/22965-054.vot.gz\n",
      "  warnings.warn('By default, results in \"votable\", \"ecsv\" and \"fits\" format are returned in '\n"
     ]
    },
    {
     "name": "stdout",
     "output_type": "stream",
     "text": [
      "165\n"
     ]
    },
    {
     "name": "stderr",
     "output_type": "stream",
     "text": [
      "/Users/anuragsah00/anaconda3/lib/python3.10/site-packages/astroquery/utils/tap/taputils.py:269: UserWarning: By default, results in \"votable\", \"ecsv\" and \"fits\" format are returned in compressed format therefore your file star_data/neighbouring_stars/22968-001.vot will be renamed to star_data/neighbouring_stars/22968-001.vot.gz\n",
      "  warnings.warn('By default, results in \"votable\", \"ecsv\" and \"fits\" format are returned in '\n"
     ]
    },
    {
     "name": "stdout",
     "output_type": "stream",
     "text": [
      "166\n"
     ]
    },
    {
     "name": "stderr",
     "output_type": "stream",
     "text": [
      "/Users/anuragsah00/anaconda3/lib/python3.10/site-packages/astroquery/utils/tap/taputils.py:269: UserWarning: By default, results in \"votable\", \"ecsv\" and \"fits\" format are returned in compressed format therefore your file star_data/neighbouring_stars/22968-014.vot will be renamed to star_data/neighbouring_stars/22968-014.vot.gz\n",
      "  warnings.warn('By default, results in \"votable\", \"ecsv\" and \"fits\" format are returned in '\n"
     ]
    },
    {
     "name": "stdout",
     "output_type": "stream",
     "text": [
      "167\n"
     ]
    },
    {
     "name": "stderr",
     "output_type": "stream",
     "text": [
      "/Users/anuragsah00/anaconda3/lib/python3.10/site-packages/astroquery/utils/tap/taputils.py:269: UserWarning: By default, results in \"votable\", \"ecsv\" and \"fits\" format are returned in compressed format therefore your file star_data/neighbouring_stars/22968-026.vot will be renamed to star_data/neighbouring_stars/22968-026.vot.gz\n",
      "  warnings.warn('By default, results in \"votable\", \"ecsv\" and \"fits\" format are returned in '\n"
     ]
    },
    {
     "name": "stdout",
     "output_type": "stream",
     "text": [
      "168\n"
     ]
    },
    {
     "name": "stderr",
     "output_type": "stream",
     "text": [
      "/Users/anuragsah00/anaconda3/lib/python3.10/site-packages/astroquery/utils/tap/taputils.py:269: UserWarning: By default, results in \"votable\", \"ecsv\" and \"fits\" format are returned in compressed format therefore your file star_data/neighbouring_stars/22968-029.vot will be renamed to star_data/neighbouring_stars/22968-029.vot.gz\n",
      "  warnings.warn('By default, results in \"votable\", \"ecsv\" and \"fits\" format are returned in '\n"
     ]
    },
    {
     "name": "stdout",
     "output_type": "stream",
     "text": [
      "169\n"
     ]
    },
    {
     "name": "stderr",
     "output_type": "stream",
     "text": [
      "/Users/anuragsah00/anaconda3/lib/python3.10/site-packages/astroquery/utils/tap/taputils.py:269: UserWarning: By default, results in \"votable\", \"ecsv\" and \"fits\" format are returned in compressed format therefore your file star_data/neighbouring_stars/29493-023.vot will be renamed to star_data/neighbouring_stars/29493-023.vot.gz\n",
      "  warnings.warn('By default, results in \"votable\", \"ecsv\" and \"fits\" format are returned in '\n"
     ]
    },
    {
     "name": "stdout",
     "output_type": "stream",
     "text": [
      "170\n"
     ]
    },
    {
     "name": "stderr",
     "output_type": "stream",
     "text": [
      "/Users/anuragsah00/anaconda3/lib/python3.10/site-packages/astroquery/utils/tap/taputils.py:269: UserWarning: By default, results in \"votable\", \"ecsv\" and \"fits\" format are returned in compressed format therefore your file star_data/neighbouring_stars/29493-050.vot will be renamed to star_data/neighbouring_stars/29493-050.vot.gz\n",
      "  warnings.warn('By default, results in \"votable\", \"ecsv\" and \"fits\" format are returned in '\n"
     ]
    },
    {
     "name": "stdout",
     "output_type": "stream",
     "text": [
      "171\n"
     ]
    },
    {
     "name": "stderr",
     "output_type": "stream",
     "text": [
      "/Users/anuragsah00/anaconda3/lib/python3.10/site-packages/astroquery/utils/tap/taputils.py:269: UserWarning: By default, results in \"votable\", \"ecsv\" and \"fits\" format are returned in compressed format therefore your file star_data/neighbouring_stars/29493-062.vot will be renamed to star_data/neighbouring_stars/29493-062.vot.gz\n",
      "  warnings.warn('By default, results in \"votable\", \"ecsv\" and \"fits\" format are returned in '\n"
     ]
    },
    {
     "name": "stdout",
     "output_type": "stream",
     "text": [
      "172\n"
     ]
    },
    {
     "name": "stderr",
     "output_type": "stream",
     "text": [
      "/Users/anuragsah00/anaconda3/lib/python3.10/site-packages/astroquery/utils/tap/taputils.py:269: UserWarning: By default, results in \"votable\", \"ecsv\" and \"fits\" format are returned in compressed format therefore your file star_data/neighbouring_stars/29493-094.vot will be renamed to star_data/neighbouring_stars/29493-094.vot.gz\n",
      "  warnings.warn('By default, results in \"votable\", \"ecsv\" and \"fits\" format are returned in '\n"
     ]
    },
    {
     "name": "stdout",
     "output_type": "stream",
     "text": [
      "173\n"
     ]
    },
    {
     "name": "stderr",
     "output_type": "stream",
     "text": [
      "/Users/anuragsah00/anaconda3/lib/python3.10/site-packages/astroquery/utils/tap/taputils.py:269: UserWarning: By default, results in \"votable\", \"ecsv\" and \"fits\" format are returned in compressed format therefore your file star_data/neighbouring_stars/29495-005.vot will be renamed to star_data/neighbouring_stars/29495-005.vot.gz\n",
      "  warnings.warn('By default, results in \"votable\", \"ecsv\" and \"fits\" format are returned in '\n"
     ]
    },
    {
     "name": "stdout",
     "output_type": "stream",
     "text": [
      "174\n"
     ]
    },
    {
     "name": "stderr",
     "output_type": "stream",
     "text": [
      "/Users/anuragsah00/anaconda3/lib/python3.10/site-packages/astroquery/utils/tap/taputils.py:269: UserWarning: By default, results in \"votable\", \"ecsv\" and \"fits\" format are returned in compressed format therefore your file star_data/neighbouring_stars/29495-042.vot will be renamed to star_data/neighbouring_stars/29495-042.vot.gz\n",
      "  warnings.warn('By default, results in \"votable\", \"ecsv\" and \"fits\" format are returned in '\n"
     ]
    },
    {
     "name": "stdout",
     "output_type": "stream",
     "text": [
      "175\n"
     ]
    },
    {
     "name": "stderr",
     "output_type": "stream",
     "text": [
      "/Users/anuragsah00/anaconda3/lib/python3.10/site-packages/astroquery/utils/tap/taputils.py:269: UserWarning: By default, results in \"votable\", \"ecsv\" and \"fits\" format are returned in compressed format therefore your file star_data/neighbouring_stars/29497-030.vot will be renamed to star_data/neighbouring_stars/29497-030.vot.gz\n",
      "  warnings.warn('By default, results in \"votable\", \"ecsv\" and \"fits\" format are returned in '\n"
     ]
    },
    {
     "name": "stdout",
     "output_type": "stream",
     "text": [
      "176\n"
     ]
    },
    {
     "name": "stderr",
     "output_type": "stream",
     "text": [
      "/Users/anuragsah00/anaconda3/lib/python3.10/site-packages/astroquery/utils/tap/taputils.py:269: UserWarning: By default, results in \"votable\", \"ecsv\" and \"fits\" format are returned in compressed format therefore your file star_data/neighbouring_stars/29498-043.vot will be renamed to star_data/neighbouring_stars/29498-043.vot.gz\n",
      "  warnings.warn('By default, results in \"votable\", \"ecsv\" and \"fits\" format are returned in '\n"
     ]
    },
    {
     "name": "stdout",
     "output_type": "stream",
     "text": [
      "177\n"
     ]
    },
    {
     "name": "stderr",
     "output_type": "stream",
     "text": [
      "/Users/anuragsah00/anaconda3/lib/python3.10/site-packages/astroquery/utils/tap/taputils.py:269: UserWarning: By default, results in \"votable\", \"ecsv\" and \"fits\" format are returned in compressed format therefore your file star_data/neighbouring_stars/29499-003.vot will be renamed to star_data/neighbouring_stars/29499-003.vot.gz\n",
      "  warnings.warn('By default, results in \"votable\", \"ecsv\" and \"fits\" format are returned in '\n"
     ]
    },
    {
     "name": "stdout",
     "output_type": "stream",
     "text": [
      "178\n"
     ]
    },
    {
     "name": "stderr",
     "output_type": "stream",
     "text": [
      "/Users/anuragsah00/anaconda3/lib/python3.10/site-packages/astroquery/utils/tap/taputils.py:269: UserWarning: By default, results in \"votable\", \"ecsv\" and \"fits\" format are returned in compressed format therefore your file star_data/neighbouring_stars/29499-058.vot will be renamed to star_data/neighbouring_stars/29499-058.vot.gz\n",
      "  warnings.warn('By default, results in \"votable\", \"ecsv\" and \"fits\" format are returned in '\n"
     ]
    },
    {
     "name": "stdout",
     "output_type": "stream",
     "text": [
      "179\n"
     ]
    },
    {
     "name": "stderr",
     "output_type": "stream",
     "text": [
      "/Users/anuragsah00/anaconda3/lib/python3.10/site-packages/astroquery/utils/tap/taputils.py:269: UserWarning: By default, results in \"votable\", \"ecsv\" and \"fits\" format are returned in compressed format therefore your file star_data/neighbouring_stars/29499-060.vot will be renamed to star_data/neighbouring_stars/29499-060.vot.gz\n",
      "  warnings.warn('By default, results in \"votable\", \"ecsv\" and \"fits\" format are returned in '\n"
     ]
    },
    {
     "name": "stdout",
     "output_type": "stream",
     "text": [
      "180\n"
     ]
    },
    {
     "name": "stderr",
     "output_type": "stream",
     "text": [
      "/Users/anuragsah00/anaconda3/lib/python3.10/site-packages/astroquery/utils/tap/taputils.py:269: UserWarning: By default, results in \"votable\", \"ecsv\" and \"fits\" format are returned in compressed format therefore your file star_data/neighbouring_stars/29501-032.vot will be renamed to star_data/neighbouring_stars/29501-032.vot.gz\n",
      "  warnings.warn('By default, results in \"votable\", \"ecsv\" and \"fits\" format are returned in '\n"
     ]
    },
    {
     "name": "stdout",
     "output_type": "stream",
     "text": [
      "181\n"
     ]
    },
    {
     "name": "stderr",
     "output_type": "stream",
     "text": [
      "/Users/anuragsah00/anaconda3/lib/python3.10/site-packages/astroquery/utils/tap/taputils.py:269: UserWarning: By default, results in \"votable\", \"ecsv\" and \"fits\" format are returned in compressed format therefore your file star_data/neighbouring_stars/29502-092.vot will be renamed to star_data/neighbouring_stars/29502-092.vot.gz\n",
      "  warnings.warn('By default, results in \"votable\", \"ecsv\" and \"fits\" format are returned in '\n"
     ]
    },
    {
     "name": "stdout",
     "output_type": "stream",
     "text": [
      "182\n"
     ]
    },
    {
     "name": "stderr",
     "output_type": "stream",
     "text": [
      "/Users/anuragsah00/anaconda3/lib/python3.10/site-packages/astroquery/utils/tap/taputils.py:269: UserWarning: By default, results in \"votable\", \"ecsv\" and \"fits\" format are returned in compressed format therefore your file star_data/neighbouring_stars/29504-004.vot will be renamed to star_data/neighbouring_stars/29504-004.vot.gz\n",
      "  warnings.warn('By default, results in \"votable\", \"ecsv\" and \"fits\" format are returned in '\n"
     ]
    },
    {
     "name": "stdout",
     "output_type": "stream",
     "text": [
      "183\n"
     ]
    },
    {
     "name": "stderr",
     "output_type": "stream",
     "text": [
      "/Users/anuragsah00/anaconda3/lib/python3.10/site-packages/astroquery/utils/tap/taputils.py:269: UserWarning: By default, results in \"votable\", \"ecsv\" and \"fits\" format are returned in compressed format therefore your file star_data/neighbouring_stars/29504-006.vot will be renamed to star_data/neighbouring_stars/29504-006.vot.gz\n",
      "  warnings.warn('By default, results in \"votable\", \"ecsv\" and \"fits\" format are returned in '\n"
     ]
    },
    {
     "name": "stdout",
     "output_type": "stream",
     "text": [
      "184\n"
     ]
    },
    {
     "name": "stderr",
     "output_type": "stream",
     "text": [
      "/Users/anuragsah00/anaconda3/lib/python3.10/site-packages/astroquery/utils/tap/taputils.py:269: UserWarning: By default, results in \"votable\", \"ecsv\" and \"fits\" format are returned in compressed format therefore your file star_data/neighbouring_stars/29506-007.vot will be renamed to star_data/neighbouring_stars/29506-007.vot.gz\n",
      "  warnings.warn('By default, results in \"votable\", \"ecsv\" and \"fits\" format are returned in '\n"
     ]
    },
    {
     "name": "stdout",
     "output_type": "stream",
     "text": [
      "185\n"
     ]
    },
    {
     "name": "stderr",
     "output_type": "stream",
     "text": [
      "/Users/anuragsah00/anaconda3/lib/python3.10/site-packages/astroquery/utils/tap/taputils.py:269: UserWarning: By default, results in \"votable\", \"ecsv\" and \"fits\" format are returned in compressed format therefore your file star_data/neighbouring_stars/29506-090.vot will be renamed to star_data/neighbouring_stars/29506-090.vot.gz\n",
      "  warnings.warn('By default, results in \"votable\", \"ecsv\" and \"fits\" format are returned in '\n"
     ]
    },
    {
     "name": "stdout",
     "output_type": "stream",
     "text": [
      "186\n"
     ]
    },
    {
     "name": "stderr",
     "output_type": "stream",
     "text": [
      "/Users/anuragsah00/anaconda3/lib/python3.10/site-packages/astroquery/utils/tap/taputils.py:269: UserWarning: By default, results in \"votable\", \"ecsv\" and \"fits\" format are returned in compressed format therefore your file star_data/neighbouring_stars/29509-027.vot will be renamed to star_data/neighbouring_stars/29509-027.vot.gz\n",
      "  warnings.warn('By default, results in \"votable\", \"ecsv\" and \"fits\" format are returned in '\n"
     ]
    },
    {
     "name": "stdout",
     "output_type": "stream",
     "text": [
      "187\n"
     ]
    },
    {
     "name": "stderr",
     "output_type": "stream",
     "text": [
      "/Users/anuragsah00/anaconda3/lib/python3.10/site-packages/astroquery/utils/tap/taputils.py:269: UserWarning: By default, results in \"votable\", \"ecsv\" and \"fits\" format are returned in compressed format therefore your file star_data/neighbouring_stars/29512-073.vot will be renamed to star_data/neighbouring_stars/29512-073.vot.gz\n",
      "  warnings.warn('By default, results in \"votable\", \"ecsv\" and \"fits\" format are returned in '\n"
     ]
    },
    {
     "name": "stdout",
     "output_type": "stream",
     "text": [
      "188\n"
     ]
    },
    {
     "name": "stderr",
     "output_type": "stream",
     "text": [
      "/Users/anuragsah00/anaconda3/lib/python3.10/site-packages/astroquery/utils/tap/taputils.py:269: UserWarning: By default, results in \"votable\", \"ecsv\" and \"fits\" format are returned in compressed format therefore your file star_data/neighbouring_stars/29513-003.vot will be renamed to star_data/neighbouring_stars/29513-003.vot.gz\n",
      "  warnings.warn('By default, results in \"votable\", \"ecsv\" and \"fits\" format are returned in '\n"
     ]
    },
    {
     "name": "stdout",
     "output_type": "stream",
     "text": [
      "189\n"
     ]
    },
    {
     "name": "stderr",
     "output_type": "stream",
     "text": [
      "/Users/anuragsah00/anaconda3/lib/python3.10/site-packages/astroquery/utils/tap/taputils.py:269: UserWarning: By default, results in \"votable\", \"ecsv\" and \"fits\" format are returned in compressed format therefore your file star_data/neighbouring_stars/29513-014.vot will be renamed to star_data/neighbouring_stars/29513-014.vot.gz\n",
      "  warnings.warn('By default, results in \"votable\", \"ecsv\" and \"fits\" format are returned in '\n"
     ]
    },
    {
     "name": "stdout",
     "output_type": "stream",
     "text": [
      "190\n"
     ]
    },
    {
     "name": "stderr",
     "output_type": "stream",
     "text": [
      "/Users/anuragsah00/anaconda3/lib/python3.10/site-packages/astroquery/utils/tap/taputils.py:269: UserWarning: By default, results in \"votable\", \"ecsv\" and \"fits\" format are returned in compressed format therefore your file star_data/neighbouring_stars/29513-015.vot will be renamed to star_data/neighbouring_stars/29513-015.vot.gz\n",
      "  warnings.warn('By default, results in \"votable\", \"ecsv\" and \"fits\" format are returned in '\n"
     ]
    },
    {
     "name": "stdout",
     "output_type": "stream",
     "text": [
      "191\n"
     ]
    },
    {
     "name": "stderr",
     "output_type": "stream",
     "text": [
      "/Users/anuragsah00/anaconda3/lib/python3.10/site-packages/astroquery/utils/tap/taputils.py:269: UserWarning: By default, results in \"votable\", \"ecsv\" and \"fits\" format are returned in compressed format therefore your file star_data/neighbouring_stars/29513-031.vot will be renamed to star_data/neighbouring_stars/29513-031.vot.gz\n",
      "  warnings.warn('By default, results in \"votable\", \"ecsv\" and \"fits\" format are returned in '\n"
     ]
    },
    {
     "name": "stdout",
     "output_type": "stream",
     "text": [
      "192\n"
     ]
    },
    {
     "name": "stderr",
     "output_type": "stream",
     "text": [
      "/Users/anuragsah00/anaconda3/lib/python3.10/site-packages/astroquery/utils/tap/taputils.py:269: UserWarning: By default, results in \"votable\", \"ecsv\" and \"fits\" format are returned in compressed format therefore your file star_data/neighbouring_stars/29513-032.vot will be renamed to star_data/neighbouring_stars/29513-032.vot.gz\n",
      "  warnings.warn('By default, results in \"votable\", \"ecsv\" and \"fits\" format are returned in '\n"
     ]
    },
    {
     "name": "stdout",
     "output_type": "stream",
     "text": [
      "193\n"
     ]
    },
    {
     "name": "stderr",
     "output_type": "stream",
     "text": [
      "/Users/anuragsah00/anaconda3/lib/python3.10/site-packages/astroquery/utils/tap/taputils.py:269: UserWarning: By default, results in \"votable\", \"ecsv\" and \"fits\" format are returned in compressed format therefore your file star_data/neighbouring_stars/29514-007.vot will be renamed to star_data/neighbouring_stars/29514-007.vot.gz\n",
      "  warnings.warn('By default, results in \"votable\", \"ecsv\" and \"fits\" format are returned in '\n"
     ]
    },
    {
     "name": "stdout",
     "output_type": "stream",
     "text": [
      "194\n"
     ]
    },
    {
     "name": "stderr",
     "output_type": "stream",
     "text": [
      "/Users/anuragsah00/anaconda3/lib/python3.10/site-packages/astroquery/utils/tap/taputils.py:269: UserWarning: By default, results in \"votable\", \"ecsv\" and \"fits\" format are returned in compressed format therefore your file star_data/neighbouring_stars/29514-017.vot will be renamed to star_data/neighbouring_stars/29514-017.vot.gz\n",
      "  warnings.warn('By default, results in \"votable\", \"ecsv\" and \"fits\" format are returned in '\n"
     ]
    },
    {
     "name": "stdout",
     "output_type": "stream",
     "text": [
      "195\n"
     ]
    },
    {
     "name": "stderr",
     "output_type": "stream",
     "text": [
      "/Users/anuragsah00/anaconda3/lib/python3.10/site-packages/astroquery/utils/tap/taputils.py:269: UserWarning: By default, results in \"votable\", \"ecsv\" and \"fits\" format are returned in compressed format therefore your file star_data/neighbouring_stars/29514-018.vot will be renamed to star_data/neighbouring_stars/29514-018.vot.gz\n",
      "  warnings.warn('By default, results in \"votable\", \"ecsv\" and \"fits\" format are returned in '\n"
     ]
    },
    {
     "name": "stdout",
     "output_type": "stream",
     "text": [
      "196\n"
     ]
    },
    {
     "name": "stderr",
     "output_type": "stream",
     "text": [
      "/Users/anuragsah00/anaconda3/lib/python3.10/site-packages/astroquery/utils/tap/taputils.py:269: UserWarning: By default, results in \"votable\", \"ecsv\" and \"fits\" format are returned in compressed format therefore your file star_data/neighbouring_stars/29514-037.vot will be renamed to star_data/neighbouring_stars/29514-037.vot.gz\n",
      "  warnings.warn('By default, results in \"votable\", \"ecsv\" and \"fits\" format are returned in '\n"
     ]
    },
    {
     "name": "stdout",
     "output_type": "stream",
     "text": [
      "197\n"
     ]
    },
    {
     "name": "stderr",
     "output_type": "stream",
     "text": [
      "/Users/anuragsah00/anaconda3/lib/python3.10/site-packages/astroquery/utils/tap/taputils.py:269: UserWarning: By default, results in \"votable\", \"ecsv\" and \"fits\" format are returned in compressed format therefore your file star_data/neighbouring_stars/29517-018.vot will be renamed to star_data/neighbouring_stars/29517-018.vot.gz\n",
      "  warnings.warn('By default, results in \"votable\", \"ecsv\" and \"fits\" format are returned in '\n"
     ]
    },
    {
     "name": "stdout",
     "output_type": "stream",
     "text": [
      "198\n"
     ]
    },
    {
     "name": "stderr",
     "output_type": "stream",
     "text": [
      "/Users/anuragsah00/anaconda3/lib/python3.10/site-packages/astroquery/utils/tap/taputils.py:269: UserWarning: By default, results in \"votable\", \"ecsv\" and \"fits\" format are returned in compressed format therefore your file star_data/neighbouring_stars/29517-042.vot will be renamed to star_data/neighbouring_stars/29517-042.vot.gz\n",
      "  warnings.warn('By default, results in \"votable\", \"ecsv\" and \"fits\" format are returned in '\n"
     ]
    },
    {
     "name": "stdout",
     "output_type": "stream",
     "text": [
      "199\n"
     ]
    },
    {
     "name": "stderr",
     "output_type": "stream",
     "text": [
      "/Users/anuragsah00/anaconda3/lib/python3.10/site-packages/astroquery/utils/tap/taputils.py:269: UserWarning: By default, results in \"votable\", \"ecsv\" and \"fits\" format are returned in compressed format therefore your file star_data/neighbouring_stars/29529-054.vot will be renamed to star_data/neighbouring_stars/29529-054.vot.gz\n",
      "  warnings.warn('By default, results in \"votable\", \"ecsv\" and \"fits\" format are returned in '\n"
     ]
    },
    {
     "name": "stdout",
     "output_type": "stream",
     "text": [
      "200\n"
     ]
    },
    {
     "name": "stderr",
     "output_type": "stream",
     "text": [
      "/Users/anuragsah00/anaconda3/lib/python3.10/site-packages/astroquery/utils/tap/taputils.py:269: UserWarning: By default, results in \"votable\", \"ecsv\" and \"fits\" format are returned in compressed format therefore your file star_data/neighbouring_stars/30312-044.vot will be renamed to star_data/neighbouring_stars/30312-044.vot.gz\n",
      "  warnings.warn('By default, results in \"votable\", \"ecsv\" and \"fits\" format are returned in '\n"
     ]
    },
    {
     "name": "stdout",
     "output_type": "stream",
     "text": [
      "201\n"
     ]
    },
    {
     "name": "stderr",
     "output_type": "stream",
     "text": [
      "/Users/anuragsah00/anaconda3/lib/python3.10/site-packages/astroquery/utils/tap/taputils.py:269: UserWarning: By default, results in \"votable\", \"ecsv\" and \"fits\" format are returned in compressed format therefore your file star_data/neighbouring_stars/30312-059.vot will be renamed to star_data/neighbouring_stars/30312-059.vot.gz\n",
      "  warnings.warn('By default, results in \"votable\", \"ecsv\" and \"fits\" format are returned in '\n"
     ]
    },
    {
     "name": "stdout",
     "output_type": "stream",
     "text": [
      "202\n"
     ]
    },
    {
     "name": "stderr",
     "output_type": "stream",
     "text": [
      "/Users/anuragsah00/anaconda3/lib/python3.10/site-packages/astroquery/utils/tap/taputils.py:269: UserWarning: By default, results in \"votable\", \"ecsv\" and \"fits\" format are returned in compressed format therefore your file star_data/neighbouring_stars/30312-062.vot will be renamed to star_data/neighbouring_stars/30312-062.vot.gz\n",
      "  warnings.warn('By default, results in \"votable\", \"ecsv\" and \"fits\" format are returned in '\n"
     ]
    },
    {
     "name": "stdout",
     "output_type": "stream",
     "text": [
      "203\n"
     ]
    },
    {
     "name": "stderr",
     "output_type": "stream",
     "text": [
      "/Users/anuragsah00/anaconda3/lib/python3.10/site-packages/astroquery/utils/tap/taputils.py:269: UserWarning: By default, results in \"votable\", \"ecsv\" and \"fits\" format are returned in compressed format therefore your file star_data/neighbouring_stars/30312-100.vot will be renamed to star_data/neighbouring_stars/30312-100.vot.gz\n",
      "  warnings.warn('By default, results in \"votable\", \"ecsv\" and \"fits\" format are returned in '\n"
     ]
    },
    {
     "name": "stdout",
     "output_type": "stream",
     "text": [
      "204\n"
     ]
    },
    {
     "name": "stderr",
     "output_type": "stream",
     "text": [
      "/Users/anuragsah00/anaconda3/lib/python3.10/site-packages/astroquery/utils/tap/taputils.py:269: UserWarning: By default, results in \"votable\", \"ecsv\" and \"fits\" format are returned in compressed format therefore your file star_data/neighbouring_stars/30314-067.vot will be renamed to star_data/neighbouring_stars/30314-067.vot.gz\n",
      "  warnings.warn('By default, results in \"votable\", \"ecsv\" and \"fits\" format are returned in '\n"
     ]
    },
    {
     "name": "stdout",
     "output_type": "stream",
     "text": [
      "205\n"
     ]
    },
    {
     "name": "stderr",
     "output_type": "stream",
     "text": [
      "/Users/anuragsah00/anaconda3/lib/python3.10/site-packages/astroquery/utils/tap/taputils.py:269: UserWarning: By default, results in \"votable\", \"ecsv\" and \"fits\" format are returned in compressed format therefore your file star_data/neighbouring_stars/30339-015.vot will be renamed to star_data/neighbouring_stars/30339-015.vot.gz\n",
      "  warnings.warn('By default, results in \"votable\", \"ecsv\" and \"fits\" format are returned in '\n"
     ]
    },
    {
     "name": "stdout",
     "output_type": "stream",
     "text": [
      "206\n"
     ]
    },
    {
     "name": "stderr",
     "output_type": "stream",
     "text": [
      "/Users/anuragsah00/anaconda3/lib/python3.10/site-packages/astroquery/utils/tap/taputils.py:269: UserWarning: By default, results in \"votable\", \"ecsv\" and \"fits\" format are returned in compressed format therefore your file star_data/neighbouring_stars/30339-046.vot will be renamed to star_data/neighbouring_stars/30339-046.vot.gz\n",
      "  warnings.warn('By default, results in \"votable\", \"ecsv\" and \"fits\" format are returned in '\n"
     ]
    },
    {
     "name": "stdout",
     "output_type": "stream",
     "text": [
      "207\n"
     ]
    },
    {
     "name": "stderr",
     "output_type": "stream",
     "text": [
      "/Users/anuragsah00/anaconda3/lib/python3.10/site-packages/astroquery/utils/tap/taputils.py:269: UserWarning: By default, results in \"votable\", \"ecsv\" and \"fits\" format are returned in compressed format therefore your file star_data/neighbouring_stars/30339-052.vot will be renamed to star_data/neighbouring_stars/30339-052.vot.gz\n",
      "  warnings.warn('By default, results in \"votable\", \"ecsv\" and \"fits\" format are returned in '\n"
     ]
    },
    {
     "name": "stdout",
     "output_type": "stream",
     "text": [
      "208\n"
     ]
    },
    {
     "name": "stderr",
     "output_type": "stream",
     "text": [
      "/Users/anuragsah00/anaconda3/lib/python3.10/site-packages/astroquery/utils/tap/taputils.py:269: UserWarning: By default, results in \"votable\", \"ecsv\" and \"fits\" format are returned in compressed format therefore your file star_data/neighbouring_stars/30339-069.vot will be renamed to star_data/neighbouring_stars/30339-069.vot.gz\n",
      "  warnings.warn('By default, results in \"votable\", \"ecsv\" and \"fits\" format are returned in '\n"
     ]
    },
    {
     "name": "stdout",
     "output_type": "stream",
     "text": [
      "209\n"
     ]
    },
    {
     "name": "stderr",
     "output_type": "stream",
     "text": [
      "/Users/anuragsah00/anaconda3/lib/python3.10/site-packages/astroquery/utils/tap/taputils.py:269: UserWarning: By default, results in \"votable\", \"ecsv\" and \"fits\" format are returned in compressed format therefore your file star_data/neighbouring_stars/30339-073.vot will be renamed to star_data/neighbouring_stars/30339-073.vot.gz\n",
      "  warnings.warn('By default, results in \"votable\", \"ecsv\" and \"fits\" format are returned in '\n"
     ]
    },
    {
     "name": "stdout",
     "output_type": "stream",
     "text": [
      "210\n"
     ]
    },
    {
     "name": "stderr",
     "output_type": "stream",
     "text": [
      "/Users/anuragsah00/anaconda3/lib/python3.10/site-packages/astroquery/utils/tap/taputils.py:269: UserWarning: By default, results in \"votable\", \"ecsv\" and \"fits\" format are returned in compressed format therefore your file star_data/neighbouring_stars/30492-001.vot will be renamed to star_data/neighbouring_stars/30492-001.vot.gz\n",
      "  warnings.warn('By default, results in \"votable\", \"ecsv\" and \"fits\" format are returned in '\n"
     ]
    },
    {
     "name": "stdout",
     "output_type": "stream",
     "text": [
      "211\n"
     ]
    },
    {
     "name": "stderr",
     "output_type": "stream",
     "text": [
      "/Users/anuragsah00/anaconda3/lib/python3.10/site-packages/astroquery/utils/tap/taputils.py:269: UserWarning: By default, results in \"votable\", \"ecsv\" and \"fits\" format are returned in compressed format therefore your file star_data/neighbouring_stars/30492-016.vot will be renamed to star_data/neighbouring_stars/30492-016.vot.gz\n",
      "  warnings.warn('By default, results in \"votable\", \"ecsv\" and \"fits\" format are returned in '\n"
     ]
    },
    {
     "name": "stdout",
     "output_type": "stream",
     "text": [
      "212\n"
     ]
    },
    {
     "name": "stderr",
     "output_type": "stream",
     "text": [
      "/Users/anuragsah00/anaconda3/lib/python3.10/site-packages/astroquery/utils/tap/taputils.py:269: UserWarning: By default, results in \"votable\", \"ecsv\" and \"fits\" format are returned in compressed format therefore your file star_data/neighbouring_stars/30492-110.vot will be renamed to star_data/neighbouring_stars/30492-110.vot.gz\n",
      "  warnings.warn('By default, results in \"votable\", \"ecsv\" and \"fits\" format are returned in '\n"
     ]
    },
    {
     "name": "stdout",
     "output_type": "stream",
     "text": [
      "213\n"
     ]
    },
    {
     "name": "stderr",
     "output_type": "stream",
     "text": [
      "/Users/anuragsah00/anaconda3/lib/python3.10/site-packages/astroquery/utils/tap/taputils.py:269: UserWarning: By default, results in \"votable\", \"ecsv\" and \"fits\" format are returned in compressed format therefore your file star_data/neighbouring_stars/30493-071.vot will be renamed to star_data/neighbouring_stars/30493-071.vot.gz\n",
      "  warnings.warn('By default, results in \"votable\", \"ecsv\" and \"fits\" format are returned in '\n"
     ]
    },
    {
     "name": "stdout",
     "output_type": "stream",
     "text": [
      "214\n"
     ]
    },
    {
     "name": "stderr",
     "output_type": "stream",
     "text": [
      "/Users/anuragsah00/anaconda3/lib/python3.10/site-packages/astroquery/utils/tap/taputils.py:269: UserWarning: By default, results in \"votable\", \"ecsv\" and \"fits\" format are returned in compressed format therefore your file star_data/neighbouring_stars/30494-003.vot will be renamed to star_data/neighbouring_stars/30494-003.vot.gz\n",
      "  warnings.warn('By default, results in \"votable\", \"ecsv\" and \"fits\" format are returned in '\n"
     ]
    },
    {
     "name": "stdout",
     "output_type": "stream",
     "text": [
      "215\n"
     ]
    },
    {
     "name": "stderr",
     "output_type": "stream",
     "text": [
      "/Users/anuragsah00/anaconda3/lib/python3.10/site-packages/astroquery/utils/tap/taputils.py:269: UserWarning: By default, results in \"votable\", \"ecsv\" and \"fits\" format are returned in compressed format therefore your file star_data/neighbouring_stars/31082-001.vot will be renamed to star_data/neighbouring_stars/31082-001.vot.gz\n",
      "  warnings.warn('By default, results in \"votable\", \"ecsv\" and \"fits\" format are returned in '\n"
     ]
    },
    {
     "name": "stdout",
     "output_type": "stream",
     "text": [
      "216\n"
     ]
    },
    {
     "name": "stderr",
     "output_type": "stream",
     "text": [
      "/Users/anuragsah00/anaconda3/lib/python3.10/site-packages/astroquery/utils/tap/taputils.py:269: UserWarning: By default, results in \"votable\", \"ecsv\" and \"fits\" format are returned in compressed format therefore your file star_data/neighbouring_stars/6008.vot will be renamed to star_data/neighbouring_stars/6008.vot.gz\n",
      "  warnings.warn('By default, results in \"votable\", \"ecsv\" and \"fits\" format are returned in '\n"
     ]
    },
    {
     "name": "stdout",
     "output_type": "stream",
     "text": [
      "217\n"
     ]
    },
    {
     "name": "stderr",
     "output_type": "stream",
     "text": [
      "/Users/anuragsah00/anaconda3/lib/python3.10/site-packages/astroquery/utils/tap/taputils.py:269: UserWarning: By default, results in \"votable\", \"ecsv\" and \"fits\" format are returned in compressed format therefore your file star_data/neighbouring_stars/5550.vot will be renamed to star_data/neighbouring_stars/5550.vot.gz\n",
      "  warnings.warn('By default, results in \"votable\", \"ecsv\" and \"fits\" format are returned in '\n"
     ]
    },
    {
     "name": "stdout",
     "output_type": "stream",
     "text": [
      "218\n"
     ]
    },
    {
     "name": "stderr",
     "output_type": "stream",
     "text": [
      "/Users/anuragsah00/anaconda3/lib/python3.10/site-packages/astroquery/utils/tap/taputils.py:269: UserWarning: By default, results in \"votable\", \"ecsv\" and \"fits\" format are returned in compressed format therefore your file star_data/neighbouring_stars/5781.vot will be renamed to star_data/neighbouring_stars/5781.vot.gz\n",
      "  warnings.warn('By default, results in \"votable\", \"ecsv\" and \"fits\" format are returned in '\n"
     ]
    },
    {
     "name": "stdout",
     "output_type": "stream",
     "text": [
      "219\n"
     ]
    },
    {
     "name": "stderr",
     "output_type": "stream",
     "text": [
      "/Users/anuragsah00/anaconda3/lib/python3.10/site-packages/astroquery/utils/tap/taputils.py:269: UserWarning: By default, results in \"votable\", \"ecsv\" and \"fits\" format are returned in compressed format therefore your file star_data/neighbouring_stars/2582.vot will be renamed to star_data/neighbouring_stars/2582.vot.gz\n",
      "  warnings.warn('By default, results in \"votable\", \"ecsv\" and \"fits\" format are returned in '\n"
     ]
    },
    {
     "name": "stdout",
     "output_type": "stream",
     "text": [
      "220\n"
     ]
    },
    {
     "name": "stderr",
     "output_type": "stream",
     "text": [
      "/Users/anuragsah00/anaconda3/lib/python3.10/site-packages/astroquery/utils/tap/taputils.py:269: UserWarning: By default, results in \"votable\", \"ecsv\" and \"fits\" format are returned in compressed format therefore your file star_data/neighbouring_stars/2495.vot will be renamed to star_data/neighbouring_stars/2495.vot.gz\n",
      "  warnings.warn('By default, results in \"votable\", \"ecsv\" and \"fits\" format are returned in '\n"
     ]
    },
    {
     "name": "stdout",
     "output_type": "stream",
     "text": [
      "221\n"
     ]
    },
    {
     "name": "stderr",
     "output_type": "stream",
     "text": [
      "/Users/anuragsah00/anaconda3/lib/python3.10/site-packages/astroquery/utils/tap/taputils.py:269: UserWarning: By default, results in \"votable\", \"ecsv\" and \"fits\" format are returned in compressed format therefore your file star_data/neighbouring_stars/1185A.vot will be renamed to star_data/neighbouring_stars/1185A.vot.gz\n",
      "  warnings.warn('By default, results in \"votable\", \"ecsv\" and \"fits\" format are returned in '\n"
     ]
    },
    {
     "name": "stdout",
     "output_type": "stream",
     "text": [
      "222\n"
     ]
    },
    {
     "name": "stderr",
     "output_type": "stream",
     "text": [
      "/Users/anuragsah00/anaconda3/lib/python3.10/site-packages/astroquery/utils/tap/taputils.py:269: UserWarning: By default, results in \"votable\", \"ecsv\" and \"fits\" format are returned in compressed format therefore your file star_data/neighbouring_stars/1676.vot will be renamed to star_data/neighbouring_stars/1676.vot.gz\n",
      "  warnings.warn('By default, results in \"votable\", \"ecsv\" and \"fits\" format are returned in '\n"
     ]
    },
    {
     "name": "stdout",
     "output_type": "stream",
     "text": [
      "223\n"
     ]
    },
    {
     "name": "stderr",
     "output_type": "stream",
     "text": [
      "/Users/anuragsah00/anaconda3/lib/python3.10/site-packages/astroquery/utils/tap/taputils.py:269: UserWarning: By default, results in \"votable\", \"ecsv\" and \"fits\" format are returned in compressed format therefore your file star_data/neighbouring_stars/3578.vot will be renamed to star_data/neighbouring_stars/3578.vot.gz\n",
      "  warnings.warn('By default, results in \"votable\", \"ecsv\" and \"fits\" format are returned in '\n"
     ]
    },
    {
     "name": "stdout",
     "output_type": "stream",
     "text": [
      "224\n"
     ]
    },
    {
     "name": "stderr",
     "output_type": "stream",
     "text": [
      "/Users/anuragsah00/anaconda3/lib/python3.10/site-packages/astroquery/utils/tap/taputils.py:269: UserWarning: By default, results in \"votable\", \"ecsv\" and \"fits\" format are returned in compressed format therefore your file star_data/neighbouring_stars/2356.vot will be renamed to star_data/neighbouring_stars/2356.vot.gz\n",
      "  warnings.warn('By default, results in \"votable\", \"ecsv\" and \"fits\" format are returned in '\n"
     ]
    },
    {
     "name": "stdout",
     "output_type": "stream",
     "text": [
      "225\n"
     ]
    },
    {
     "name": "stderr",
     "output_type": "stream",
     "text": [
      "/Users/anuragsah00/anaconda3/lib/python3.10/site-packages/astroquery/utils/tap/taputils.py:269: UserWarning: By default, results in \"votable\", \"ecsv\" and \"fits\" format are returned in compressed format therefore your file star_data/neighbouring_stars/493.vot will be renamed to star_data/neighbouring_stars/493.vot.gz\n",
      "  warnings.warn('By default, results in \"votable\", \"ecsv\" and \"fits\" format are returned in '\n"
     ]
    },
    {
     "name": "stdout",
     "output_type": "stream",
     "text": [
      "226\n"
     ]
    },
    {
     "name": "stderr",
     "output_type": "stream",
     "text": [
      "/Users/anuragsah00/anaconda3/lib/python3.10/site-packages/astroquery/utils/tap/taputils.py:269: UserWarning: By default, results in \"votable\", \"ecsv\" and \"fits\" format are returned in compressed format therefore your file star_data/neighbouring_stars/245.vot will be renamed to star_data/neighbouring_stars/245.vot.gz\n",
      "  warnings.warn('By default, results in \"votable\", \"ecsv\" and \"fits\" format are returned in '\n"
     ]
    },
    {
     "name": "stdout",
     "output_type": "stream",
     "text": [
      "227\n",
      "228\n"
     ]
    },
    {
     "name": "stderr",
     "output_type": "stream",
     "text": [
      "/Users/anuragsah00/anaconda3/lib/python3.10/site-packages/astroquery/utils/tap/taputils.py:269: UserWarning: By default, results in \"votable\", \"ecsv\" and \"fits\" format are returned in compressed format therefore your file star_data/neighbouring_stars/1052.vot will be renamed to star_data/neighbouring_stars/1052.vot.gz\n",
      "  warnings.warn('By default, results in \"votable\", \"ecsv\" and \"fits\" format are returned in '\n"
     ]
    },
    {
     "name": "stdout",
     "output_type": "stream",
     "text": [
      "229\n"
     ]
    },
    {
     "name": "stderr",
     "output_type": "stream",
     "text": [
      "/Users/anuragsah00/anaconda3/lib/python3.10/site-packages/astroquery/utils/tap/taputils.py:269: UserWarning: By default, results in \"votable\", \"ecsv\" and \"fits\" format are returned in compressed format therefore your file star_data/neighbouring_stars/298.vot will be renamed to star_data/neighbouring_stars/298.vot.gz\n",
      "  warnings.warn('By default, results in \"votable\", \"ecsv\" and \"fits\" format are returned in '\n"
     ]
    },
    {
     "name": "stdout",
     "output_type": "stream",
     "text": [
      "230\n"
     ]
    },
    {
     "name": "stderr",
     "output_type": "stream",
     "text": [
      "/Users/anuragsah00/anaconda3/lib/python3.10/site-packages/astroquery/utils/tap/taputils.py:269: UserWarning: By default, results in \"votable\", \"ecsv\" and \"fits\" format are returned in compressed format therefore your file star_data/neighbouring_stars/1782.vot will be renamed to star_data/neighbouring_stars/1782.vot.gz\n",
      "  warnings.warn('By default, results in \"votable\", \"ecsv\" and \"fits\" format are returned in '\n"
     ]
    },
    {
     "name": "stdout",
     "output_type": "stream",
     "text": [
      "231\n"
     ]
    },
    {
     "name": "stderr",
     "output_type": "stream",
     "text": [
      "/Users/anuragsah00/anaconda3/lib/python3.10/site-packages/astroquery/utils/tap/taputils.py:269: UserWarning: By default, results in \"votable\", \"ecsv\" and \"fits\" format are returned in compressed format therefore your file star_data/neighbouring_stars/11.49.vot will be renamed to star_data/neighbouring_stars/11.49.vot.gz\n",
      "  warnings.warn('By default, results in \"votable\", \"ecsv\" and \"fits\" format are returned in '\n"
     ]
    },
    {
     "name": "stdout",
     "output_type": "stream",
     "text": [
      "232\n"
     ]
    },
    {
     "name": "stderr",
     "output_type": "stream",
     "text": [
      "/Users/anuragsah00/anaconda3/lib/python3.10/site-packages/astroquery/utils/tap/taputils.py:269: UserWarning: By default, results in \"votable\", \"ecsv\" and \"fits\" format are returned in compressed format therefore your file star_data/neighbouring_stars/11.43.vot will be renamed to star_data/neighbouring_stars/11.43.vot.gz\n",
      "  warnings.warn('By default, results in \"votable\", \"ecsv\" and \"fits\" format are returned in '\n"
     ]
    },
    {
     "name": "stdout",
     "output_type": "stream",
     "text": [
      "233\n"
     ]
    },
    {
     "name": "stderr",
     "output_type": "stream",
     "text": [
      "/Users/anuragsah00/anaconda3/lib/python3.10/site-packages/astroquery/utils/tap/taputils.py:269: UserWarning: By default, results in \"votable\", \"ecsv\" and \"fits\" format are returned in compressed format therefore your file star_data/neighbouring_stars/12.11.vot will be renamed to star_data/neighbouring_stars/12.11.vot.gz\n",
      "  warnings.warn('By default, results in \"votable\", \"ecsv\" and \"fits\" format are returned in '\n"
     ]
    },
    {
     "name": "stdout",
     "output_type": "stream",
     "text": [
      "234\n"
     ]
    },
    {
     "name": "stderr",
     "output_type": "stream",
     "text": [
      "/Users/anuragsah00/anaconda3/lib/python3.10/site-packages/astroquery/utils/tap/taputils.py:269: UserWarning: By default, results in \"votable\", \"ecsv\" and \"fits\" format are returned in compressed format therefore your file star_data/neighbouring_stars/12.58.vot will be renamed to star_data/neighbouring_stars/12.58.vot.gz\n",
      "  warnings.warn('By default, results in \"votable\", \"ecsv\" and \"fits\" format are returned in '\n"
     ]
    },
    {
     "name": "stdout",
     "output_type": "stream",
     "text": [
      "235\n"
     ]
    },
    {
     "name": "stderr",
     "output_type": "stream",
     "text": [
      "/Users/anuragsah00/anaconda3/lib/python3.10/site-packages/astroquery/utils/tap/taputils.py:269: UserWarning: By default, results in \"votable\", \"ecsv\" and \"fits\" format are returned in compressed format therefore your file star_data/neighbouring_stars/12.06.vot will be renamed to star_data/neighbouring_stars/12.06.vot.gz\n",
      "  warnings.warn('By default, results in \"votable\", \"ecsv\" and \"fits\" format are returned in '\n"
     ]
    },
    {
     "name": "stdout",
     "output_type": "stream",
     "text": [
      "236\n"
     ]
    },
    {
     "name": "stderr",
     "output_type": "stream",
     "text": [
      "/Users/anuragsah00/anaconda3/lib/python3.10/site-packages/astroquery/utils/tap/taputils.py:269: UserWarning: By default, results in \"votable\", \"ecsv\" and \"fits\" format are returned in compressed format therefore your file star_data/neighbouring_stars/13.34.vot will be renamed to star_data/neighbouring_stars/13.34.vot.gz\n",
      "  warnings.warn('By default, results in \"votable\", \"ecsv\" and \"fits\" format are returned in '\n"
     ]
    },
    {
     "name": "stdout",
     "output_type": "stream",
     "text": [
      "237\n"
     ]
    },
    {
     "name": "stderr",
     "output_type": "stream",
     "text": [
      "/Users/anuragsah00/anaconda3/lib/python3.10/site-packages/astroquery/utils/tap/taputils.py:269: UserWarning: By default, results in \"votable\", \"ecsv\" and \"fits\" format are returned in compressed format therefore your file star_data/neighbouring_stars/12.32.vot will be renamed to star_data/neighbouring_stars/12.32.vot.gz\n",
      "  warnings.warn('By default, results in \"votable\", \"ecsv\" and \"fits\" format are returned in '\n"
     ]
    },
    {
     "name": "stdout",
     "output_type": "stream",
     "text": [
      "238\n"
     ]
    },
    {
     "name": "stderr",
     "output_type": "stream",
     "text": [
      "/Users/anuragsah00/anaconda3/lib/python3.10/site-packages/astroquery/utils/tap/taputils.py:269: UserWarning: By default, results in \"votable\", \"ecsv\" and \"fits\" format are returned in compressed format therefore your file star_data/neighbouring_stars/11.63.vot will be renamed to star_data/neighbouring_stars/11.63.vot.gz\n",
      "  warnings.warn('By default, results in \"votable\", \"ecsv\" and \"fits\" format are returned in '\n"
     ]
    },
    {
     "name": "stdout",
     "output_type": "stream",
     "text": [
      "239\n"
     ]
    },
    {
     "name": "stderr",
     "output_type": "stream",
     "text": [
      "/Users/anuragsah00/anaconda3/lib/python3.10/site-packages/astroquery/utils/tap/taputils.py:269: UserWarning: By default, results in \"votable\", \"ecsv\" and \"fits\" format are returned in compressed format therefore your file star_data/neighbouring_stars/11.27.vot will be renamed to star_data/neighbouring_stars/11.27.vot.gz\n",
      "  warnings.warn('By default, results in \"votable\", \"ecsv\" and \"fits\" format are returned in '\n"
     ]
    },
    {
     "name": "stdout",
     "output_type": "stream",
     "text": [
      "240\n",
      "241\n"
     ]
    },
    {
     "name": "stderr",
     "output_type": "stream",
     "text": [
      "/Users/anuragsah00/anaconda3/lib/python3.10/site-packages/astroquery/utils/tap/taputils.py:269: UserWarning: By default, results in \"votable\", \"ecsv\" and \"fits\" format are returned in compressed format therefore your file star_data/neighbouring_stars/10.78.vot will be renamed to star_data/neighbouring_stars/10.78.vot.gz\n",
      "  warnings.warn('By default, results in \"votable\", \"ecsv\" and \"fits\" format are returned in '\n"
     ]
    },
    {
     "name": "stdout",
     "output_type": "stream",
     "text": [
      "242\n"
     ]
    },
    {
     "name": "stderr",
     "output_type": "stream",
     "text": [
      "/Users/anuragsah00/anaconda3/lib/python3.10/site-packages/astroquery/utils/tap/taputils.py:269: UserWarning: By default, results in \"votable\", \"ecsv\" and \"fits\" format are returned in compressed format therefore your file star_data/neighbouring_stars/11.94.vot will be renamed to star_data/neighbouring_stars/11.94.vot.gz\n",
      "  warnings.warn('By default, results in \"votable\", \"ecsv\" and \"fits\" format are returned in '\n"
     ]
    },
    {
     "name": "stdout",
     "output_type": "stream",
     "text": [
      "243\n"
     ]
    },
    {
     "name": "stderr",
     "output_type": "stream",
     "text": [
      "/Users/anuragsah00/anaconda3/lib/python3.10/site-packages/astroquery/utils/tap/taputils.py:269: UserWarning: By default, results in \"votable\", \"ecsv\" and \"fits\" format are returned in compressed format therefore your file star_data/neighbouring_stars/12.04.vot will be renamed to star_data/neighbouring_stars/12.04.vot.gz\n",
      "  warnings.warn('By default, results in \"votable\", \"ecsv\" and \"fits\" format are returned in '\n"
     ]
    },
    {
     "name": "stdout",
     "output_type": "stream",
     "text": [
      "244\n"
     ]
    },
    {
     "name": "stderr",
     "output_type": "stream",
     "text": [
      "/Users/anuragsah00/anaconda3/lib/python3.10/site-packages/astroquery/utils/tap/taputils.py:269: UserWarning: By default, results in \"votable\", \"ecsv\" and \"fits\" format are returned in compressed format therefore your file star_data/neighbouring_stars/10.43.vot will be renamed to star_data/neighbouring_stars/10.43.vot.gz\n",
      "  warnings.warn('By default, results in \"votable\", \"ecsv\" and \"fits\" format are returned in '\n"
     ]
    },
    {
     "name": "stdout",
     "output_type": "stream",
     "text": [
      "245\n"
     ]
    },
    {
     "name": "stderr",
     "output_type": "stream",
     "text": [
      "/Users/anuragsah00/anaconda3/lib/python3.10/site-packages/astroquery/utils/tap/taputils.py:269: UserWarning: By default, results in \"votable\", \"ecsv\" and \"fits\" format are returned in compressed format therefore your file star_data/neighbouring_stars/c.vot will be renamed to star_data/neighbouring_stars/c.vot.gz\n",
      "  warnings.warn('By default, results in \"votable\", \"ecsv\" and \"fits\" format are returned in '\n"
     ]
    },
    {
     "name": "stdout",
     "output_type": "stream",
     "text": [
      "246\n"
     ]
    },
    {
     "name": "stderr",
     "output_type": "stream",
     "text": [
      "/Users/anuragsah00/anaconda3/lib/python3.10/site-packages/astroquery/utils/tap/taputils.py:269: UserWarning: By default, results in \"votable\", \"ecsv\" and \"fits\" format are returned in compressed format therefore your file star_data/neighbouring_stars/11.81.vot will be renamed to star_data/neighbouring_stars/11.81.vot.gz\n",
      "  warnings.warn('By default, results in \"votable\", \"ecsv\" and \"fits\" format are returned in '\n"
     ]
    },
    {
     "name": "stdout",
     "output_type": "stream",
     "text": [
      "247\n"
     ]
    },
    {
     "name": "stderr",
     "output_type": "stream",
     "text": [
      "/Users/anuragsah00/anaconda3/lib/python3.10/site-packages/astroquery/utils/tap/taputils.py:269: UserWarning: By default, results in \"votable\", \"ecsv\" and \"fits\" format are returned in compressed format therefore your file star_data/neighbouring_stars/11.60.vot will be renamed to star_data/neighbouring_stars/11.60.vot.gz\n",
      "  warnings.warn('By default, results in \"votable\", \"ecsv\" and \"fits\" format are returned in '\n"
     ]
    },
    {
     "name": "stdout",
     "output_type": "stream",
     "text": [
      "248\n"
     ]
    },
    {
     "name": "stderr",
     "output_type": "stream",
     "text": [
      "/Users/anuragsah00/anaconda3/lib/python3.10/site-packages/astroquery/utils/tap/taputils.py:269: UserWarning: By default, results in \"votable\", \"ecsv\" and \"fits\" format are returned in compressed format therefore your file star_data/neighbouring_stars/12.42.vot will be renamed to star_data/neighbouring_stars/12.42.vot.gz\n",
      "  warnings.warn('By default, results in \"votable\", \"ecsv\" and \"fits\" format are returned in '\n"
     ]
    },
    {
     "name": "stdout",
     "output_type": "stream",
     "text": [
      "249\n",
      "250\n"
     ]
    },
    {
     "name": "stderr",
     "output_type": "stream",
     "text": [
      "/Users/anuragsah00/anaconda3/lib/python3.10/site-packages/astroquery/utils/tap/taputils.py:269: UserWarning: By default, results in \"votable\", \"ecsv\" and \"fits\" format are returned in compressed format therefore your file star_data/neighbouring_stars/13.06.vot will be renamed to star_data/neighbouring_stars/13.06.vot.gz\n",
      "  warnings.warn('By default, results in \"votable\", \"ecsv\" and \"fits\" format are returned in '\n"
     ]
    },
    {
     "name": "stdout",
     "output_type": "stream",
     "text": [
      "251\n"
     ]
    },
    {
     "name": "stderr",
     "output_type": "stream",
     "text": [
      "/Users/anuragsah00/anaconda3/lib/python3.10/site-packages/astroquery/utils/tap/taputils.py:269: UserWarning: By default, results in \"votable\", \"ecsv\" and \"fits\" format are returned in compressed format therefore your file star_data/neighbouring_stars/13.24.vot will be renamed to star_data/neighbouring_stars/13.24.vot.gz\n",
      "  warnings.warn('By default, results in \"votable\", \"ecsv\" and \"fits\" format are returned in '\n"
     ]
    },
    {
     "name": "stdout",
     "output_type": "stream",
     "text": [
      "252\n"
     ]
    },
    {
     "name": "stderr",
     "output_type": "stream",
     "text": [
      "/Users/anuragsah00/anaconda3/lib/python3.10/site-packages/astroquery/utils/tap/taputils.py:269: UserWarning: By default, results in \"votable\", \"ecsv\" and \"fits\" format are returned in compressed format therefore your file star_data/neighbouring_stars/10.49.vot will be renamed to star_data/neighbouring_stars/10.49.vot.gz\n",
      "  warnings.warn('By default, results in \"votable\", \"ecsv\" and \"fits\" format are returned in '\n"
     ]
    },
    {
     "name": "stdout",
     "output_type": "stream",
     "text": [
      "253\n"
     ]
    },
    {
     "name": "stderr",
     "output_type": "stream",
     "text": [
      "/Users/anuragsah00/anaconda3/lib/python3.10/site-packages/astroquery/utils/tap/taputils.py:269: UserWarning: By default, results in \"votable\", \"ecsv\" and \"fits\" format are returned in compressed format therefore your file star_data/neighbouring_stars/11.44.vot will be renamed to star_data/neighbouring_stars/11.44.vot.gz\n",
      "  warnings.warn('By default, results in \"votable\", \"ecsv\" and \"fits\" format are returned in '\n"
     ]
    },
    {
     "name": "stdout",
     "output_type": "stream",
     "text": [
      "254\n"
     ]
    },
    {
     "name": "stderr",
     "output_type": "stream",
     "text": [
      "/Users/anuragsah00/anaconda3/lib/python3.10/site-packages/astroquery/utils/tap/taputils.py:269: UserWarning: By default, results in \"votable\", \"ecsv\" and \"fits\" format are returned in compressed format therefore your file star_data/neighbouring_stars/10.84.vot will be renamed to star_data/neighbouring_stars/10.84.vot.gz\n",
      "  warnings.warn('By default, results in \"votable\", \"ecsv\" and \"fits\" format are returned in '\n"
     ]
    },
    {
     "name": "stdout",
     "output_type": "stream",
     "text": [
      "255\n",
      "256\n"
     ]
    },
    {
     "name": "stderr",
     "output_type": "stream",
     "text": [
      "/Users/anuragsah00/anaconda3/lib/python3.10/site-packages/astroquery/utils/tap/taputils.py:269: UserWarning: By default, results in \"votable\", \"ecsv\" and \"fits\" format are returned in compressed format therefore your file star_data/neighbouring_stars/8.95.vot will be renamed to star_data/neighbouring_stars/8.95.vot.gz\n",
      "  warnings.warn('By default, results in \"votable\", \"ecsv\" and \"fits\" format are returned in '\n"
     ]
    },
    {
     "name": "stdout",
     "output_type": "stream",
     "text": [
      "257\n",
      "258\n"
     ]
    },
    {
     "name": "stderr",
     "output_type": "stream",
     "text": [
      "/Users/anuragsah00/anaconda3/lib/python3.10/site-packages/astroquery/utils/tap/taputils.py:269: UserWarning: By default, results in \"votable\", \"ecsv\" and \"fits\" format are returned in compressed format therefore your file star_data/neighbouring_stars/10.82.vot will be renamed to star_data/neighbouring_stars/10.82.vot.gz\n",
      "  warnings.warn('By default, results in \"votable\", \"ecsv\" and \"fits\" format are returned in '\n"
     ]
    },
    {
     "name": "stdout",
     "output_type": "stream",
     "text": [
      "259\n",
      "260\n",
      "261\n"
     ]
    },
    {
     "name": "stderr",
     "output_type": "stream",
     "text": [
      "/Users/anuragsah00/anaconda3/lib/python3.10/site-packages/astroquery/utils/tap/taputils.py:269: UserWarning: By default, results in \"votable\", \"ecsv\" and \"fits\" format are returned in compressed format therefore your file star_data/neighbouring_stars/11.22.vot will be renamed to star_data/neighbouring_stars/11.22.vot.gz\n",
      "  warnings.warn('By default, results in \"votable\", \"ecsv\" and \"fits\" format are returned in '\n"
     ]
    },
    {
     "name": "stdout",
     "output_type": "stream",
     "text": [
      "262\n",
      "263\n"
     ]
    },
    {
     "name": "stderr",
     "output_type": "stream",
     "text": [
      "/Users/anuragsah00/anaconda3/lib/python3.10/site-packages/astroquery/utils/tap/taputils.py:269: UserWarning: By default, results in \"votable\", \"ecsv\" and \"fits\" format are returned in compressed format therefore your file star_data/neighbouring_stars/12.68.vot will be renamed to star_data/neighbouring_stars/12.68.vot.gz\n",
      "  warnings.warn('By default, results in \"votable\", \"ecsv\" and \"fits\" format are returned in '\n"
     ]
    },
    {
     "name": "stdout",
     "output_type": "stream",
     "text": [
      "264\n"
     ]
    },
    {
     "name": "stderr",
     "output_type": "stream",
     "text": [
      "/Users/anuragsah00/anaconda3/lib/python3.10/site-packages/astroquery/utils/tap/taputils.py:269: UserWarning: By default, results in \"votable\", \"ecsv\" and \"fits\" format are returned in compressed format therefore your file star_data/neighbouring_stars/10.51.vot will be renamed to star_data/neighbouring_stars/10.51.vot.gz\n",
      "  warnings.warn('By default, results in \"votable\", \"ecsv\" and \"fits\" format are returned in '\n"
     ]
    },
    {
     "name": "stdout",
     "output_type": "stream",
     "text": [
      "265\n"
     ]
    },
    {
     "name": "stderr",
     "output_type": "stream",
     "text": [
      "/Users/anuragsah00/anaconda3/lib/python3.10/site-packages/astroquery/utils/tap/taputils.py:269: UserWarning: By default, results in \"votable\", \"ecsv\" and \"fits\" format are returned in compressed format therefore your file star_data/neighbouring_stars/11.40.vot will be renamed to star_data/neighbouring_stars/11.40.vot.gz\n",
      "  warnings.warn('By default, results in \"votable\", \"ecsv\" and \"fits\" format are returned in '\n"
     ]
    },
    {
     "name": "stdout",
     "output_type": "stream",
     "text": [
      "266\n"
     ]
    },
    {
     "name": "stderr",
     "output_type": "stream",
     "text": [
      "/Users/anuragsah00/anaconda3/lib/python3.10/site-packages/astroquery/utils/tap/taputils.py:269: UserWarning: By default, results in \"votable\", \"ecsv\" and \"fits\" format are returned in compressed format therefore your file star_data/neighbouring_stars/12.08.vot will be renamed to star_data/neighbouring_stars/12.08.vot.gz\n",
      "  warnings.warn('By default, results in \"votable\", \"ecsv\" and \"fits\" format are returned in '\n"
     ]
    },
    {
     "name": "stdout",
     "output_type": "stream",
     "text": [
      "267\n"
     ]
    },
    {
     "name": "stderr",
     "output_type": "stream",
     "text": [
      "/Users/anuragsah00/anaconda3/lib/python3.10/site-packages/astroquery/utils/tap/taputils.py:269: UserWarning: By default, results in \"votable\", \"ecsv\" and \"fits\" format are returned in compressed format therefore your file star_data/neighbouring_stars/11.10.vot will be renamed to star_data/neighbouring_stars/11.10.vot.gz\n",
      "  warnings.warn('By default, results in \"votable\", \"ecsv\" and \"fits\" format are returned in '\n"
     ]
    },
    {
     "name": "stdout",
     "output_type": "stream",
     "text": [
      "268\n"
     ]
    },
    {
     "name": "stderr",
     "output_type": "stream",
     "text": [
      "/Users/anuragsah00/anaconda3/lib/python3.10/site-packages/astroquery/utils/tap/taputils.py:269: UserWarning: By default, results in \"votable\", \"ecsv\" and \"fits\" format are returned in compressed format therefore your file star_data/neighbouring_stars/12.91.vot will be renamed to star_data/neighbouring_stars/12.91.vot.gz\n",
      "  warnings.warn('By default, results in \"votable\", \"ecsv\" and \"fits\" format are returned in '\n"
     ]
    },
    {
     "name": "stdout",
     "output_type": "stream",
     "text": [
      "269\n"
     ]
    },
    {
     "name": "stderr",
     "output_type": "stream",
     "text": [
      "/Users/anuragsah00/anaconda3/lib/python3.10/site-packages/astroquery/utils/tap/taputils.py:269: UserWarning: By default, results in \"votable\", \"ecsv\" and \"fits\" format are returned in compressed format therefore your file star_data/neighbouring_stars/12.66.vot will be renamed to star_data/neighbouring_stars/12.66.vot.gz\n",
      "  warnings.warn('By default, results in \"votable\", \"ecsv\" and \"fits\" format are returned in '\n"
     ]
    },
    {
     "name": "stdout",
     "output_type": "stream",
     "text": [
      "270\n"
     ]
    },
    {
     "name": "stderr",
     "output_type": "stream",
     "text": [
      "/Users/anuragsah00/anaconda3/lib/python3.10/site-packages/astroquery/utils/tap/taputils.py:269: UserWarning: By default, results in \"votable\", \"ecsv\" and \"fits\" format are returned in compressed format therefore your file star_data/neighbouring_stars/6268.vot will be renamed to star_data/neighbouring_stars/6268.vot.gz\n",
      "  warnings.warn('By default, results in \"votable\", \"ecsv\" and \"fits\" format are returned in '\n"
     ]
    },
    {
     "name": "stdout",
     "output_type": "stream",
     "text": [
      "271\n"
     ]
    },
    {
     "name": "stderr",
     "output_type": "stream",
     "text": [
      "/Users/anuragsah00/anaconda3/lib/python3.10/site-packages/astroquery/utils/tap/taputils.py:269: UserWarning: By default, results in \"votable\", \"ecsv\" and \"fits\" format are returned in compressed format therefore your file star_data/neighbouring_stars/11582.vot will be renamed to star_data/neighbouring_stars/11582.vot.gz\n",
      "  warnings.warn('By default, results in \"votable\", \"ecsv\" and \"fits\" format are returned in '\n"
     ]
    },
    {
     "name": "stdout",
     "output_type": "stream",
     "text": [
      "272\n"
     ]
    },
    {
     "name": "stderr",
     "output_type": "stream",
     "text": [
      "/Users/anuragsah00/anaconda3/lib/python3.10/site-packages/astroquery/utils/tap/taputils.py:269: UserWarning: By default, results in \"votable\", \"ecsv\" and \"fits\" format are returned in compressed format therefore your file star_data/neighbouring_stars/13979.vot will be renamed to star_data/neighbouring_stars/13979.vot.gz\n",
      "  warnings.warn('By default, results in \"votable\", \"ecsv\" and \"fits\" format are returned in '\n"
     ]
    },
    {
     "name": "stdout",
     "output_type": "stream",
     "text": [
      "273\n"
     ]
    },
    {
     "name": "stderr",
     "output_type": "stream",
     "text": [
      "/Users/anuragsah00/anaconda3/lib/python3.10/site-packages/astroquery/utils/tap/taputils.py:269: UserWarning: By default, results in \"votable\", \"ecsv\" and \"fits\" format are returned in compressed format therefore your file star_data/neighbouring_stars/16031.vot will be renamed to star_data/neighbouring_stars/16031.vot.gz\n",
      "  warnings.warn('By default, results in \"votable\", \"ecsv\" and \"fits\" format are returned in '\n"
     ]
    },
    {
     "name": "stdout",
     "output_type": "stream",
     "text": [
      "274\n"
     ]
    },
    {
     "name": "stderr",
     "output_type": "stream",
     "text": [
      "/Users/anuragsah00/anaconda3/lib/python3.10/site-packages/astroquery/utils/tap/taputils.py:269: UserWarning: By default, results in \"votable\", \"ecsv\" and \"fits\" format are returned in compressed format therefore your file star_data/neighbouring_stars/19445.vot will be renamed to star_data/neighbouring_stars/19445.vot.gz\n",
      "  warnings.warn('By default, results in \"votable\", \"ecsv\" and \"fits\" format are returned in '\n"
     ]
    },
    {
     "name": "stdout",
     "output_type": "stream",
     "text": [
      "275\n"
     ]
    },
    {
     "name": "stderr",
     "output_type": "stream",
     "text": [
      "/Users/anuragsah00/anaconda3/lib/python3.10/site-packages/astroquery/utils/tap/taputils.py:269: UserWarning: By default, results in \"votable\", \"ecsv\" and \"fits\" format are returned in compressed format therefore your file star_data/neighbouring_stars/21581.vot will be renamed to star_data/neighbouring_stars/21581.vot.gz\n",
      "  warnings.warn('By default, results in \"votable\", \"ecsv\" and \"fits\" format are returned in '\n"
     ]
    },
    {
     "name": "stdout",
     "output_type": "stream",
     "text": [
      "276\n"
     ]
    },
    {
     "name": "stderr",
     "output_type": "stream",
     "text": [
      "/Users/anuragsah00/anaconda3/lib/python3.10/site-packages/astroquery/utils/tap/taputils.py:269: UserWarning: By default, results in \"votable\", \"ecsv\" and \"fits\" format are returned in compressed format therefore your file star_data/neighbouring_stars/26169.vot will be renamed to star_data/neighbouring_stars/26169.vot.gz\n",
      "  warnings.warn('By default, results in \"votable\", \"ecsv\" and \"fits\" format are returned in '\n"
     ]
    },
    {
     "name": "stdout",
     "output_type": "stream",
     "text": [
      "277\n"
     ]
    },
    {
     "name": "stderr",
     "output_type": "stream",
     "text": [
      "/Users/anuragsah00/anaconda3/lib/python3.10/site-packages/astroquery/utils/tap/taputils.py:269: UserWarning: By default, results in \"votable\", \"ecsv\" and \"fits\" format are returned in compressed format therefore your file star_data/neighbouring_stars/26297.vot will be renamed to star_data/neighbouring_stars/26297.vot.gz\n",
      "  warnings.warn('By default, results in \"votable\", \"ecsv\" and \"fits\" format are returned in '\n"
     ]
    },
    {
     "name": "stdout",
     "output_type": "stream",
     "text": [
      "278\n"
     ]
    },
    {
     "name": "stderr",
     "output_type": "stream",
     "text": [
      "/Users/anuragsah00/anaconda3/lib/python3.10/site-packages/astroquery/utils/tap/taputils.py:269: UserWarning: By default, results in \"votable\", \"ecsv\" and \"fits\" format are returned in compressed format therefore your file star_data/neighbouring_stars/31128.vot will be renamed to star_data/neighbouring_stars/31128.vot.gz\n",
      "  warnings.warn('By default, results in \"votable\", \"ecsv\" and \"fits\" format are returned in '\n"
     ]
    },
    {
     "name": "stdout",
     "output_type": "stream",
     "text": [
      "279\n"
     ]
    },
    {
     "name": "stderr",
     "output_type": "stream",
     "text": [
      "/Users/anuragsah00/anaconda3/lib/python3.10/site-packages/astroquery/utils/tap/taputils.py:269: UserWarning: By default, results in \"votable\", \"ecsv\" and \"fits\" format are returned in compressed format therefore your file star_data/neighbouring_stars/45282.vot will be renamed to star_data/neighbouring_stars/45282.vot.gz\n",
      "  warnings.warn('By default, results in \"votable\", \"ecsv\" and \"fits\" format are returned in '\n"
     ]
    },
    {
     "name": "stdout",
     "output_type": "stream",
     "text": [
      "280\n"
     ]
    },
    {
     "name": "stderr",
     "output_type": "stream",
     "text": [
      "/Users/anuragsah00/anaconda3/lib/python3.10/site-packages/astroquery/utils/tap/taputils.py:269: UserWarning: By default, results in \"votable\", \"ecsv\" and \"fits\" format are returned in compressed format therefore your file star_data/neighbouring_stars/88609.vot will be renamed to star_data/neighbouring_stars/88609.vot.gz\n",
      "  warnings.warn('By default, results in \"votable\", \"ecsv\" and \"fits\" format are returned in '\n"
     ]
    },
    {
     "name": "stdout",
     "output_type": "stream",
     "text": [
      "281\n"
     ]
    },
    {
     "name": "stderr",
     "output_type": "stream",
     "text": [
      "/Users/anuragsah00/anaconda3/lib/python3.10/site-packages/astroquery/utils/tap/taputils.py:269: UserWarning: By default, results in \"votable\", \"ecsv\" and \"fits\" format are returned in compressed format therefore your file star_data/neighbouring_stars/94028.vot will be renamed to star_data/neighbouring_stars/94028.vot.gz\n",
      "  warnings.warn('By default, results in \"votable\", \"ecsv\" and \"fits\" format are returned in '\n"
     ]
    },
    {
     "name": "stdout",
     "output_type": "stream",
     "text": [
      "282\n"
     ]
    },
    {
     "name": "stderr",
     "output_type": "stream",
     "text": [
      "/Users/anuragsah00/anaconda3/lib/python3.10/site-packages/astroquery/utils/tap/taputils.py:269: UserWarning: By default, results in \"votable\", \"ecsv\" and \"fits\" format are returned in compressed format therefore your file star_data/neighbouring_stars/106373.vot will be renamed to star_data/neighbouring_stars/106373.vot.gz\n",
      "  warnings.warn('By default, results in \"votable\", \"ecsv\" and \"fits\" format are returned in '\n"
     ]
    },
    {
     "name": "stdout",
     "output_type": "stream",
     "text": [
      "283\n"
     ]
    },
    {
     "name": "stderr",
     "output_type": "stream",
     "text": [
      "/Users/anuragsah00/anaconda3/lib/python3.10/site-packages/astroquery/utils/tap/taputils.py:269: UserWarning: By default, results in \"votable\", \"ecsv\" and \"fits\" format are returned in compressed format therefore your file star_data/neighbouring_stars/108317.vot will be renamed to star_data/neighbouring_stars/108317.vot.gz\n",
      "  warnings.warn('By default, results in \"votable\", \"ecsv\" and \"fits\" format are returned in '\n"
     ]
    },
    {
     "name": "stdout",
     "output_type": "stream",
     "text": [
      "284\n"
     ]
    },
    {
     "name": "stderr",
     "output_type": "stream",
     "text": [
      "/Users/anuragsah00/anaconda3/lib/python3.10/site-packages/astroquery/utils/tap/taputils.py:269: UserWarning: By default, results in \"votable\", \"ecsv\" and \"fits\" format are returned in compressed format therefore your file star_data/neighbouring_stars/119516.vot will be renamed to star_data/neighbouring_stars/119516.vot.gz\n",
      "  warnings.warn('By default, results in \"votable\", \"ecsv\" and \"fits\" format are returned in '\n"
     ]
    },
    {
     "name": "stdout",
     "output_type": "stream",
     "text": [
      "285\n"
     ]
    },
    {
     "name": "stderr",
     "output_type": "stream",
     "text": [
      "/Users/anuragsah00/anaconda3/lib/python3.10/site-packages/astroquery/utils/tap/taputils.py:269: UserWarning: By default, results in \"votable\", \"ecsv\" and \"fits\" format are returned in compressed format therefore your file star_data/neighbouring_stars/122196.vot will be renamed to star_data/neighbouring_stars/122196.vot.gz\n",
      "  warnings.warn('By default, results in \"votable\", \"ecsv\" and \"fits\" format are returned in '\n"
     ]
    },
    {
     "name": "stdout",
     "output_type": "stream",
     "text": [
      "286\n"
     ]
    },
    {
     "name": "stderr",
     "output_type": "stream",
     "text": [
      "/Users/anuragsah00/anaconda3/lib/python3.10/site-packages/astroquery/utils/tap/taputils.py:269: UserWarning: By default, results in \"votable\", \"ecsv\" and \"fits\" format are returned in compressed format therefore your file star_data/neighbouring_stars/122563.vot will be renamed to star_data/neighbouring_stars/122563.vot.gz\n",
      "  warnings.warn('By default, results in \"votable\", \"ecsv\" and \"fits\" format are returned in '\n"
     ]
    },
    {
     "name": "stdout",
     "output_type": "stream",
     "text": [
      "287\n"
     ]
    },
    {
     "name": "stderr",
     "output_type": "stream",
     "text": [
      "/Users/anuragsah00/anaconda3/lib/python3.10/site-packages/astroquery/utils/tap/taputils.py:269: UserWarning: By default, results in \"votable\", \"ecsv\" and \"fits\" format are returned in compressed format therefore your file star_data/neighbouring_stars/126238.vot will be renamed to star_data/neighbouring_stars/126238.vot.gz\n",
      "  warnings.warn('By default, results in \"votable\", \"ecsv\" and \"fits\" format are returned in '\n"
     ]
    },
    {
     "name": "stdout",
     "output_type": "stream",
     "text": [
      "288\n"
     ]
    },
    {
     "name": "stderr",
     "output_type": "stream",
     "text": [
      "/Users/anuragsah00/anaconda3/lib/python3.10/site-packages/astroquery/utils/tap/taputils.py:269: UserWarning: By default, results in \"votable\", \"ecsv\" and \"fits\" format are returned in compressed format therefore your file star_data/neighbouring_stars/126587.vot will be renamed to star_data/neighbouring_stars/126587.vot.gz\n",
      "  warnings.warn('By default, results in \"votable\", \"ecsv\" and \"fits\" format are returned in '\n"
     ]
    },
    {
     "name": "stdout",
     "output_type": "stream",
     "text": [
      "289\n"
     ]
    },
    {
     "name": "stderr",
     "output_type": "stream",
     "text": [
      "/Users/anuragsah00/anaconda3/lib/python3.10/site-packages/astroquery/utils/tap/taputils.py:269: UserWarning: By default, results in \"votable\", \"ecsv\" and \"fits\" format are returned in compressed format therefore your file star_data/neighbouring_stars/128279.vot will be renamed to star_data/neighbouring_stars/128279.vot.gz\n",
      "  warnings.warn('By default, results in \"votable\", \"ecsv\" and \"fits\" format are returned in '\n"
     ]
    },
    {
     "name": "stdout",
     "output_type": "stream",
     "text": [
      "290\n"
     ]
    },
    {
     "name": "stderr",
     "output_type": "stream",
     "text": [
      "/Users/anuragsah00/anaconda3/lib/python3.10/site-packages/astroquery/utils/tap/taputils.py:269: UserWarning: By default, results in \"votable\", \"ecsv\" and \"fits\" format are returned in compressed format therefore your file star_data/neighbouring_stars/132475.vot will be renamed to star_data/neighbouring_stars/132475.vot.gz\n",
      "  warnings.warn('By default, results in \"votable\", \"ecsv\" and \"fits\" format are returned in '\n"
     ]
    },
    {
     "name": "stdout",
     "output_type": "stream",
     "text": [
      "291\n"
     ]
    },
    {
     "name": "stderr",
     "output_type": "stream",
     "text": [
      "/Users/anuragsah00/anaconda3/lib/python3.10/site-packages/astroquery/utils/tap/taputils.py:269: UserWarning: By default, results in \"votable\", \"ecsv\" and \"fits\" format are returned in compressed format therefore your file star_data/neighbouring_stars/175305.vot will be renamed to star_data/neighbouring_stars/175305.vot.gz\n",
      "  warnings.warn('By default, results in \"votable\", \"ecsv\" and \"fits\" format are returned in '\n"
     ]
    },
    {
     "name": "stdout",
     "output_type": "stream",
     "text": [
      "292\n"
     ]
    },
    {
     "name": "stderr",
     "output_type": "stream",
     "text": [
      "/Users/anuragsah00/anaconda3/lib/python3.10/site-packages/astroquery/utils/tap/taputils.py:269: UserWarning: By default, results in \"votable\", \"ecsv\" and \"fits\" format are returned in compressed format therefore your file star_data/neighbouring_stars/175606.vot will be renamed to star_data/neighbouring_stars/175606.vot.gz\n",
      "  warnings.warn('By default, results in \"votable\", \"ecsv\" and \"fits\" format are returned in '\n"
     ]
    },
    {
     "name": "stdout",
     "output_type": "stream",
     "text": [
      "293\n"
     ]
    },
    {
     "name": "stderr",
     "output_type": "stream",
     "text": [
      "/Users/anuragsah00/anaconda3/lib/python3.10/site-packages/astroquery/utils/tap/taputils.py:269: UserWarning: By default, results in \"votable\", \"ecsv\" and \"fits\" format are returned in compressed format therefore your file star_data/neighbouring_stars/178443.vot will be renamed to star_data/neighbouring_stars/178443.vot.gz\n",
      "  warnings.warn('By default, results in \"votable\", \"ecsv\" and \"fits\" format are returned in '\n"
     ]
    },
    {
     "name": "stdout",
     "output_type": "stream",
     "text": [
      "294\n"
     ]
    },
    {
     "name": "stderr",
     "output_type": "stream",
     "text": [
      "/Users/anuragsah00/anaconda3/lib/python3.10/site-packages/astroquery/utils/tap/taputils.py:269: UserWarning: By default, results in \"votable\", \"ecsv\" and \"fits\" format are returned in compressed format therefore your file star_data/neighbouring_stars/184266.vot will be renamed to star_data/neighbouring_stars/184266.vot.gz\n",
      "  warnings.warn('By default, results in \"votable\", \"ecsv\" and \"fits\" format are returned in '\n"
     ]
    },
    {
     "name": "stdout",
     "output_type": "stream",
     "text": [
      "295\n"
     ]
    },
    {
     "name": "stderr",
     "output_type": "stream",
     "text": [
      "/Users/anuragsah00/anaconda3/lib/python3.10/site-packages/astroquery/utils/tap/taputils.py:269: UserWarning: By default, results in \"votable\", \"ecsv\" and \"fits\" format are returned in compressed format therefore your file star_data/neighbouring_stars/186478.vot will be renamed to star_data/neighbouring_stars/186478.vot.gz\n",
      "  warnings.warn('By default, results in \"votable\", \"ecsv\" and \"fits\" format are returned in '\n"
     ]
    },
    {
     "name": "stdout",
     "output_type": "stream",
     "text": [
      "296\n"
     ]
    },
    {
     "name": "stderr",
     "output_type": "stream",
     "text": [
      "/Users/anuragsah00/anaconda3/lib/python3.10/site-packages/astroquery/utils/tap/taputils.py:269: UserWarning: By default, results in \"votable\", \"ecsv\" and \"fits\" format are returned in compressed format therefore your file star_data/neighbouring_stars/188510.vot will be renamed to star_data/neighbouring_stars/188510.vot.gz\n",
      "  warnings.warn('By default, results in \"votable\", \"ecsv\" and \"fits\" format are returned in '\n"
     ]
    },
    {
     "name": "stdout",
     "output_type": "stream",
     "text": [
      "297\n"
     ]
    },
    {
     "name": "stderr",
     "output_type": "stream",
     "text": [
      "/Users/anuragsah00/anaconda3/lib/python3.10/site-packages/astroquery/utils/tap/taputils.py:269: UserWarning: By default, results in \"votable\", \"ecsv\" and \"fits\" format are returned in compressed format therefore your file star_data/neighbouring_stars/193901.vot will be renamed to star_data/neighbouring_stars/193901.vot.gz\n",
      "  warnings.warn('By default, results in \"votable\", \"ecsv\" and \"fits\" format are returned in '\n"
     ]
    },
    {
     "name": "stdout",
     "output_type": "stream",
     "text": [
      "298\n"
     ]
    },
    {
     "name": "stderr",
     "output_type": "stream",
     "text": [
      "/Users/anuragsah00/anaconda3/lib/python3.10/site-packages/astroquery/utils/tap/taputils.py:269: UserWarning: By default, results in \"votable\", \"ecsv\" and \"fits\" format are returned in compressed format therefore your file star_data/neighbouring_stars/196892.vot will be renamed to star_data/neighbouring_stars/196892.vot.gz\n",
      "  warnings.warn('By default, results in \"votable\", \"ecsv\" and \"fits\" format are returned in '\n"
     ]
    },
    {
     "name": "stdout",
     "output_type": "stream",
     "text": [
      "299\n"
     ]
    },
    {
     "name": "stderr",
     "output_type": "stream",
     "text": [
      "/Users/anuragsah00/anaconda3/lib/python3.10/site-packages/astroquery/utils/tap/taputils.py:269: UserWarning: By default, results in \"votable\", \"ecsv\" and \"fits\" format are returned in compressed format therefore your file star_data/neighbouring_stars/196944.vot will be renamed to star_data/neighbouring_stars/196944.vot.gz\n",
      "  warnings.warn('By default, results in \"votable\", \"ecsv\" and \"fits\" format are returned in '\n"
     ]
    },
    {
     "name": "stdout",
     "output_type": "stream",
     "text": [
      "300\n"
     ]
    },
    {
     "name": "stderr",
     "output_type": "stream",
     "text": [
      "/Users/anuragsah00/anaconda3/lib/python3.10/site-packages/astroquery/utils/tap/taputils.py:269: UserWarning: By default, results in \"votable\", \"ecsv\" and \"fits\" format are returned in compressed format therefore your file star_data/neighbouring_stars/200654.vot will be renamed to star_data/neighbouring_stars/200654.vot.gz\n",
      "  warnings.warn('By default, results in \"votable\", \"ecsv\" and \"fits\" format are returned in '\n"
     ]
    },
    {
     "name": "stdout",
     "output_type": "stream",
     "text": [
      "301\n"
     ]
    },
    {
     "name": "stderr",
     "output_type": "stream",
     "text": [
      "/Users/anuragsah00/anaconda3/lib/python3.10/site-packages/astroquery/utils/tap/taputils.py:269: UserWarning: By default, results in \"votable\", \"ecsv\" and \"fits\" format are returned in compressed format therefore your file star_data/neighbouring_stars/201891.vot will be renamed to star_data/neighbouring_stars/201891.vot.gz\n",
      "  warnings.warn('By default, results in \"votable\", \"ecsv\" and \"fits\" format are returned in '\n"
     ]
    },
    {
     "name": "stdout",
     "output_type": "stream",
     "text": [
      "302\n"
     ]
    },
    {
     "name": "stderr",
     "output_type": "stream",
     "text": [
      "/Users/anuragsah00/anaconda3/lib/python3.10/site-packages/astroquery/utils/tap/taputils.py:269: UserWarning: By default, results in \"votable\", \"ecsv\" and \"fits\" format are returned in compressed format therefore your file star_data/neighbouring_stars/214362.vot will be renamed to star_data/neighbouring_stars/214362.vot.gz\n",
      "  warnings.warn('By default, results in \"votable\", \"ecsv\" and \"fits\" format are returned in '\n"
     ]
    },
    {
     "name": "stdout",
     "output_type": "stream",
     "text": [
      "303\n"
     ]
    },
    {
     "name": "stderr",
     "output_type": "stream",
     "text": [
      "/Users/anuragsah00/anaconda3/lib/python3.10/site-packages/astroquery/utils/tap/taputils.py:269: UserWarning: By default, results in \"votable\", \"ecsv\" and \"fits\" format are returned in compressed format therefore your file star_data/neighbouring_stars/219617.vot will be renamed to star_data/neighbouring_stars/219617.vot.gz\n",
      "  warnings.warn('By default, results in \"votable\", \"ecsv\" and \"fits\" format are returned in '\n"
     ]
    },
    {
     "name": "stdout",
     "output_type": "stream",
     "text": [
      "304\n"
     ]
    },
    {
     "name": "stderr",
     "output_type": "stream",
     "text": [
      "/Users/anuragsah00/anaconda3/lib/python3.10/site-packages/astroquery/utils/tap/taputils.py:269: UserWarning: By default, results in \"votable\", \"ecsv\" and \"fits\" format are returned in compressed format therefore your file star_data/neighbouring_stars/220127.vot will be renamed to star_data/neighbouring_stars/220127.vot.gz\n",
      "  warnings.warn('By default, results in \"votable\", \"ecsv\" and \"fits\" format are returned in '\n"
     ]
    },
    {
     "name": "stdout",
     "output_type": "stream",
     "text": [
      "305\n"
     ]
    },
    {
     "name": "stderr",
     "output_type": "stream",
     "text": [
      "/Users/anuragsah00/anaconda3/lib/python3.10/site-packages/astroquery/utils/tap/taputils.py:269: UserWarning: By default, results in \"votable\", \"ecsv\" and \"fits\" format are returned in compressed format therefore your file star_data/neighbouring_stars/237846.vot will be renamed to star_data/neighbouring_stars/237846.vot.gz\n",
      "  warnings.warn('By default, results in \"votable\", \"ecsv\" and \"fits\" format are returned in '\n"
     ]
    },
    {
     "name": "stdout",
     "output_type": "stream",
     "text": [
      "306\n"
     ]
    },
    {
     "name": "stderr",
     "output_type": "stream",
     "text": [
      "/Users/anuragsah00/anaconda3/lib/python3.10/site-packages/astroquery/utils/tap/taputils.py:269: UserWarning: By default, results in \"votable\", \"ecsv\" and \"fits\" format are returned in compressed format therefore your file star_data/neighbouring_stars/0454-4758.vot will be renamed to star_data/neighbouring_stars/0454-4758.vot.gz\n",
      "  warnings.warn('By default, results in \"votable\", \"ecsv\" and \"fits\" format are returned in '\n"
     ]
    },
    {
     "name": "stdout",
     "output_type": "stream",
     "text": [
      "307\n"
     ]
    },
    {
     "name": "stderr",
     "output_type": "stream",
     "text": [
      "/Users/anuragsah00/anaconda3/lib/python3.10/site-packages/astroquery/utils/tap/taputils.py:269: UserWarning: By default, results in \"votable\", \"ecsv\" and \"fits\" format are returned in compressed format therefore your file star_data/neighbouring_stars/0938+0114.vot will be renamed to star_data/neighbouring_stars/0938+0114.vot.gz\n",
      "  warnings.warn('By default, results in \"votable\", \"ecsv\" and \"fits\" format are returned in '\n"
     ]
    },
    {
     "name": "stdout",
     "output_type": "stream",
     "text": [
      "308\n"
     ]
    },
    {
     "name": "stderr",
     "output_type": "stream",
     "text": [
      "/Users/anuragsah00/anaconda3/lib/python3.10/site-packages/astroquery/utils/tap/taputils.py:269: UserWarning: By default, results in \"votable\", \"ecsv\" and \"fits\" format are returned in compressed format therefore your file star_data/neighbouring_stars/1012-1540.vot will be renamed to star_data/neighbouring_stars/1012-1540.vot.gz\n",
      "  warnings.warn('By default, results in \"votable\", \"ecsv\" and \"fits\" format are returned in '\n"
     ]
    },
    {
     "name": "stdout",
     "output_type": "stream",
     "text": [
      "309\n"
     ]
    },
    {
     "name": "stderr",
     "output_type": "stream",
     "text": [
      "/Users/anuragsah00/anaconda3/lib/python3.10/site-packages/astroquery/utils/tap/taputils.py:269: UserWarning: By default, results in \"votable\", \"ecsv\" and \"fits\" format are returned in compressed format therefore your file star_data/neighbouring_stars/1124-2335.vot will be renamed to star_data/neighbouring_stars/1124-2335.vot.gz\n",
      "  warnings.warn('By default, results in \"votable\", \"ecsv\" and \"fits\" format are returned in '\n"
     ]
    },
    {
     "name": "stdout",
     "output_type": "stream",
     "text": [
      "310\n"
     ]
    },
    {
     "name": "stderr",
     "output_type": "stream",
     "text": [
      "/Users/anuragsah00/anaconda3/lib/python3.10/site-packages/astroquery/utils/tap/taputils.py:269: UserWarning: By default, results in \"votable\", \"ecsv\" and \"fits\" format are returned in compressed format therefore your file star_data/neighbouring_stars/1320-1339.vot will be renamed to star_data/neighbouring_stars/1320-1339.vot.gz\n",
      "  warnings.warn('By default, results in \"votable\", \"ecsv\" and \"fits\" format are returned in '\n"
     ]
    },
    {
     "name": "stdout",
     "output_type": "stream",
     "text": [
      "311\n"
     ]
    },
    {
     "name": "stderr",
     "output_type": "stream",
     "text": [
      "/Users/anuragsah00/anaconda3/lib/python3.10/site-packages/astroquery/utils/tap/taputils.py:269: UserWarning: By default, results in \"votable\", \"ecsv\" and \"fits\" format are returned in compressed format therefore your file star_data/neighbouring_stars/99423.vot will be renamed to star_data/neighbouring_stars/99423.vot.gz\n",
      "  warnings.warn('By default, results in \"votable\", \"ecsv\" and \"fits\" format are returned in '\n"
     ]
    }
   ],
   "source": [
    "gaia_matched_stars = []\n",
    "radius = 0.1\n",
    "# for i in range(0,len(Roederer2014_stars)-1):\n",
    "for i in range(len(Roederer2014_stars)):\n",
    "    print(i)\n",
    "    # can be more optimized, Dont create for loop for every entry of 313 stars. all 313 stars should be part of the query so that Gaia server is hit only once.\n",
    "    gaia_matched_stars.append(modules.get_stars(names_roederer[i], ras_roederer[i],decs_roederer[i], radius))"
   ]
  },
  {
   "cell_type": "code",
   "execution_count": 40,
   "metadata": {},
   "outputs": [
    {
     "data": {
      "text/plain": [
       "'063.0578500'"
      ]
     },
     "execution_count": 40,
     "metadata": {},
     "output_type": "execute_result"
    }
   ],
   "source": [
    "ras_roederer[1]"
   ]
  },
  {
   "cell_type": "code",
   "execution_count": 41,
   "metadata": {},
   "outputs": [
    {
     "data": {
      "text/plain": [
       "'-12.0847472'"
      ]
     },
     "execution_count": 41,
     "metadata": {},
     "output_type": "execute_result"
    }
   ],
   "source": [
    "decs_roederer[1]"
   ]
  },
  {
   "cell_type": "code",
   "execution_count": 42,
   "metadata": {},
   "outputs": [
    {
     "data": {
      "text/plain": [
       "63.078438291530645"
      ]
     },
     "execution_count": 42,
     "metadata": {},
     "output_type": "execute_result"
    }
   ],
   "source": [
    "gaia_matched_stars[1][\"ra\"].mean()\n",
    "# gaia_matched_stars[0][\"ra\"].std()"
   ]
  },
  {
   "cell_type": "code",
   "execution_count": 43,
   "metadata": {},
   "outputs": [
    {
     "name": "stdout",
     "output_type": "stream",
     "text": [
      "1\n",
      "4\n",
      "1\n",
      "1\n",
      "0\n",
      "3\n",
      "0\n",
      "2\n",
      "2\n",
      "1\n",
      "2\n",
      "1\n",
      "1\n",
      "2\n",
      "2\n",
      "3\n",
      "0\n",
      "2\n",
      "3\n",
      "1\n",
      "5\n",
      "1\n",
      "2\n",
      "2\n",
      "2\n",
      "6\n",
      "3\n",
      "3\n",
      "2\n",
      "3\n",
      "1\n",
      "4\n",
      "4\n",
      "4\n",
      "1\n",
      "2\n",
      "1\n",
      "1\n",
      "2\n",
      "0\n",
      "0\n",
      "1\n",
      "0\n",
      "2\n",
      "1\n",
      "0\n",
      "0\n",
      "2\n",
      "0\n",
      "1\n",
      "2\n",
      "6\n",
      "4\n",
      "4\n",
      "3\n",
      "3\n",
      "1\n",
      "2\n",
      "1\n",
      "1\n",
      "3\n",
      "1\n",
      "1\n",
      "3\n",
      "1\n",
      "2\n",
      "6\n",
      "5\n",
      "7\n",
      "3\n",
      "2\n",
      "4\n",
      "2\n",
      "0\n",
      "0\n",
      "2\n",
      "3\n",
      "1\n",
      "1\n",
      "7\n",
      "5\n",
      "4\n",
      "6\n",
      "4\n",
      "8\n",
      "3\n",
      "2\n",
      "2\n",
      "4\n",
      "0\n",
      "5\n",
      "2\n",
      "0\n",
      "0\n",
      "6\n",
      "0\n",
      "5\n",
      "7\n",
      "1\n",
      "5\n",
      "4\n",
      "2\n",
      "2\n",
      "1\n",
      "1\n",
      "3\n",
      "1\n",
      "2\n",
      "4\n",
      "1\n",
      "2\n",
      "5\n",
      "4\n",
      "2\n",
      "1\n",
      "4\n",
      "0\n",
      "11\n",
      "2\n",
      "1\n",
      "1\n",
      "0\n",
      "2\n",
      "0\n",
      "0\n",
      "1\n",
      "2\n",
      "0\n",
      "2\n",
      "6\n",
      "3\n",
      "1\n",
      "1\n",
      "3\n",
      "1\n",
      "2\n",
      "4\n",
      "3\n",
      "3\n",
      "2\n",
      "3\n",
      "4\n",
      "6\n",
      "2\n",
      "2\n",
      "3\n",
      "3\n",
      "5\n",
      "3\n",
      "4\n",
      "2\n",
      "6\n",
      "2\n",
      "2\n",
      "1\n",
      "5\n",
      "1\n",
      "2\n",
      "0\n",
      "4\n",
      "8\n",
      "0\n",
      "2\n",
      "6\n",
      "5\n",
      "1\n",
      "3\n",
      "4\n",
      "0\n",
      "3\n",
      "3\n",
      "5\n",
      "2\n",
      "1\n",
      "0\n",
      "1\n",
      "1\n",
      "2\n",
      "0\n",
      "3\n",
      "3\n",
      "5\n",
      "1\n",
      "0\n",
      "3\n",
      "1\n",
      "0\n",
      "3\n",
      "1\n",
      "1\n",
      "1\n",
      "6\n",
      "3\n",
      "2\n",
      "3\n",
      "1\n",
      "0\n",
      "1\n",
      "1\n",
      "4\n",
      "4\n",
      "6\n",
      "5\n",
      "4\n",
      "2\n",
      "1\n",
      "1\n",
      "0\n",
      "3\n",
      "1\n",
      "2\n",
      "2\n",
      "3\n",
      "0\n",
      "3\n",
      "3\n",
      "3\n",
      "12\n",
      "1\n",
      "2\n",
      "2\n",
      "7\n",
      "5\n",
      "37\n",
      "3\n",
      "10\n",
      "4\n",
      "2\n",
      "4\n",
      "2\n",
      "6\n",
      "3\n",
      "4\n",
      "4\n",
      "1\n",
      "2\n",
      "1\n",
      "4\n",
      "1\n",
      "5\n",
      "1\n",
      "4\n",
      "2\n",
      "8\n",
      "4\n",
      "6\n",
      "7\n",
      "3\n",
      "2\n",
      "5\n",
      "2\n",
      "3\n",
      "5\n",
      "7\n",
      "5\n",
      "3\n",
      "5\n",
      "3\n",
      "21\n",
      "5\n",
      "10\n",
      "7\n",
      "6\n",
      "1\n",
      "2\n",
      "9\n",
      "6\n",
      "5\n",
      "2\n",
      "4\n",
      "5\n",
      "1\n",
      "1\n",
      "2\n",
      "4\n",
      "1\n",
      "2\n",
      "3\n",
      "3\n",
      "8\n",
      "1\n",
      "1\n",
      "7\n",
      "2\n",
      "2\n",
      "2\n",
      "2\n",
      "12\n",
      "2\n",
      "9\n",
      "5\n",
      "3\n",
      "11\n",
      "12\n",
      "12\n",
      "7\n",
      "11\n",
      "6\n",
      "2\n",
      "8\n",
      "4\n",
      "10\n",
      "3\n",
      "3\n",
      "3\n",
      "1\n",
      "1\n",
      "6\n",
      "2\n",
      "2\n",
      "6\n",
      "19\n",
      "sum  1003\n"
     ]
    }
   ],
   "source": [
    "sum=0\n",
    "for i in range(len(gaia_matched_stars)):\n",
    "    print(len(gaia_matched_stars[i]));\n",
    "    sum += len(gaia_matched_stars[i])\n",
    "print('sum ', sum)"
   ]
  },
  {
   "cell_type": "code",
   "execution_count": null,
   "metadata": {},
   "outputs": [],
   "source": []
  },
  {
   "cell_type": "code",
   "execution_count": 44,
   "metadata": {},
   "outputs": [
    {
     "data": {
      "text/html": [
       "<div><i>Table length=1</i>\n",
       "<table id=\"table6043415552\" class=\"table-striped table-bordered table-condensed\">\n",
       "<thead><tr><th>source_id</th><th>ra</th><th>ra_error</th><th>dec</th><th>dec_error</th><th>pmra</th><th>pmra_error</th><th>pmdec</th><th>pmdec_error</th><th>pmra_pmdec_corr</th><th>parallax</th><th>parallax_error</th><th>phot_g_mean_mag</th><th>bp_rp</th><th>dr2_radial_velocity</th><th>dr2_radial_velocity_error</th></tr></thead>\n",
       "<thead><tr><th></th><th>deg</th><th>mas</th><th>deg</th><th>mas</th><th>mas / yr</th><th>mas / yr</th><th>mas / yr</th><th>mas / yr</th><th></th><th>mas</th><th>mas</th><th>mag</th><th>mag</th><th>km / s</th><th>km / s</th></tr></thead>\n",
       "<thead><tr><th>int64</th><th>float64</th><th>float32</th><th>float64</th><th>float32</th><th>float64</th><th>float32</th><th>float64</th><th>float32</th><th>float32</th><th>float64</th><th>float32</th><th>float32</th><th>float32</th><th>float32</th><th>float32</th></tr></thead>\n",
       "<tr><td>2461788774901646976</td><td>32.32811250113869</td><td>0.022457719</td><td>-10.529301238662173</td><td>0.021016454</td><td>-30.460677194855457</td><td>0.029525558</td><td>-21.411773406185855</td><td>0.024579443</td><td>0.2268772</td><td>7.5342606319980465</td><td>0.028999258</td><td>9.738017</td><td>0.6846123</td><td>10.21756</td><td>0.71485555</td></tr>\n",
       "</table></div>"
      ],
      "text/plain": [
       "<Table length=1>\n",
       "     source_id              ra          ra_error  ...   bp_rp   dr2_radial_velocity dr2_radial_velocity_error\n",
       "                           deg            mas     ...    mag           km / s                 km / s         \n",
       "       int64             float64        float32   ...  float32        float32                float32         \n",
       "------------------- ----------------- ----------- ... --------- ------------------- -------------------------\n",
       "2461788774901646976 32.32811250113869 0.022457719 ... 0.6846123            10.21756                0.71485555"
      ]
     },
     "execution_count": 44,
     "metadata": {},
     "output_type": "execute_result"
    }
   ],
   "source": [
    "gaia_matched_stars[2]"
   ]
  },
  {
   "cell_type": "code",
   "execution_count": null,
   "metadata": {},
   "outputs": [],
   "source": []
  },
  {
   "cell_type": "code",
   "execution_count": null,
   "metadata": {},
   "outputs": [],
   "source": []
  },
  {
   "cell_type": "code",
   "execution_count": 45,
   "metadata": {},
   "outputs": [],
   "source": [
    "colnames = gaia_matched_stars[2].colnames\n",
    "stars_table = Table(names = colnames)\n",
    "\n",
    "radial_velocity_threshold = 15 ## assuming km/s\n",
    "for i in range(0,len(gaia_matched_stars)):  \n",
    "        for j in range (0, len(gaia_matched_stars[i])-1):\n",
    "            if abs(gaia_matched_stars[i]['dr2_radial_velocity'][j]) - abs(int(float(rv_roederer[i]))) < radial_velocity_threshold:\n",
    "                stars_table.add_row(gaia_matched_stars[i][j])"
   ]
  },
  {
   "cell_type": "code",
   "execution_count": 46,
   "metadata": {},
   "outputs": [],
   "source": [
    "# Use gal_uvw to calculate velocities \n",
    "\n",
    "U = []\n",
    "V = []\n",
    "W = []\n",
    "prograde = []\n",
    "\n",
    "\n",
    "for i in stars_table:\n",
    "    if i[\"parallax\"] == 0:\n",
    "        U.append(0)\n",
    "        V.append(0)\n",
    "        W.append(0)\n",
    "    else:\n",
    "        u, v, w = modules.gal_uvw(ra = i[\"ra\"], dec = i[\"dec\"], pmra = i[\"pmra\"] , pmdec = i[\"pmdec\"], vrad = i[\"dr2_radial_velocity\"], plx = i[\"parallax\"], lsr='yes')\n",
    "        U.append(u)\n",
    "        V.append(v)\n",
    "        W.append(w)\n",
    "            \n",
    "\n",
    "#V = np.array(V) - [220] * len(V) #local standart of rest\n",
    "\n",
    "T = np.sqrt(np.array(U)**2+np.array(W)**2)\n",
    "\n",
    "for i in V:\n",
    "    if i > 0:\n",
    "        prograde.append(1)\n",
    "    else:\n",
    "        prograde.append(0)\n",
    "        \n"
   ]
  },
  {
   "cell_type": "code",
   "execution_count": 47,
   "metadata": {},
   "outputs": [],
   "source": [
    "stars_table.add_column(U, name = 'U')\n",
    "stars_table.add_column(V, name = 'V') #Vy \n",
    "stars_table.add_column(W, name = 'W')\n",
    "stars_table.add_column(T, name = 'T') #Vt"
   ]
  },
  {
   "cell_type": "code",
   "execution_count": 48,
   "metadata": {},
   "outputs": [],
   "source": [
    "stars_table.add_column(prograde, name = 'Prograde')"
   ]
  },
  {
   "cell_type": "code",
   "execution_count": 49,
   "metadata": {},
   "outputs": [],
   "source": [
    "stars_table_df = stars_table.to_pandas()\n",
    "\n",
    "stars_table_df[\"V-232\"] = stars_table_df.apply( \\\n",
    "        lambda row: abs(row['V'] - 232),\n",
    "        axis=1 \\\n",
    "    )\n",
    "\n",
    "stars_table_df = stars_table_df[stars_table_df[\"V-232\"]**2 + stars_table_df[\"T\"]**2 > 210**2]\n"
   ]
  },
  {
   "cell_type": "code",
   "execution_count": 50,
   "metadata": {},
   "outputs": [
    {
     "data": {
      "text/html": [
       "<div>\n",
       "<style scoped>\n",
       "    .dataframe tbody tr th:only-of-type {\n",
       "        vertical-align: middle;\n",
       "    }\n",
       "\n",
       "    .dataframe tbody tr th {\n",
       "        vertical-align: top;\n",
       "    }\n",
       "\n",
       "    .dataframe thead th {\n",
       "        text-align: right;\n",
       "    }\n",
       "</style>\n",
       "<table border=\"1\" class=\"dataframe\">\n",
       "  <thead>\n",
       "    <tr style=\"text-align: right;\">\n",
       "      <th></th>\n",
       "      <th>source_id</th>\n",
       "      <th>ra</th>\n",
       "      <th>ra_error</th>\n",
       "      <th>dec</th>\n",
       "      <th>dec_error</th>\n",
       "      <th>pmra</th>\n",
       "      <th>pmra_error</th>\n",
       "      <th>pmdec</th>\n",
       "      <th>pmdec_error</th>\n",
       "      <th>pmra_pmdec_corr</th>\n",
       "      <th>...</th>\n",
       "      <th>phot_g_mean_mag</th>\n",
       "      <th>bp_rp</th>\n",
       "      <th>dr2_radial_velocity</th>\n",
       "      <th>dr2_radial_velocity_error</th>\n",
       "      <th>U</th>\n",
       "      <th>V</th>\n",
       "      <th>W</th>\n",
       "      <th>T</th>\n",
       "      <th>Prograde</th>\n",
       "      <th>V-232</th>\n",
       "    </tr>\n",
       "  </thead>\n",
       "  <tbody>\n",
       "    <tr>\n",
       "      <th>0</th>\n",
       "      <td>3.189432e+18</td>\n",
       "      <td>63.032343</td>\n",
       "      <td>0.013695</td>\n",
       "      <td>-12.118837</td>\n",
       "      <td>0.012714</td>\n",
       "      <td>-6.449587</td>\n",
       "      <td>0.016815</td>\n",
       "      <td>-10.750589</td>\n",
       "      <td>0.016687</td>\n",
       "      <td>0.018852</td>\n",
       "      <td>...</td>\n",
       "      <td>11.260073</td>\n",
       "      <td>0.771560</td>\n",
       "      <td>4.687665</td>\n",
       "      <td>0.725956</td>\n",
       "      <td>-14.527353</td>\n",
       "      <td>8.499058</td>\n",
       "      <td>-4.568251</td>\n",
       "      <td>15.228687</td>\n",
       "      <td>1</td>\n",
       "      <td>223.500942</td>\n",
       "    </tr>\n",
       "    <tr>\n",
       "      <th>1</th>\n",
       "      <td>3.189440e+18</td>\n",
       "      <td>63.147321</td>\n",
       "      <td>0.038085</td>\n",
       "      <td>-12.053509</td>\n",
       "      <td>0.030295</td>\n",
       "      <td>17.961836</td>\n",
       "      <td>0.044886</td>\n",
       "      <td>-6.614329</td>\n",
       "      <td>0.038475</td>\n",
       "      <td>-0.110601</td>\n",
       "      <td>...</td>\n",
       "      <td>11.878635</td>\n",
       "      <td>1.048296</td>\n",
       "      <td>21.304344</td>\n",
       "      <td>0.654505</td>\n",
       "      <td>7.911635</td>\n",
       "      <td>-8.413707</td>\n",
       "      <td>1.950579</td>\n",
       "      <td>8.148541</td>\n",
       "      <td>0</td>\n",
       "      <td>240.413707</td>\n",
       "    </tr>\n",
       "    <tr>\n",
       "      <th>3</th>\n",
       "      <td>2.471977e+18</td>\n",
       "      <td>20.144456</td>\n",
       "      <td>0.023063</td>\n",
       "      <td>-8.872362</td>\n",
       "      <td>0.017459</td>\n",
       "      <td>75.216503</td>\n",
       "      <td>0.031480</td>\n",
       "      <td>-15.498916</td>\n",
       "      <td>0.019502</td>\n",
       "      <td>0.499377</td>\n",
       "      <td>...</td>\n",
       "      <td>11.587500</td>\n",
       "      <td>0.851440</td>\n",
       "      <td>14.657644</td>\n",
       "      <td>1.197960</td>\n",
       "      <td>44.409299</td>\n",
       "      <td>-36.835483</td>\n",
       "      <td>-3.925566</td>\n",
       "      <td>44.582462</td>\n",
       "      <td>0</td>\n",
       "      <td>268.835483</td>\n",
       "    </tr>\n",
       "    <tr>\n",
       "      <th>4</th>\n",
       "      <td>2.471978e+18</td>\n",
       "      <td>20.156585</td>\n",
       "      <td>0.019501</td>\n",
       "      <td>-8.827725</td>\n",
       "      <td>0.013724</td>\n",
       "      <td>15.430254</td>\n",
       "      <td>0.027197</td>\n",
       "      <td>-9.424502</td>\n",
       "      <td>0.016023</td>\n",
       "      <td>0.531574</td>\n",
       "      <td>...</td>\n",
       "      <td>11.687765</td>\n",
       "      <td>1.141704</td>\n",
       "      <td>7.125475</td>\n",
       "      <td>0.996812</td>\n",
       "      <td>21.559445</td>\n",
       "      <td>-48.303929</td>\n",
       "      <td>-4.914120</td>\n",
       "      <td>22.112400</td>\n",
       "      <td>0</td>\n",
       "      <td>280.303929</td>\n",
       "    </tr>\n",
       "    <tr>\n",
       "      <th>5</th>\n",
       "      <td>4.890596e+18</td>\n",
       "      <td>62.598973</td>\n",
       "      <td>0.006453</td>\n",
       "      <td>-25.771897</td>\n",
       "      <td>0.009285</td>\n",
       "      <td>12.649115</td>\n",
       "      <td>0.008598</td>\n",
       "      <td>13.180861</td>\n",
       "      <td>0.012657</td>\n",
       "      <td>-0.453528</td>\n",
       "      <td>...</td>\n",
       "      <td>9.783724</td>\n",
       "      <td>0.666553</td>\n",
       "      <td>29.874018</td>\n",
       "      <td>0.575682</td>\n",
       "      <td>16.442726</td>\n",
       "      <td>-0.981120</td>\n",
       "      <td>-7.898591</td>\n",
       "      <td>18.241463</td>\n",
       "      <td>0</td>\n",
       "      <td>232.981120</td>\n",
       "    </tr>\n",
       "    <tr>\n",
       "      <th>...</th>\n",
       "      <td>...</td>\n",
       "      <td>...</td>\n",
       "      <td>...</td>\n",
       "      <td>...</td>\n",
       "      <td>...</td>\n",
       "      <td>...</td>\n",
       "      <td>...</td>\n",
       "      <td>...</td>\n",
       "      <td>...</td>\n",
       "      <td>...</td>\n",
       "      <td>...</td>\n",
       "      <td>...</td>\n",
       "      <td>...</td>\n",
       "      <td>...</td>\n",
       "      <td>...</td>\n",
       "      <td>...</td>\n",
       "      <td>...</td>\n",
       "      <td>...</td>\n",
       "      <td>...</td>\n",
       "      <td>...</td>\n",
       "      <td>...</td>\n",
       "    </tr>\n",
       "    <tr>\n",
       "      <th>586</th>\n",
       "      <td>1.833590e+18</td>\n",
       "      <td>302.685519</td>\n",
       "      <td>0.010022</td>\n",
       "      <td>23.999862</td>\n",
       "      <td>0.010915</td>\n",
       "      <td>-0.372788</td>\n",
       "      <td>0.011480</td>\n",
       "      <td>-2.403061</td>\n",
       "      <td>0.012906</td>\n",
       "      <td>-0.029631</td>\n",
       "      <td>...</td>\n",
       "      <td>12.936925</td>\n",
       "      <td>2.057656</td>\n",
       "      <td>18.921799</td>\n",
       "      <td>0.470167</td>\n",
       "      <td>-43.639656</td>\n",
       "      <td>15.422443</td>\n",
       "      <td>-8.711134</td>\n",
       "      <td>44.500600</td>\n",
       "      <td>1</td>\n",
       "      <td>216.577557</td>\n",
       "    </tr>\n",
       "    <tr>\n",
       "      <th>587</th>\n",
       "      <td>1.833590e+18</td>\n",
       "      <td>302.708357</td>\n",
       "      <td>0.009061</td>\n",
       "      <td>24.016987</td>\n",
       "      <td>0.009434</td>\n",
       "      <td>-3.497907</td>\n",
       "      <td>0.010459</td>\n",
       "      <td>-6.716860</td>\n",
       "      <td>0.011292</td>\n",
       "      <td>0.025704</td>\n",
       "      <td>...</td>\n",
       "      <td>13.568626</td>\n",
       "      <td>2.416790</td>\n",
       "      <td>23.487917</td>\n",
       "      <td>1.332360</td>\n",
       "      <td>-154.924803</td>\n",
       "      <td>-35.478746</td>\n",
       "      <td>-9.726123</td>\n",
       "      <td>155.229804</td>\n",
       "      <td>0</td>\n",
       "      <td>267.478746</td>\n",
       "    </tr>\n",
       "    <tr>\n",
       "      <th>588</th>\n",
       "      <td>1.833590e+18</td>\n",
       "      <td>302.738669</td>\n",
       "      <td>0.009251</td>\n",
       "      <td>24.014045</td>\n",
       "      <td>0.010056</td>\n",
       "      <td>-1.899784</td>\n",
       "      <td>0.010637</td>\n",
       "      <td>-5.130046</td>\n",
       "      <td>0.011925</td>\n",
       "      <td>-0.072106</td>\n",
       "      <td>...</td>\n",
       "      <td>13.737948</td>\n",
       "      <td>2.628884</td>\n",
       "      <td>-3.933907</td>\n",
       "      <td>1.064926</td>\n",
       "      <td>-177.727346</td>\n",
       "      <td>-80.383723</td>\n",
       "      <td>-35.807531</td>\n",
       "      <td>181.298618</td>\n",
       "      <td>0</td>\n",
       "      <td>312.383723</td>\n",
       "    </tr>\n",
       "    <tr>\n",
       "      <th>589</th>\n",
       "      <td>1.833590e+18</td>\n",
       "      <td>302.711956</td>\n",
       "      <td>0.014754</td>\n",
       "      <td>24.045495</td>\n",
       "      <td>0.015232</td>\n",
       "      <td>-2.916555</td>\n",
       "      <td>0.017104</td>\n",
       "      <td>-5.268033</td>\n",
       "      <td>0.018684</td>\n",
       "      <td>-0.127595</td>\n",
       "      <td>...</td>\n",
       "      <td>12.831676</td>\n",
       "      <td>3.184610</td>\n",
       "      <td>-16.689116</td>\n",
       "      <td>0.600616</td>\n",
       "      <td>-125.610253</td>\n",
       "      <td>-64.969656</td>\n",
       "      <td>-1.336542</td>\n",
       "      <td>125.617364</td>\n",
       "      <td>0</td>\n",
       "      <td>296.969656</td>\n",
       "    </tr>\n",
       "    <tr>\n",
       "      <th>590</th>\n",
       "      <td>1.833591e+18</td>\n",
       "      <td>302.655948</td>\n",
       "      <td>0.007918</td>\n",
       "      <td>24.022679</td>\n",
       "      <td>0.008673</td>\n",
       "      <td>-0.750306</td>\n",
       "      <td>0.009100</td>\n",
       "      <td>-3.398633</td>\n",
       "      <td>0.010231</td>\n",
       "      <td>-0.070095</td>\n",
       "      <td>...</td>\n",
       "      <td>13.334745</td>\n",
       "      <td>1.948939</td>\n",
       "      <td>-1.028847</td>\n",
       "      <td>0.782100</td>\n",
       "      <td>-41.781086</td>\n",
       "      <td>-5.941658</td>\n",
       "      <td>-7.591756</td>\n",
       "      <td>42.465208</td>\n",
       "      <td>0</td>\n",
       "      <td>237.941658</td>\n",
       "    </tr>\n",
       "  </tbody>\n",
       "</table>\n",
       "<p>552 rows × 22 columns</p>\n",
       "</div>"
      ],
      "text/plain": [
       "        source_id          ra  ra_error        dec  dec_error       pmra  \\\n",
       "0    3.189432e+18   63.032343  0.013695 -12.118837   0.012714  -6.449587   \n",
       "1    3.189440e+18   63.147321  0.038085 -12.053509   0.030295  17.961836   \n",
       "3    2.471977e+18   20.144456  0.023063  -8.872362   0.017459  75.216503   \n",
       "4    2.471978e+18   20.156585  0.019501  -8.827725   0.013724  15.430254   \n",
       "5    4.890596e+18   62.598973  0.006453 -25.771897   0.009285  12.649115   \n",
       "..            ...         ...       ...        ...        ...        ...   \n",
       "586  1.833590e+18  302.685519  0.010022  23.999862   0.010915  -0.372788   \n",
       "587  1.833590e+18  302.708357  0.009061  24.016987   0.009434  -3.497907   \n",
       "588  1.833590e+18  302.738669  0.009251  24.014045   0.010056  -1.899784   \n",
       "589  1.833590e+18  302.711956  0.014754  24.045495   0.015232  -2.916555   \n",
       "590  1.833591e+18  302.655948  0.007918  24.022679   0.008673  -0.750306   \n",
       "\n",
       "     pmra_error      pmdec  pmdec_error  pmra_pmdec_corr  ...  \\\n",
       "0      0.016815 -10.750589     0.016687         0.018852  ...   \n",
       "1      0.044886  -6.614329     0.038475        -0.110601  ...   \n",
       "3      0.031480 -15.498916     0.019502         0.499377  ...   \n",
       "4      0.027197  -9.424502     0.016023         0.531574  ...   \n",
       "5      0.008598  13.180861     0.012657        -0.453528  ...   \n",
       "..          ...        ...          ...              ...  ...   \n",
       "586    0.011480  -2.403061     0.012906        -0.029631  ...   \n",
       "587    0.010459  -6.716860     0.011292         0.025704  ...   \n",
       "588    0.010637  -5.130046     0.011925        -0.072106  ...   \n",
       "589    0.017104  -5.268033     0.018684        -0.127595  ...   \n",
       "590    0.009100  -3.398633     0.010231        -0.070095  ...   \n",
       "\n",
       "     phot_g_mean_mag     bp_rp  dr2_radial_velocity  \\\n",
       "0          11.260073  0.771560             4.687665   \n",
       "1          11.878635  1.048296            21.304344   \n",
       "3          11.587500  0.851440            14.657644   \n",
       "4          11.687765  1.141704             7.125475   \n",
       "5           9.783724  0.666553            29.874018   \n",
       "..               ...       ...                  ...   \n",
       "586        12.936925  2.057656            18.921799   \n",
       "587        13.568626  2.416790            23.487917   \n",
       "588        13.737948  2.628884            -3.933907   \n",
       "589        12.831676  3.184610           -16.689116   \n",
       "590        13.334745  1.948939            -1.028847   \n",
       "\n",
       "     dr2_radial_velocity_error           U          V          W           T  \\\n",
       "0                     0.725956  -14.527353   8.499058  -4.568251   15.228687   \n",
       "1                     0.654505    7.911635  -8.413707   1.950579    8.148541   \n",
       "3                     1.197960   44.409299 -36.835483  -3.925566   44.582462   \n",
       "4                     0.996812   21.559445 -48.303929  -4.914120   22.112400   \n",
       "5                     0.575682   16.442726  -0.981120  -7.898591   18.241463   \n",
       "..                         ...         ...        ...        ...         ...   \n",
       "586                   0.470167  -43.639656  15.422443  -8.711134   44.500600   \n",
       "587                   1.332360 -154.924803 -35.478746  -9.726123  155.229804   \n",
       "588                   1.064926 -177.727346 -80.383723 -35.807531  181.298618   \n",
       "589                   0.600616 -125.610253 -64.969656  -1.336542  125.617364   \n",
       "590                   0.782100  -41.781086  -5.941658  -7.591756   42.465208   \n",
       "\n",
       "     Prograde       V-232  \n",
       "0           1  223.500942  \n",
       "1           0  240.413707  \n",
       "3           0  268.835483  \n",
       "4           0  280.303929  \n",
       "5           0  232.981120  \n",
       "..        ...         ...  \n",
       "586         1  216.577557  \n",
       "587         0  267.478746  \n",
       "588         0  312.383723  \n",
       "589         0  296.969656  \n",
       "590         0  237.941658  \n",
       "\n",
       "[552 rows x 22 columns]"
      ]
     },
     "execution_count": 50,
     "metadata": {},
     "output_type": "execute_result"
    }
   ],
   "source": [
    "stars_table_df"
   ]
  },
  {
   "cell_type": "code",
   "execution_count": 51,
   "metadata": {},
   "outputs": [
    {
     "data": {
      "text/plain": [
       "source_id                    552\n",
       "ra                           552\n",
       "ra_error                     552\n",
       "dec                          552\n",
       "dec_error                    552\n",
       "pmra                         552\n",
       "pmra_error                   552\n",
       "pmdec                        552\n",
       "pmdec_error                  552\n",
       "pmra_pmdec_corr              552\n",
       "parallax                     552\n",
       "parallax_error               552\n",
       "phot_g_mean_mag              552\n",
       "bp_rp                        552\n",
       "dr2_radial_velocity          552\n",
       "dr2_radial_velocity_error    552\n",
       "U                            552\n",
       "V                            552\n",
       "W                            552\n",
       "T                            552\n",
       "Prograde                     552\n",
       "V-232                        552\n",
       "dtype: int64"
      ]
     },
     "execution_count": 51,
     "metadata": {},
     "output_type": "execute_result"
    }
   ],
   "source": [
    "stars_table_df.count()"
   ]
  },
  {
   "cell_type": "code",
   "execution_count": 52,
   "metadata": {},
   "outputs": [],
   "source": [
    "stars_table_df.to_csv(\"star_data/filtered_stars2.csv\")"
   ]
  },
  {
   "cell_type": "code",
   "execution_count": 53,
   "metadata": {},
   "outputs": [
    {
     "data": {
      "text/html": [
       "<div>\n",
       "<style scoped>\n",
       "    .dataframe tbody tr th:only-of-type {\n",
       "        vertical-align: middle;\n",
       "    }\n",
       "\n",
       "    .dataframe tbody tr th {\n",
       "        vertical-align: top;\n",
       "    }\n",
       "\n",
       "    .dataframe thead th {\n",
       "        text-align: right;\n",
       "    }\n",
       "</style>\n",
       "<table border=\"1\" class=\"dataframe\">\n",
       "  <thead>\n",
       "    <tr style=\"text-align: right;\">\n",
       "      <th></th>\n",
       "      <th>source_id</th>\n",
       "      <th>ra</th>\n",
       "      <th>ra_error</th>\n",
       "      <th>dec</th>\n",
       "      <th>dec_error</th>\n",
       "      <th>pmra</th>\n",
       "      <th>pmra_error</th>\n",
       "      <th>pmdec</th>\n",
       "      <th>pmdec_error</th>\n",
       "      <th>pmra_pmdec_corr</th>\n",
       "      <th>...</th>\n",
       "      <th>phot_g_mean_mag</th>\n",
       "      <th>bp_rp</th>\n",
       "      <th>dr2_radial_velocity</th>\n",
       "      <th>dr2_radial_velocity_error</th>\n",
       "      <th>U</th>\n",
       "      <th>V</th>\n",
       "      <th>W</th>\n",
       "      <th>T</th>\n",
       "      <th>Prograde</th>\n",
       "      <th>V-232</th>\n",
       "    </tr>\n",
       "  </thead>\n",
       "  <tbody>\n",
       "    <tr>\n",
       "      <th>0</th>\n",
       "      <td>3.189432e+18</td>\n",
       "      <td>63.032343</td>\n",
       "      <td>0.013695</td>\n",
       "      <td>-12.118837</td>\n",
       "      <td>0.012714</td>\n",
       "      <td>-6.449587</td>\n",
       "      <td>0.016815</td>\n",
       "      <td>-10.750589</td>\n",
       "      <td>0.016687</td>\n",
       "      <td>0.018852</td>\n",
       "      <td>...</td>\n",
       "      <td>11.260073</td>\n",
       "      <td>0.771560</td>\n",
       "      <td>4.687665</td>\n",
       "      <td>0.725956</td>\n",
       "      <td>-14.527353</td>\n",
       "      <td>8.499058</td>\n",
       "      <td>-4.568251</td>\n",
       "      <td>15.228687</td>\n",
       "      <td>1</td>\n",
       "      <td>223.500942</td>\n",
       "    </tr>\n",
       "    <tr>\n",
       "      <th>1</th>\n",
       "      <td>3.189440e+18</td>\n",
       "      <td>63.147321</td>\n",
       "      <td>0.038085</td>\n",
       "      <td>-12.053509</td>\n",
       "      <td>0.030295</td>\n",
       "      <td>17.961836</td>\n",
       "      <td>0.044886</td>\n",
       "      <td>-6.614329</td>\n",
       "      <td>0.038475</td>\n",
       "      <td>-0.110601</td>\n",
       "      <td>...</td>\n",
       "      <td>11.878635</td>\n",
       "      <td>1.048296</td>\n",
       "      <td>21.304344</td>\n",
       "      <td>0.654505</td>\n",
       "      <td>7.911635</td>\n",
       "      <td>-8.413707</td>\n",
       "      <td>1.950579</td>\n",
       "      <td>8.148541</td>\n",
       "      <td>0</td>\n",
       "      <td>240.413707</td>\n",
       "    </tr>\n",
       "    <tr>\n",
       "      <th>3</th>\n",
       "      <td>2.471977e+18</td>\n",
       "      <td>20.144456</td>\n",
       "      <td>0.023063</td>\n",
       "      <td>-8.872362</td>\n",
       "      <td>0.017459</td>\n",
       "      <td>75.216503</td>\n",
       "      <td>0.031480</td>\n",
       "      <td>-15.498916</td>\n",
       "      <td>0.019502</td>\n",
       "      <td>0.499377</td>\n",
       "      <td>...</td>\n",
       "      <td>11.587500</td>\n",
       "      <td>0.851440</td>\n",
       "      <td>14.657644</td>\n",
       "      <td>1.197960</td>\n",
       "      <td>44.409299</td>\n",
       "      <td>-36.835483</td>\n",
       "      <td>-3.925566</td>\n",
       "      <td>44.582462</td>\n",
       "      <td>0</td>\n",
       "      <td>268.835483</td>\n",
       "    </tr>\n",
       "    <tr>\n",
       "      <th>4</th>\n",
       "      <td>2.471978e+18</td>\n",
       "      <td>20.156585</td>\n",
       "      <td>0.019501</td>\n",
       "      <td>-8.827725</td>\n",
       "      <td>0.013724</td>\n",
       "      <td>15.430254</td>\n",
       "      <td>0.027197</td>\n",
       "      <td>-9.424502</td>\n",
       "      <td>0.016023</td>\n",
       "      <td>0.531574</td>\n",
       "      <td>...</td>\n",
       "      <td>11.687765</td>\n",
       "      <td>1.141704</td>\n",
       "      <td>7.125475</td>\n",
       "      <td>0.996812</td>\n",
       "      <td>21.559445</td>\n",
       "      <td>-48.303929</td>\n",
       "      <td>-4.914120</td>\n",
       "      <td>22.112400</td>\n",
       "      <td>0</td>\n",
       "      <td>280.303929</td>\n",
       "    </tr>\n",
       "    <tr>\n",
       "      <th>5</th>\n",
       "      <td>4.890596e+18</td>\n",
       "      <td>62.598973</td>\n",
       "      <td>0.006453</td>\n",
       "      <td>-25.771897</td>\n",
       "      <td>0.009285</td>\n",
       "      <td>12.649115</td>\n",
       "      <td>0.008598</td>\n",
       "      <td>13.180861</td>\n",
       "      <td>0.012657</td>\n",
       "      <td>-0.453528</td>\n",
       "      <td>...</td>\n",
       "      <td>9.783724</td>\n",
       "      <td>0.666553</td>\n",
       "      <td>29.874018</td>\n",
       "      <td>0.575682</td>\n",
       "      <td>16.442726</td>\n",
       "      <td>-0.981120</td>\n",
       "      <td>-7.898591</td>\n",
       "      <td>18.241463</td>\n",
       "      <td>0</td>\n",
       "      <td>232.981120</td>\n",
       "    </tr>\n",
       "    <tr>\n",
       "      <th>...</th>\n",
       "      <td>...</td>\n",
       "      <td>...</td>\n",
       "      <td>...</td>\n",
       "      <td>...</td>\n",
       "      <td>...</td>\n",
       "      <td>...</td>\n",
       "      <td>...</td>\n",
       "      <td>...</td>\n",
       "      <td>...</td>\n",
       "      <td>...</td>\n",
       "      <td>...</td>\n",
       "      <td>...</td>\n",
       "      <td>...</td>\n",
       "      <td>...</td>\n",
       "      <td>...</td>\n",
       "      <td>...</td>\n",
       "      <td>...</td>\n",
       "      <td>...</td>\n",
       "      <td>...</td>\n",
       "      <td>...</td>\n",
       "      <td>...</td>\n",
       "    </tr>\n",
       "    <tr>\n",
       "      <th>586</th>\n",
       "      <td>1.833590e+18</td>\n",
       "      <td>302.685519</td>\n",
       "      <td>0.010022</td>\n",
       "      <td>23.999862</td>\n",
       "      <td>0.010915</td>\n",
       "      <td>-0.372788</td>\n",
       "      <td>0.011480</td>\n",
       "      <td>-2.403061</td>\n",
       "      <td>0.012906</td>\n",
       "      <td>-0.029631</td>\n",
       "      <td>...</td>\n",
       "      <td>12.936925</td>\n",
       "      <td>2.057656</td>\n",
       "      <td>18.921799</td>\n",
       "      <td>0.470167</td>\n",
       "      <td>-43.639656</td>\n",
       "      <td>15.422443</td>\n",
       "      <td>-8.711134</td>\n",
       "      <td>44.500600</td>\n",
       "      <td>1</td>\n",
       "      <td>216.577557</td>\n",
       "    </tr>\n",
       "    <tr>\n",
       "      <th>587</th>\n",
       "      <td>1.833590e+18</td>\n",
       "      <td>302.708357</td>\n",
       "      <td>0.009061</td>\n",
       "      <td>24.016987</td>\n",
       "      <td>0.009434</td>\n",
       "      <td>-3.497907</td>\n",
       "      <td>0.010459</td>\n",
       "      <td>-6.716860</td>\n",
       "      <td>0.011292</td>\n",
       "      <td>0.025704</td>\n",
       "      <td>...</td>\n",
       "      <td>13.568626</td>\n",
       "      <td>2.416790</td>\n",
       "      <td>23.487917</td>\n",
       "      <td>1.332360</td>\n",
       "      <td>-154.924803</td>\n",
       "      <td>-35.478746</td>\n",
       "      <td>-9.726123</td>\n",
       "      <td>155.229804</td>\n",
       "      <td>0</td>\n",
       "      <td>267.478746</td>\n",
       "    </tr>\n",
       "    <tr>\n",
       "      <th>588</th>\n",
       "      <td>1.833590e+18</td>\n",
       "      <td>302.738669</td>\n",
       "      <td>0.009251</td>\n",
       "      <td>24.014045</td>\n",
       "      <td>0.010056</td>\n",
       "      <td>-1.899784</td>\n",
       "      <td>0.010637</td>\n",
       "      <td>-5.130046</td>\n",
       "      <td>0.011925</td>\n",
       "      <td>-0.072106</td>\n",
       "      <td>...</td>\n",
       "      <td>13.737948</td>\n",
       "      <td>2.628884</td>\n",
       "      <td>-3.933907</td>\n",
       "      <td>1.064926</td>\n",
       "      <td>-177.727346</td>\n",
       "      <td>-80.383723</td>\n",
       "      <td>-35.807531</td>\n",
       "      <td>181.298618</td>\n",
       "      <td>0</td>\n",
       "      <td>312.383723</td>\n",
       "    </tr>\n",
       "    <tr>\n",
       "      <th>589</th>\n",
       "      <td>1.833590e+18</td>\n",
       "      <td>302.711956</td>\n",
       "      <td>0.014754</td>\n",
       "      <td>24.045495</td>\n",
       "      <td>0.015232</td>\n",
       "      <td>-2.916555</td>\n",
       "      <td>0.017104</td>\n",
       "      <td>-5.268033</td>\n",
       "      <td>0.018684</td>\n",
       "      <td>-0.127595</td>\n",
       "      <td>...</td>\n",
       "      <td>12.831676</td>\n",
       "      <td>3.184610</td>\n",
       "      <td>-16.689116</td>\n",
       "      <td>0.600616</td>\n",
       "      <td>-125.610253</td>\n",
       "      <td>-64.969656</td>\n",
       "      <td>-1.336542</td>\n",
       "      <td>125.617364</td>\n",
       "      <td>0</td>\n",
       "      <td>296.969656</td>\n",
       "    </tr>\n",
       "    <tr>\n",
       "      <th>590</th>\n",
       "      <td>1.833591e+18</td>\n",
       "      <td>302.655948</td>\n",
       "      <td>0.007918</td>\n",
       "      <td>24.022679</td>\n",
       "      <td>0.008673</td>\n",
       "      <td>-0.750306</td>\n",
       "      <td>0.009100</td>\n",
       "      <td>-3.398633</td>\n",
       "      <td>0.010231</td>\n",
       "      <td>-0.070095</td>\n",
       "      <td>...</td>\n",
       "      <td>13.334745</td>\n",
       "      <td>1.948939</td>\n",
       "      <td>-1.028847</td>\n",
       "      <td>0.782100</td>\n",
       "      <td>-41.781086</td>\n",
       "      <td>-5.941658</td>\n",
       "      <td>-7.591756</td>\n",
       "      <td>42.465208</td>\n",
       "      <td>0</td>\n",
       "      <td>237.941658</td>\n",
       "    </tr>\n",
       "  </tbody>\n",
       "</table>\n",
       "<p>552 rows × 22 columns</p>\n",
       "</div>"
      ],
      "text/plain": [
       "        source_id          ra  ra_error        dec  dec_error       pmra  \\\n",
       "0    3.189432e+18   63.032343  0.013695 -12.118837   0.012714  -6.449587   \n",
       "1    3.189440e+18   63.147321  0.038085 -12.053509   0.030295  17.961836   \n",
       "3    2.471977e+18   20.144456  0.023063  -8.872362   0.017459  75.216503   \n",
       "4    2.471978e+18   20.156585  0.019501  -8.827725   0.013724  15.430254   \n",
       "5    4.890596e+18   62.598973  0.006453 -25.771897   0.009285  12.649115   \n",
       "..            ...         ...       ...        ...        ...        ...   \n",
       "586  1.833590e+18  302.685519  0.010022  23.999862   0.010915  -0.372788   \n",
       "587  1.833590e+18  302.708357  0.009061  24.016987   0.009434  -3.497907   \n",
       "588  1.833590e+18  302.738669  0.009251  24.014045   0.010056  -1.899784   \n",
       "589  1.833590e+18  302.711956  0.014754  24.045495   0.015232  -2.916555   \n",
       "590  1.833591e+18  302.655948  0.007918  24.022679   0.008673  -0.750306   \n",
       "\n",
       "     pmra_error      pmdec  pmdec_error  pmra_pmdec_corr  ...  \\\n",
       "0      0.016815 -10.750589     0.016687         0.018852  ...   \n",
       "1      0.044886  -6.614329     0.038475        -0.110601  ...   \n",
       "3      0.031480 -15.498916     0.019502         0.499377  ...   \n",
       "4      0.027197  -9.424502     0.016023         0.531574  ...   \n",
       "5      0.008598  13.180861     0.012657        -0.453528  ...   \n",
       "..          ...        ...          ...              ...  ...   \n",
       "586    0.011480  -2.403061     0.012906        -0.029631  ...   \n",
       "587    0.010459  -6.716860     0.011292         0.025704  ...   \n",
       "588    0.010637  -5.130046     0.011925        -0.072106  ...   \n",
       "589    0.017104  -5.268033     0.018684        -0.127595  ...   \n",
       "590    0.009100  -3.398633     0.010231        -0.070095  ...   \n",
       "\n",
       "     phot_g_mean_mag     bp_rp  dr2_radial_velocity  \\\n",
       "0          11.260073  0.771560             4.687665   \n",
       "1          11.878635  1.048296            21.304344   \n",
       "3          11.587500  0.851440            14.657644   \n",
       "4          11.687765  1.141704             7.125475   \n",
       "5           9.783724  0.666553            29.874018   \n",
       "..               ...       ...                  ...   \n",
       "586        12.936925  2.057656            18.921799   \n",
       "587        13.568626  2.416790            23.487917   \n",
       "588        13.737948  2.628884            -3.933907   \n",
       "589        12.831676  3.184610           -16.689116   \n",
       "590        13.334745  1.948939            -1.028847   \n",
       "\n",
       "     dr2_radial_velocity_error           U          V          W           T  \\\n",
       "0                     0.725956  -14.527353   8.499058  -4.568251   15.228687   \n",
       "1                     0.654505    7.911635  -8.413707   1.950579    8.148541   \n",
       "3                     1.197960   44.409299 -36.835483  -3.925566   44.582462   \n",
       "4                     0.996812   21.559445 -48.303929  -4.914120   22.112400   \n",
       "5                     0.575682   16.442726  -0.981120  -7.898591   18.241463   \n",
       "..                         ...         ...        ...        ...         ...   \n",
       "586                   0.470167  -43.639656  15.422443  -8.711134   44.500600   \n",
       "587                   1.332360 -154.924803 -35.478746  -9.726123  155.229804   \n",
       "588                   1.064926 -177.727346 -80.383723 -35.807531  181.298618   \n",
       "589                   0.600616 -125.610253 -64.969656  -1.336542  125.617364   \n",
       "590                   0.782100  -41.781086  -5.941658  -7.591756   42.465208   \n",
       "\n",
       "     Prograde       V-232  \n",
       "0           1  223.500942  \n",
       "1           0  240.413707  \n",
       "3           0  268.835483  \n",
       "4           0  280.303929  \n",
       "5           0  232.981120  \n",
       "..        ...         ...  \n",
       "586         1  216.577557  \n",
       "587         0  267.478746  \n",
       "588         0  312.383723  \n",
       "589         0  296.969656  \n",
       "590         0  237.941658  \n",
       "\n",
       "[552 rows x 22 columns]"
      ]
     },
     "execution_count": 53,
     "metadata": {},
     "output_type": "execute_result"
    }
   ],
   "source": [
    "stars_table_df"
   ]
  },
  {
   "cell_type": "code",
   "execution_count": 54,
   "metadata": {},
   "outputs": [],
   "source": [
    "import csv\n",
    "\n",
    "with open(\"star_data/filtered_stars.csv\",\"w+\") as my_csv:\n",
    "    newarray = csv.writer(my_csv,delimiter=',')\n",
    "    newarray.writerow(['source_id','ra', 'ra_error', 'dec', 'dec_error', 'pmra','pmra_error', 'pmdec','pmdec_error','pmra_pmdec_corr', 'parallax', 'parallax_error', 'phot_g_mean_mag', 'bp_rp', 'dr2_radial_velocity', 'dr2_radial_velocity_error', 'U', 'V', 'W', 'T', 'Prograde', 'V-500'])\n",
    "    newarray.writerows(stars_table)"
   ]
  },
  {
   "cell_type": "code",
   "execution_count": 55,
   "metadata": {},
   "outputs": [
    {
     "data": {
      "text/plain": [
       "(array([420.,   0.,   0.,   0.,   0.,   0.,   0.,   0.,   0., 171.]),\n",
       " array([0. , 0.1, 0.2, 0.3, 0.4, 0.5, 0.6, 0.7, 0.8, 0.9, 1. ]),\n",
       " <BarContainer object of 10 artists>)"
      ]
     },
     "execution_count": 55,
     "metadata": {},
     "output_type": "execute_result"
    },
    {
     "data": {
      "image/png": "[encoded data removed]",
      "text/plain": [
       "<Figure size 1600x900 with 1 Axes>"
      ]
     },
     "metadata": {},
     "output_type": "display_data"
    }
   ],
   "source": [
    "counts, bins = np.histogram(stars_table[\"Prograde\"])\n",
    "\n",
    "plt.hist(bins[:-1], bins, weights=counts)\n",
    "\n"
   ]
  },
  {
   "cell_type": "code",
   "execution_count": 56,
   "metadata": {},
   "outputs": [],
   "source": [
    "# counts, bins = np.histogram(Mg_H)\n",
    "\n",
    "# plt.hist(bins[:-1], bins, weights=counts)"
   ]
  },
  {
   "cell_type": "code",
   "execution_count": 57,
   "metadata": {},
   "outputs": [
    {
     "data": {
      "image/png": "[encoded data removed]",
      "text/plain": [
       "<Figure size 1600x900 with 1 Axes>"
      ]
     },
     "metadata": {},
     "output_type": "display_data"
    }
   ],
   "source": [
    "plt.scatter(stars_table_df[\"V\"], stars_table_df[\"T\"], marker='.', color='r')\n",
    "plt.xlabel('Velocity in the direction of rotation V', fontsize=20)\n",
    "plt.ylabel( r'T = $\\sqrt{U^2 + W^2}$', fontsize=20)\n",
    "\n",
    "plt.xlim(-600,  400)\n",
    "plt.ylim(0, 450)\n",
    "plt.show()\n",
    "\n",
    "plt.show()"
   ]
  },
  {
   "cell_type": "code",
   "execution_count": 35,
   "metadata": {},
   "outputs": [],
   "source": [
    "# Questions\n",
    "\n",
    "# how to write those in the file? \n",
    "# how to retrograde vs prograde split? \n",
    "# how to save uvw data into the file to not re-run?\n",
    "# how to save all the values including retrograd vs prograd?\n",
    "# \n",
    "# how to plot histogram retrograd vs prograd\n",
    "#\n",
    "# how to on top of that plot histogram mag vs iron for each star\n",
    "# how to put the code in classes to not be so messy ?\n",
    "\n",
    "# magn. abundances\n",
    "# histogram mag vs iron \n",
    "# retrograde vs prograde histogram on top ^\n",
    "# [Mg/H] = [Mg/Fe] - [Fe/H]\n",
    "# [Mg/H] = [Mg/Fe] - [Fe/H]\n",
    "# Histogram of [Mg/Fe]\n",
    "# [Mg/H] vs. [Fe/H] different colors/symbols for prograde vs. retrograde\n",
    "# "
   ]
  },
  {
   "cell_type": "code",
   "execution_count": null,
   "metadata": {},
   "outputs": [],
   "source": []
  }
 ],
 "metadata": {
  "kernelspec": {
   "display_name": "Python 3 (ipykernel)",
   "language": "python",
   "name": "python3"
  },
  "language_info": {
   "codemirror_mode": {
    "name": "ipython",
    "version": 3
   },
   "file_extension": ".py",
   "mimetype": "text/x-python",
   "name": "python",
   "nbconvert_exporter": "python",
   "pygments_lexer": "ipython3",
   "version": "3.10.9"
  }
 },
 "nbformat": 4,
 "nbformat_minor": 4
}
